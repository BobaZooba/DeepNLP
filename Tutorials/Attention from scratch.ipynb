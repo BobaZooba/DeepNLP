{
 "cells": [
  {
   "cell_type": "code",
   "execution_count": 1,
   "metadata": {},
   "outputs": [],
   "source": [
    "import torch\n",
    "from matplotlib import pyplot as plt\n",
    "import seaborn as sns"
   ]
  },
  {
   "cell_type": "markdown",
   "metadata": {},
   "source": [
    "## Небольшая вводная"
   ]
  },
  {
   "cell_type": "code",
   "execution_count": 2,
   "metadata": {},
   "outputs": [],
   "source": [
    "ENCODER_WORDS = 2\n",
    "DECODER_WORDS = 3\n",
    "EMBEDDING_DIM = 4"
   ]
  },
  {
   "cell_type": "markdown",
   "metadata": {},
   "source": [
    "- 2 слова в энкодере\n",
    "- 3 слова в декодере\n",
    "- 4 - размер эмбеддинга"
   ]
  },
  {
   "cell_type": "code",
   "execution_count": 3,
   "metadata": {},
   "outputs": [
    {
     "data": {
      "text/plain": [
       "(torch.Size([3, 4]), torch.Size([2, 4]))"
      ]
     },
     "execution_count": 3,
     "metadata": {},
     "output_type": "execute_result"
    }
   ],
   "source": [
    "encoder_hidden = torch.rand(ENCODER_WORDS, EMBEDDING_DIM)\n",
    "decoder_hidden = torch.rand(DECODER_WORDS, EMBEDDING_DIM)\n",
    "decoder_hidden.shape, encoder_hidden.shape"
   ]
  },
  {
   "cell_type": "code",
   "execution_count": 4,
   "metadata": {},
   "outputs": [
    {
     "data": {
      "text/plain": [
       "tensor([[0.6749, 0.1004, 0.2675, 0.1268],\n",
       "        [0.5108, 0.0814, 0.6243, 0.5729]])"
      ]
     },
     "execution_count": 4,
     "metadata": {},
     "output_type": "execute_result"
    }
   ],
   "source": [
    "encoder_hidden"
   ]
  },
  {
   "cell_type": "code",
   "execution_count": 5,
   "metadata": {},
   "outputs": [
    {
     "data": {
      "text/plain": [
       "tensor([[0.5800, 0.3572, 0.7303, 0.2768],\n",
       "        [0.0318, 0.7207, 0.3617, 0.4395],\n",
       "        [0.0010, 0.9457, 0.4492, 0.6747]])"
      ]
     },
     "execution_count": 5,
     "metadata": {},
     "output_type": "execute_result"
    }
   ],
   "source": [
    "decoder_hidden"
   ]
  },
  {
   "cell_type": "markdown",
   "metadata": {},
   "source": [
    "# Скалярное произведение\n",
    "*dot product, matmul, matrix multiplication*  \n",
    "Может выступать в качестве меры схожести векторов. Чем больше скалярное произведение двух вектор, тем больше они похожи\n",
    "![](https://wikimedia.org/api/rest_v1/media/math/render/svg/69f8ac1d2b7ffb9ef70bb6b151a4b931f20087a5)"
   ]
  },
  {
   "cell_type": "code",
   "execution_count": 6,
   "metadata": {},
   "outputs": [
    {
     "name": "stdout",
     "output_type": "stream",
     "text": [
      "Скалярное произведение между первым и вторым векторами: 18.0\n",
      "Скалярное произведение между первым и третьим векторами: -10.0\n",
      "Скалярное произведение между вторым и третьим векторами: -16.0\n",
      "\n",
      "Скалярное произведение первого вектора с самим собой: 14.0\n",
      "Скалярное произведение второго вектора с самим собой: 24.0\n",
      "Скалярное произведение третьего вектора с самим собой: 24.0\n"
     ]
    }
   ],
   "source": [
    "x1 = torch.Tensor([1, 2, 3])\n",
    "x2 = torch.Tensor([2, 2, 4])\n",
    "x3 = torch.Tensor([-2, 2, -4])\n",
    "\n",
    "print('Скалярное произведение между первым и вторым векторами: {}'.format((x1 * x2).sum().item()))\n",
    "print('Скалярное произведение между первым и третьим векторами: {}'.format((x1 * x3).sum().item()))\n",
    "print('Скалярное произведение между вторым и третьим векторами: {}'.format((x2 * x3).sum().item()))\n",
    "print()\n",
    "print('Скалярное произведение первого вектора с самим собой: {}'.format((x1 * x1).sum().item()))\n",
    "print('Скалярное произведение второго вектора с самим собой: {}'.format((x2 * x2).sum().item()))\n",
    "print('Скалярное произведение третьего вектора с самим собой: {}'.format((x3 * x3).sum().item()))"
   ]
  },
  {
   "cell_type": "markdown",
   "metadata": {},
   "source": [
    "### Косинусное расстояние это просто скалирование (деление) на нормы (расстояние до начала координат) векторов"
   ]
  },
  {
   "cell_type": "code",
   "execution_count": 7,
   "metadata": {},
   "outputs": [
    {
     "name": "stdout",
     "output_type": "stream",
     "text": [
      "Косинусная близость между первым и вторым векторами: 0.9819805026054382\n",
      "Косинусная близость между первым и первым векторами: 0.9999999403953552\n"
     ]
    }
   ],
   "source": [
    "print('Косинусная близость между первым и вторым векторами: {}'.format((x1 * x2).sum()/(x1.norm()*x2.norm()).item()))\n",
    "print('Косинусная близость между первым и первым векторами: {}'.format((x1 * x1).sum()/(x1.norm()*x1.norm()).item()))"
   ]
  },
  {
   "cell_type": "markdown",
   "metadata": {},
   "source": [
    "### Рассчитаем насколько каждое слово в декодере похоже на каждое слово в энкодере с помощью скалярного умножения векторов (каждый с каждым)"
   ]
  },
  {
   "cell_type": "code",
   "execution_count": 8,
   "metadata": {},
   "outputs": [],
   "source": [
    "attention_scores = torch.matmul(decoder_hidden, encoder_hidden.t())"
   ]
  },
  {
   "cell_type": "code",
   "execution_count": 9,
   "metadata": {},
   "outputs": [
    {
     "data": {
      "text/plain": [
       "tensor([[0.6578, 0.9398],\n",
       "        [0.2463, 0.5525],\n",
       "        [0.3014, 0.7444]])"
      ]
     },
     "execution_count": 9,
     "metadata": {},
     "output_type": "execute_result"
    }
   ],
   "source": [
    "attention_scores"
   ]
  },
  {
   "cell_type": "markdown",
   "metadata": {},
   "source": [
    "Напомню, что у нас:\n",
    "- 2 слова в энкодере\n",
    "- 3 слова в декодере"
   ]
  },
  {
   "cell_type": "code",
   "execution_count": 10,
   "metadata": {},
   "outputs": [
    {
     "data": {
      "text/plain": [
       "Text(87,0.5,'Слова декодера')"
      ]
     },
     "execution_count": 10,
     "metadata": {},
     "output_type": "execute_result"
    },
    {
     "data": {
      "image/png": "[encoded data removed]",
      "text/plain": [
       "<Figure size 864x864 with 2 Axes>"
      ]
     },
     "metadata": {},
     "output_type": "display_data"
    }
   ],
   "source": [
    "plt.figure(figsize=(12, 12))\n",
    "plt.title('Attention Scores')\n",
    "sns.heatmap(attention_scores.numpy(), annot=True, cmap=\"YlGnBu\")\n",
    "plt.xlabel('Слова энкодера')\n",
    "plt.ylabel('Слова декодера')"
   ]
  },
  {
   "cell_type": "code",
   "execution_count": 11,
   "metadata": {},
   "outputs": [
    {
     "data": {
      "text/plain": [
       "torch.Size([3, 2])"
      ]
     },
     "execution_count": 11,
     "metadata": {},
     "output_type": "execute_result"
    }
   ],
   "source": [
    "attention_scores.shape"
   ]
  },
  {
   "cell_type": "markdown",
   "metadata": {},
   "source": [
    "### То есть вектор ниже говорит о том, насколько нулевое слово в декодере похоже на нулевое и первое слово в энкодере"
   ]
  },
  {
   "cell_type": "code",
   "execution_count": 12,
   "metadata": {},
   "outputs": [
    {
     "data": {
      "text/plain": [
       "tensor([0.6578, 0.9398])"
      ]
     },
     "execution_count": 12,
     "metadata": {},
     "output_type": "execute_result"
    }
   ],
   "source": [
    "attention_scores[0]"
   ]
  },
  {
   "cell_type": "markdown",
   "metadata": {},
   "source": [
    "## Рассчитаем в долях насколько каждое слово в энкодере \"важно\" для отдельного слова в декодере, то есть по сути его долю, вклад, релеваность\n",
    "### Для этого нам поможет софтмакс по строкам"
   ]
  },
  {
   "cell_type": "code",
   "execution_count": 13,
   "metadata": {},
   "outputs": [],
   "source": [
    "attention_distribution = torch.softmax(attention_scores, 1)"
   ]
  },
  {
   "cell_type": "code",
   "execution_count": 14,
   "metadata": {},
   "outputs": [
    {
     "data": {
      "text/plain": [
       "tensor([[0.4300, 0.5700],\n",
       "        [0.4241, 0.5759],\n",
       "        [0.3910, 0.6090]])"
      ]
     },
     "execution_count": 14,
     "metadata": {},
     "output_type": "execute_result"
    }
   ],
   "source": [
    "attention_distribution"
   ]
  },
  {
   "cell_type": "code",
   "execution_count": 15,
   "metadata": {},
   "outputs": [
    {
     "data": {
      "text/plain": [
       "tensor([1., 1., 1.])"
      ]
     },
     "execution_count": 15,
     "metadata": {},
     "output_type": "execute_result"
    }
   ],
   "source": [
    "# в сумме должны получить вектор из единиц размером количество слов в декодере\n",
    "attention_distribution.sum(1)"
   ]
  },
  {
   "cell_type": "code",
   "execution_count": 16,
   "metadata": {},
   "outputs": [
    {
     "data": {
      "text/plain": [
       "Text(87,0.5,'Слова декодера')"
      ]
     },
     "execution_count": 16,
     "metadata": {},
     "output_type": "execute_result"
    },
    {
     "data": {
      "image/png": "[encoded data removed]",
      "text/plain": [
       "<Figure size 864x864 with 2 Axes>"
      ]
     },
     "metadata": {},
     "output_type": "display_data"
    }
   ],
   "source": [
    "plt.figure(figsize=(12, 12))\n",
    "plt.title('Attention Distribution')\n",
    "sns.heatmap(attention_distribution.numpy(), annot=True, cmap=\"YlGnBu\")\n",
    "plt.xlabel('Слова энкодера')\n",
    "plt.ylabel('Слова декодера')"
   ]
  },
  {
   "cell_type": "markdown",
   "metadata": {},
   "source": [
    "## Что это нам говорит"
   ]
  },
  {
   "cell_type": "code",
   "execution_count": 17,
   "metadata": {},
   "outputs": [
    {
     "name": "stdout",
     "output_type": "stream",
     "text": [
      "Доля памяти нулевого слова энкодера для нулевого слова из декодера: 43.00 %\n",
      "Доля памяти первого слова энкодера для нулевого слова из декодера: 57.00 %\n",
      "\n",
      "Доля памяти нулевого слова энкодера для первого слова из декодера: 42.41 %\n",
      "Доля памяти первого слова энкодера для первого слова из декодера: 57.59 %\n"
     ]
    }
   ],
   "source": [
    "c00 = attention_distribution[0][0].item()\n",
    "c01 = attention_distribution[0][1].item()\n",
    "\n",
    "print('Доля памяти нулевого слова энкодера для нулевого слова из декодера: {:.2f} %'.format(c00 * 100))\n",
    "print('Доля памяти первого слова энкодера для нулевого слова из декодера: {:.2f} %'.format(c01 * 100))\n",
    "\n",
    "print()\n",
    "\n",
    "c10 = attention_distribution[1][0].item()\n",
    "c11 = attention_distribution[1][1].item()\n",
    "\n",
    "print('Доля памяти нулевого слова энкодера для первого слова из декодера: {:.2f} %'.format(c10 * 100))\n",
    "print('Доля памяти первого слова энкодера для первого слова из декодера: {:.2f} %'.format(c11 * 100))"
   ]
  },
  {
   "cell_type": "markdown",
   "metadata": {},
   "source": [
    "### По сути эти цифры говорят насколько сильно для каждого слова декодера нам нужно обратить внимание на каждое слово из энкодера\n",
    "### Или как вспомнить каждое слово из энкодера в долях, в зависимости насколько оно важно для слова из декодера, то есть"
   ]
  },
  {
   "cell_type": "code",
   "execution_count": 18,
   "metadata": {},
   "outputs": [
    {
     "name": "stdout",
     "output_type": "stream",
     "text": [
      "Для первого слова декодера нужно вспомнить 42.41 % нулевого слова энкодера и 57.59 % первого слова энкодера\n",
      "Или\n",
      "Для первого слова декодера нулевое слова энкодера релевантно на 42.41 %, а первое слово энкодера на 57.59 %\n"
     ]
    }
   ],
   "source": [
    "print('Для первого слова декодера нужно вспомнить {:.2f} % нулевого слова энкодера и {:.2f} % первого слова энкодера'.format(\n",
    "    c10 * 100, c11 * 100))\n",
    "print('Или')\n",
    "print('Для первого слова декодера нулевое слова энкодера релевантно на {:.2f} %, а первое слово энкодера на {:.2f} %'.format(\n",
    "    c10 * 100, c11 * 100))"
   ]
  },
  {
   "cell_type": "markdown",
   "metadata": {},
   "source": [
    "### По сути у нас получились веса слов энкодера относительно слов декодера\n",
    "### Давайте для каждого слова в декодере составим комбинацию векторов слов энкодера с этими весами\n",
    "### Это называется вектором внимания, то есть мы для каждого слова декодера собираем все предложение из энкодера с весами, которые говорят на какую часть предложения энкодера нужно обратить больше внимания"
   ]
  },
  {
   "cell_type": "code",
   "execution_count": 19,
   "metadata": {},
   "outputs": [
    {
     "data": {
      "text/plain": [
       "tensor([[0.4300, 0.5700],\n",
       "        [0.4241, 0.5759],\n",
       "        [0.3910, 0.6090]])"
      ]
     },
     "execution_count": 19,
     "metadata": {},
     "output_type": "execute_result"
    }
   ],
   "source": [
    "# наша таблицу с весами\n",
    "attention_distribution"
   ]
  },
  {
   "cell_type": "code",
   "execution_count": 20,
   "metadata": {},
   "outputs": [
    {
     "data": {
      "text/plain": [
       "tensor([[0.6749, 0.1004, 0.2675, 0.1268],\n",
       "        [0.5108, 0.0814, 0.6243, 0.5729]])"
      ]
     },
     "execution_count": 20,
     "metadata": {},
     "output_type": "execute_result"
    }
   ],
   "source": [
    "# наши вектора слов энкодера\n",
    "encoder_hidden"
   ]
  },
  {
   "cell_type": "code",
   "execution_count": 21,
   "metadata": {},
   "outputs": [
    {
     "data": {
      "text/plain": [
       "tensor([[0.5800, 0.3572, 0.7303, 0.2768],\n",
       "        [0.0318, 0.7207, 0.3617, 0.4395],\n",
       "        [0.0010, 0.9457, 0.4492, 0.6747]])"
      ]
     },
     "execution_count": 21,
     "metadata": {},
     "output_type": "execute_result"
    }
   ],
   "source": [
    "# наши вектора слов декодера\n",
    "decoder_hidden"
   ]
  },
  {
   "cell_type": "markdown",
   "metadata": {},
   "source": [
    "### Составим вектор внимания для нулевого слова декодера"
   ]
  },
  {
   "cell_type": "code",
   "execution_count": 22,
   "metadata": {},
   "outputs": [
    {
     "data": {
      "text/plain": [
       "tensor([0.4300, 0.5700])"
      ]
     },
     "execution_count": 22,
     "metadata": {},
     "output_type": "execute_result"
    }
   ],
   "source": [
    "# веса слов энкодера для нулевого слова декодера\n",
    "attention_distribution[0]"
   ]
  },
  {
   "cell_type": "code",
   "execution_count": 23,
   "metadata": {},
   "outputs": [
    {
     "data": {
      "text/plain": [
       "(tensor(0.4300), tensor(0.5700))"
      ]
     },
     "execution_count": 23,
     "metadata": {},
     "output_type": "execute_result"
    }
   ],
   "source": [
    "# два веса на каждое из слов в энкодере\n",
    "attention_distribution[0][0], attention_distribution[0][1]"
   ]
  },
  {
   "cell_type": "code",
   "execution_count": 24,
   "metadata": {},
   "outputs": [
    {
     "data": {
      "text/plain": [
       "tensor([0.2902, 0.0432, 0.1150, 0.0545])"
      ]
     },
     "execution_count": 24,
     "metadata": {},
     "output_type": "execute_result"
    }
   ],
   "source": [
    "# домножим вектор нулевого слова энкодера на его вес (какую долю информации мы хотим взять от этого слова)\n",
    "attention_distribution[0][0] * encoder_hidden[0]"
   ]
  },
  {
   "cell_type": "code",
   "execution_count": 25,
   "metadata": {},
   "outputs": [
    {
     "data": {
      "text/plain": [
       "tensor([0.2912, 0.0464, 0.3559, 0.3266])"
      ]
     },
     "execution_count": 25,
     "metadata": {},
     "output_type": "execute_result"
    }
   ],
   "source": [
    "# тоже самое для первого слова в энкодере\n",
    "attention_distribution[0][1] * encoder_hidden[1]"
   ]
  },
  {
   "cell_type": "code",
   "execution_count": 26,
   "metadata": {},
   "outputs": [
    {
     "name": "stdout",
     "output_type": "stream",
     "text": [
      "Для нулевого слова декодера нужно вспомнить 43.00 % нулевого слова энкодера и 57.00 % первого слова энкодера\n"
     ]
    }
   ],
   "source": [
    "print('Для нулевого слова декодера нужно вспомнить {:.2f} % нулевого слова энкодера и {:.2f} % первого слова энкодера'.format(\n",
    "    c00 * 100, c01 * 100))"
   ]
  },
  {
   "cell_type": "code",
   "execution_count": 27,
   "metadata": {},
   "outputs": [],
   "source": [
    "# теперь давайте эту информацию сложим\n",
    "# то есть возьмем часть от нулевого слова и часть от первого\n",
    "# эти части зависят от того насколько для текущего слова декодера нам важные слова энкодера\n",
    "attn_vec_0 = attention_distribution[0][0] * encoder_hidden[0] + attention_distribution[0][1] * encoder_hidden[1]"
   ]
  },
  {
   "cell_type": "code",
   "execution_count": 28,
   "metadata": {},
   "outputs": [
    {
     "data": {
      "text/plain": [
       "tensor([0.5813, 0.0896, 0.4709, 0.3811])"
      ]
     },
     "execution_count": 28,
     "metadata": {},
     "output_type": "execute_result"
    }
   ],
   "source": [
    "# получился вектор внимания нулевого слова декодера относительно слов энкодера\n",
    "attn_vec_0"
   ]
  },
  {
   "cell_type": "code",
   "execution_count": 29,
   "metadata": {},
   "outputs": [],
   "source": [
    "# сделаем тоже самое для остальных слов декодера\n",
    "# их у нас все еще 3\n",
    "attn_vec_1 = attention_distribution[1][0] * encoder_hidden[0] + attention_distribution[1][1] * encoder_hidden[1]\n",
    "attn_vec_2 = attention_distribution[2][0] * encoder_hidden[0] + attention_distribution[2][1] * encoder_hidden[1]"
   ]
  },
  {
   "cell_type": "code",
   "execution_count": 30,
   "metadata": {},
   "outputs": [],
   "source": [
    "# сделаем массив для векторов внимания, в нем должно быть количество векторов равное количеству слов в декодере\n",
    "# потому что мы считаем вектора внимания для каждого слова в декодере, а \"обращать внимание\" будем на слова в энкодере\n",
    "attention_vectors = [attn_vec_0, attn_vec_1, attn_vec_2]"
   ]
  },
  {
   "cell_type": "code",
   "execution_count": 31,
   "metadata": {},
   "outputs": [],
   "source": [
    "# теперь давайте переведем массив в матрицу\n",
    "# добавим в каждый вектор нулевую размерность\n",
    "# и по этой размерности сконкатенируем\n",
    "attention_vectors = torch.cat([vec.unsqueeze(0) for vec in attention_vectors], dim=0)"
   ]
  },
  {
   "cell_type": "code",
   "execution_count": 32,
   "metadata": {},
   "outputs": [
    {
     "data": {
      "text/plain": [
       "tensor([[0.5813, 0.0896, 0.4709, 0.3811],\n",
       "        [0.5804, 0.0895, 0.4730, 0.3837],\n",
       "        [0.5749, 0.0888, 0.4848, 0.3985]])"
      ]
     },
     "execution_count": 32,
     "metadata": {},
     "output_type": "execute_result"
    }
   ],
   "source": [
    "# вот что у нас получилось\n",
    "# это просто несколько комбинаций векторов энкодера\n",
    "attention_vectors"
   ]
  },
  {
   "cell_type": "code",
   "execution_count": 33,
   "metadata": {},
   "outputs": [
    {
     "data": {
      "text/plain": [
       "torch.Size([3, 4])"
      ]
     },
     "execution_count": 33,
     "metadata": {},
     "output_type": "execute_result"
    }
   ],
   "source": [
    "# посмотрим размерность\n",
    "attention_vectors.shape"
   ]
  },
  {
   "cell_type": "code",
   "execution_count": 34,
   "metadata": {},
   "outputs": [
    {
     "data": {
      "text/plain": [
       "True"
      ]
     },
     "execution_count": 34,
     "metadata": {},
     "output_type": "execute_result"
    }
   ],
   "source": [
    "# убедимся, что она такая же, что и у декодера\n",
    "decoder_hidden.shape == attention_vectors.shape\n",
    "# этого мы и хотели добиться"
   ]
  },
  {
   "cell_type": "markdown",
   "metadata": {},
   "source": [
    "### Теперь для каждого слова декодера у нас есть вектора внимания, в которых находится наиболее релевантная информация от конкретного слова в декодере к каждому слову в энкодере\n",
    "### То есть в каждом векторе внимания у нас есть информация обо всем предложение энкодера\n",
    "### То есть каждый вектор внимания вбирает в себя наиболее полезную(взвешенную) комбинацию слов в предложении\n",
    "### Теперь мы можем скомбинировать вектора декодера и вектора внимания! И таким образом у нас будет больше полезной информации и меньше шанс, что мы забудем что-то из энкодера"
   ]
  },
  {
   "cell_type": "code",
   "execution_count": 35,
   "metadata": {},
   "outputs": [],
   "source": [
    "# можно либо конкатенировать\n",
    "output_vectors = torch.cat([decoder_hidden, attention_vectors], dim=1)"
   ]
  },
  {
   "cell_type": "code",
   "execution_count": 36,
   "metadata": {},
   "outputs": [
    {
     "data": {
      "text/plain": [
       "torch.Size([3, 8])"
      ]
     },
     "execution_count": 36,
     "metadata": {},
     "output_type": "execute_result"
    }
   ],
   "source": [
    "# теперь размерность эмбеддинга каждого слова декодера стала в два раза больше\n",
    "output_vectors.shape"
   ]
  },
  {
   "cell_type": "code",
   "execution_count": 37,
   "metadata": {},
   "outputs": [],
   "source": [
    "# либо складывать\n",
    "output_vectors = decoder_hidden + attention_vectors"
   ]
  },
  {
   "cell_type": "code",
   "execution_count": 38,
   "metadata": {},
   "outputs": [
    {
     "data": {
      "text/plain": [
       "torch.Size([3, 4])"
      ]
     },
     "execution_count": 38,
     "metadata": {},
     "output_type": "execute_result"
    }
   ],
   "source": [
    "output_vectors.shape"
   ]
  },
  {
   "cell_type": "markdown",
   "metadata": {},
   "source": [
    "### Теперь по этим векторам мы можем лучше предсказать слово для задачи seq2seq\n",
    "### Например, слово на языке декодера"
   ]
  },
  {
   "cell_type": "markdown",
   "metadata": {},
   "source": [
    "### Матрицу attention_vectors мы, на самом деле, можем получить значительно проще\n",
    "### Так как нам нужные линейные комбинации векторов, то это опять-таки скалярное произведение матриц"
   ]
  },
  {
   "cell_type": "code",
   "execution_count": 39,
   "metadata": {},
   "outputs": [],
   "source": [
    "attention_vectors_new = torch.matmul(attention_distribution, encoder_hidden)"
   ]
  },
  {
   "cell_type": "code",
   "execution_count": 40,
   "metadata": {},
   "outputs": [
    {
     "data": {
      "text/plain": [
       "(tensor([[0.5813, 0.0896, 0.4709, 0.3811],\n",
       "         [0.5804, 0.0895, 0.4730, 0.3837],\n",
       "         [0.5749, 0.0888, 0.4848, 0.3985]]), 0.0)"
      ]
     },
     "execution_count": 40,
     "metadata": {},
     "output_type": "execute_result"
    }
   ],
   "source": [
    "# мы получили ту же самую матрицу\n",
    "attention_vectors_new, (attention_vectors_new - attention_vectors).sum().item()\n",
    "\n",
    "# вы можете выписать на листок перемножение матриц attention_distribution и encoder_hidden\n",
    "# и проверить"
   ]
  },
  {
   "cell_type": "markdown",
   "metadata": {},
   "source": [
    "# Еще раз в кратце"
   ]
  },
  {
   "cell_type": "code",
   "execution_count": 41,
   "metadata": {},
   "outputs": [],
   "source": [
    "# есть представления слов энкодера\n",
    "encoder_hidden\n",
    "\n",
    "# есть представления слов декодера\n",
    "decoder_hidden\n",
    "\n",
    "# мы хотим понять насколько каждое слово в декодере похоже на каждое слово в энкодере\n",
    "# сделаем это через скалярное произведение матриц\n",
    "attention_scores = torch.matmul(decoder_hidden, encoder_hidden.t())\n",
    "\n",
    "# далее для каждого слова из декодера (каждой строки матрицы attention_scores)\n",
    "# посчитаем \"вклад\"/\"долю\"/\"важность\"/\"вес\" с помощью софтмакса по строкам\n",
    "# то есть для каждой строки (для каждого слова декодера) у нас будет распределение важности слов энкодера\n",
    "attention_distribution = torch.softmax(attention_scores, 1)\n",
    "\n",
    "# возьмем взвешенную сумму вектором энкодера\n",
    "# веса мы посчитали в attention_distribution\n",
    "# если вы не понимаете почему у нас это получилось\n",
    "# вернитесь выше или распишите на листочке\n",
    "attention_vectors = torch.matmul(attention_distribution, encoder_hidden)\n",
    "\n",
    "# скомбинируем вектора декодера и вектора внимания слов энкодера к этим словам декодера\n",
    "decoder_with_attention = torch.cat([decoder_hidden, attention_vectors], dim=1)"
   ]
  },
  {
   "cell_type": "code",
   "execution_count": 42,
   "metadata": {},
   "outputs": [
    {
     "data": {
      "text/plain": [
       "torch.Size([3, 8])"
      ]
     },
     "execution_count": 42,
     "metadata": {},
     "output_type": "execute_result"
    }
   ],
   "source": [
    "decoder_with_attention.shape"
   ]
  },
  {
   "cell_type": "markdown",
   "metadata": {},
   "source": [
    "### Но у нас же батчи!"
   ]
  },
  {
   "cell_type": "code",
   "execution_count": 45,
   "metadata": {},
   "outputs": [],
   "source": [
    "# для батчей нужно использовать bmm вместо matmul\n",
    "# Performs a batch matrix-matrix product of matrices stored in :attr:`input` and :attr:`mat2`\n",
    "\n",
    "BATCH_SIZE = 32\n",
    "\n",
    "encoder_hidden = torch.rand(BATCH_SIZE, ENCODER_WORDS, EMBEDDING_DIM)\n",
    "decoder_hidden = torch.rand(BATCH_SIZE, DECODER_WORDS, EMBEDDING_DIM)\n",
    "\n",
    "# .transpose(1, 2) тоже транспонирование, только явно указываем \n",
    "attention_scores = torch.bmm(decoder_hidden, encoder_hidden.transpose(1, 2))\n",
    "\n",
    "# заметим, что у нас добавилась одна размерность и поэтому чуть меняем софтмакс\n",
    "attention_distribution = torch.softmax(attention_scores, 2)\n",
    "attention_vectors = torch.bmm(attention_distribution, encoder_hidden)\n",
    "\n",
    "decoder_with_attention = torch.cat([decoder_hidden, attention_vectors], dim=-1)"
   ]
  },
  {
   "cell_type": "code",
   "execution_count": 46,
   "metadata": {},
   "outputs": [
    {
     "data": {
      "text/plain": [
       "torch.Size([32, 3, 8])"
      ]
     },
     "execution_count": 46,
     "metadata": {},
     "output_type": "execute_result"
    }
   ],
   "source": [
    "decoder_with_attention.shape"
   ]
  },
  {
   "cell_type": "code",
   "execution_count": null,
   "metadata": {},
   "outputs": [],
   "source": []
  }
 ],
 "metadata": {
  "kernelspec": {
   "display_name": "Python 3",
   "language": "python",
   "name": "python3"
  },
  "language_info": {
   "codemirror_mode": {
    "name": "ipython",
    "version": 3
   },
   "file_extension": ".py",
   "mimetype": "text/x-python",
   "name": "python",
   "nbconvert_exporter": "python",
   "pygments_lexer": "ipython3",
   "version": "3.7.3"
  }
 },
 "nbformat": 4,
 "nbformat_minor": 2
}
