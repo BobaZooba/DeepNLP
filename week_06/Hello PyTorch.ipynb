{
 "cells": [
  {
   "cell_type": "code",
   "execution_count": 1,
   "metadata": {},
   "outputs": [],
   "source": [
    "import numpy as np\n",
    "import torch\n",
    "\n",
    "from sklearn.metrics import accuracy_score\n",
    "import matplotlib.pyplot as plt\n",
    "\n",
    "import time"
   ]
  },
  {
   "cell_type": "markdown",
   "metadata": {},
   "source": [
    "# Туториал знакомство с торчем\n",
    "Начнем с MLP на нумпае и постепенно будем заменять части кода на нумпае на торчовый код  \n",
    "Вы можете перейти сразу к правильному использованию торча [сюда](#Как-делать-правильно), заглянув в секцию про батчеварки [здесь](#Будем-по-кускам-переделывать-на-торч)"
   ]
  },
  {
   "cell_type": "markdown",
   "metadata": {},
   "source": [
    "### PyTorch очень похож на numpy"
   ]
  },
  {
   "cell_type": "code",
   "execution_count": 2,
   "metadata": {},
   "outputs": [],
   "source": [
    "x = np.random.rand(4, 3)\n",
    "w = np.random.rand(3, 1)"
   ]
  },
  {
   "cell_type": "code",
   "execution_count": 3,
   "metadata": {},
   "outputs": [
    {
     "data": {
      "text/plain": [
       "(4, 3)"
      ]
     },
     "execution_count": 3,
     "metadata": {},
     "output_type": "execute_result"
    }
   ],
   "source": [
    "x.shape"
   ]
  },
  {
   "cell_type": "code",
   "execution_count": 4,
   "metadata": {},
   "outputs": [
    {
     "data": {
      "text/plain": [
       "array([[0.47711627, 0.09953299, 0.94232623],\n",
       "       [0.93894947, 0.86934612, 0.6599021 ],\n",
       "       [0.39275251, 0.14971751, 0.29448905],\n",
       "       [0.2125049 , 0.07542634, 0.84848599]])"
      ]
     },
     "execution_count": 4,
     "metadata": {},
     "output_type": "execute_result"
    }
   ],
   "source": [
    "x"
   ]
  },
  {
   "cell_type": "code",
   "execution_count": 5,
   "metadata": {},
   "outputs": [
    {
     "data": {
      "text/plain": [
       "array([[2.38558135, 0.49766495, 4.71163117],\n",
       "       [4.69474735, 4.34673059, 3.29951052],\n",
       "       [1.96376253, 0.74858756, 1.47244524],\n",
       "       [1.06252451, 0.37713168, 4.24242993]])"
      ]
     },
     "execution_count": 5,
     "metadata": {},
     "output_type": "execute_result"
    }
   ],
   "source": [
    "x * 5"
   ]
  },
  {
   "cell_type": "code",
   "execution_count": 6,
   "metadata": {},
   "outputs": [
    {
     "data": {
      "text/plain": [
       "array([[0.70475621, 0.10943981, 1.83030496],\n",
       "       [1.82057558, 1.62510879, 1.09537289],\n",
       "       [0.54700704, 0.17213285, 0.38121285],\n",
       "       [0.25766324, 0.08111547, 1.56841446]])"
      ]
     },
     "execution_count": 6,
     "metadata": {},
     "output_type": "execute_result"
    }
   ],
   "source": [
    "x + x ** 2"
   ]
  },
  {
   "cell_type": "code",
   "execution_count": 7,
   "metadata": {},
   "outputs": [],
   "source": [
    "z = np.dot(x, w)"
   ]
  },
  {
   "cell_type": "code",
   "execution_count": 8,
   "metadata": {},
   "outputs": [
    {
     "data": {
      "text/plain": [
       "array([[0.81409428],\n",
       "       [1.35568123],\n",
       "       [0.49066242],\n",
       "       [0.55857986]])"
      ]
     },
     "execution_count": 8,
     "metadata": {},
     "output_type": "execute_result"
    }
   ],
   "source": [
    "z"
   ]
  },
  {
   "cell_type": "code",
   "execution_count": 9,
   "metadata": {},
   "outputs": [
    {
     "data": {
      "text/plain": [
       "(4, 1)"
      ]
     },
     "execution_count": 9,
     "metadata": {},
     "output_type": "execute_result"
    }
   ],
   "source": [
    "z.shape"
   ]
  },
  {
   "cell_type": "code",
   "execution_count": 10,
   "metadata": {},
   "outputs": [],
   "source": [
    "c = torch.rand(4, 3)\n",
    "v = torch.rand(3, 2)"
   ]
  },
  {
   "cell_type": "code",
   "execution_count": 11,
   "metadata": {},
   "outputs": [
    {
     "data": {
      "text/plain": [
       "tensor([[0.9808, 0.5019, 0.0453],\n",
       "        [0.3152, 0.7282, 0.5558],\n",
       "        [0.8525, 0.1513, 0.0947],\n",
       "        [0.8147, 0.0927, 0.9295]])"
      ]
     },
     "execution_count": 11,
     "metadata": {},
     "output_type": "execute_result"
    }
   ],
   "source": [
    "c"
   ]
  },
  {
   "cell_type": "code",
   "execution_count": 12,
   "metadata": {},
   "outputs": [
    {
     "data": {
      "text/plain": [
       "tensor([[4.9041, 2.5093, 0.2264],\n",
       "        [1.5759, 3.6409, 2.7792],\n",
       "        [4.2627, 0.7565, 0.4733],\n",
       "        [4.0737, 0.4635, 4.6473]])"
      ]
     },
     "execution_count": 12,
     "metadata": {},
     "output_type": "execute_result"
    }
   ],
   "source": [
    "c * 5"
   ]
  },
  {
   "cell_type": "code",
   "execution_count": 13,
   "metadata": {},
   "outputs": [
    {
     "data": {
      "text/plain": [
       "tensor([[1.8886, 0.5337, 0.0453],\n",
       "        [0.3183, 0.9329, 0.6089],\n",
       "        [1.3029, 0.1514, 0.0947],\n",
       "        [1.1738, 0.0927, 1.6231]])"
      ]
     },
     "execution_count": 13,
     "metadata": {},
     "output_type": "execute_result"
    }
   ],
   "source": [
    "c + c ** 5"
   ]
  },
  {
   "cell_type": "code",
   "execution_count": 14,
   "metadata": {},
   "outputs": [
    {
     "data": {
      "text/plain": [
       "tensor([[1.2027, 1.0812],\n",
       "        [1.2727, 1.2380],\n",
       "        [0.8415, 0.7695],\n",
       "        [1.3788, 1.4066]])"
      ]
     },
     "execution_count": 14,
     "metadata": {},
     "output_type": "execute_result"
    }
   ],
   "source": [
    "torch.matmul(c, v)"
   ]
  },
  {
   "cell_type": "code",
   "execution_count": 15,
   "metadata": {},
   "outputs": [],
   "source": [
    "# будет ошибка, потому что разные типы\n",
    "# c + x"
   ]
  },
  {
   "cell_type": "code",
   "execution_count": 16,
   "metadata": {},
   "outputs": [
    {
     "data": {
      "text/plain": [
       "(array([[1.45794497, 0.6013833 , 0.98761408],\n",
       "        [1.25412345, 1.59753362, 1.2157488 ],\n",
       "        [1.24528626, 0.30101925, 0.38914402],\n",
       "        [1.0272483 , 0.16811883, 1.77794627]]),\n",
       " tensor([[1.4579, 0.6014, 0.9876],\n",
       "         [1.2541, 1.5975, 1.2157],\n",
       "         [1.2453, 0.3010, 0.3891],\n",
       "         [1.0272, 0.1681, 1.7779]]))"
      ]
     },
     "execution_count": 16,
     "metadata": {},
     "output_type": "execute_result"
    }
   ],
   "source": [
    "# приведем к одному типу\n",
    "c.numpy() + x, c + torch.Tensor(x)"
   ]
  },
  {
   "cell_type": "code",
   "execution_count": 17,
   "metadata": {},
   "outputs": [],
   "source": [
    "from sklearn.datasets import make_classification\n",
    "from sklearn.model_selection import train_test_split"
   ]
  },
  {
   "cell_type": "code",
   "execution_count": 18,
   "metadata": {},
   "outputs": [],
   "source": [
    "x, y = make_classification(n_samples=50000, n_features=50, n_classes=2, n_clusters_per_class=2, n_informative=15)"
   ]
  },
  {
   "cell_type": "code",
   "execution_count": 19,
   "metadata": {},
   "outputs": [
    {
     "data": {
      "text/plain": [
       "((37500, 50), (12500, 50), (37500,), (12500,))"
      ]
     },
     "execution_count": 19,
     "metadata": {},
     "output_type": "execute_result"
    }
   ],
   "source": [
    "x_train, x_test, y_train, y_test = train_test_split(x, y)\n",
    "x_train.shape, x_test.shape, y_train.shape, y_test.shape"
   ]
  },
  {
   "cell_type": "code",
   "execution_count": 20,
   "metadata": {},
   "outputs": [
    {
     "data": {
      "text/plain": [
       "((37500, 50), (12500, 50), (37500, 1), (12500, 1))"
      ]
     },
     "execution_count": 20,
     "metadata": {},
     "output_type": "execute_result"
    }
   ],
   "source": [
    "y_train = np.expand_dims(y_train, axis=1)\n",
    "y_test = np.expand_dims(y_test, axis=1)\n",
    "x_train.shape, x_test.shape, y_train.shape, y_test.shape"
   ]
  },
  {
   "cell_type": "markdown",
   "metadata": {},
   "source": [
    "# Train"
   ]
  },
  {
   "cell_type": "code",
   "execution_count": 21,
   "metadata": {},
   "outputs": [],
   "source": [
    "batch_size = 256\n",
    "epochs = 50\n",
    "learning_rate = 0.005\n",
    "\n",
    "w1 = np.random.rand(50, 32) * 0.01\n",
    "b1 = np.zeros(32)\n",
    "\n",
    "w2 = np.random.rand(32, 1) * 0.01\n",
    "b2 = np.zeros(1)\n",
    "\n",
    "loss_per_epoch = []\n",
    "losses = []\n",
    "metric = []\n",
    "\n",
    "for n_epoch in range(epochs):\n",
    "    \n",
    "#     print(f'Epoch: {n_epoch + 1}')\n",
    "    \n",
    "    epoch_losses = []\n",
    "    epoch_predictions = []\n",
    "    epoch_targets = []\n",
    "\n",
    "    for n_batch in range(np.ceil(x_train.shape[0] / batch_size).astype(int)):\n",
    "\n",
    "        # семплирование батча данных\n",
    "        x_batch = x_train[n_batch * batch_size:(n_batch + 1) * batch_size]\n",
    "        y_batch = y_train[n_batch * batch_size:(n_batch + 1) * batch_size]\n",
    "\n",
    "        # forward\n",
    "        z1 = np.dot(x_batch, w1) + b1 # линейное преобразование\n",
    "        a1 = np.maximum(0, z1) # relu\n",
    "        z2 = np.dot(a1, w2) + b2 # линейное преобразование\n",
    "        y_hat = 1 / (1 + np.exp(-z2)) # сигмоида\n",
    "        \n",
    "        epoch_predictions.append(y_hat.squeeze())\n",
    "        epoch_targets.append(y_batch.squeeze())\n",
    "\n",
    "        # рассчет bce\n",
    "        loss = (-(y_batch * np.log(y_hat) + (1 - y_batch) * np.log(1 - y_hat))).mean()\n",
    "        epoch_losses.append(loss)\n",
    "\n",
    "        #backward\n",
    "        dLdy_hat = ((y_hat - y_batch) / (y_hat - y_hat ** 2)) / y_hat.shape[0]\n",
    "\n",
    "        dLdz2 = y_hat * (1 - y_hat) * dLdy_hat\n",
    "\n",
    "        dLda1 = np.dot(dLdz2, w2.T)\n",
    "        dLdw2 = np.dot(a1.T, dLdz2)\n",
    "        dLdb2 = dLdz2.sum(0)\n",
    "\n",
    "        dLdz1 = (a1 > 0) * dLda1\n",
    "\n",
    "        dLdw1 = np.dot(x_batch.T, dLdz1)\n",
    "        dLdb1 = dLdz1.sum(0)\n",
    "\n",
    "        # gradient descent\n",
    "        w2 = w2 - learning_rate * dLdw2\n",
    "        b2 = b2 - learning_rate * dLdb2\n",
    "\n",
    "        w1 = w1 - learning_rate * dLdw1\n",
    "        b1 = b1 - learning_rate * dLdb1\n",
    "        \n",
    "    epoch_predictions = np.concatenate(epoch_predictions)\n",
    "    epoch_targets = np.concatenate(epoch_targets)\n",
    "        \n",
    "    epoch_predictions[epoch_predictions >= 0.5] = 1\n",
    "    epoch_predictions[epoch_predictions < 0.5] = 0\n",
    "    \n",
    "    metric.append(accuracy_score(epoch_targets, epoch_predictions))\n",
    "    \n",
    "    losses.extend(epoch_losses)\n",
    "    loss_per_epoch.append(np.mean(epoch_losses))"
   ]
  },
  {
   "cell_type": "code",
   "execution_count": 22,
   "metadata": {},
   "outputs": [
    {
     "data": {
      "image/png": "[encoded data removed]",
      "text/plain": [
       "<Figure size 1008x864 with 1 Axes>"
      ]
     },
     "metadata": {
      "needs_background": "light"
     },
     "output_type": "display_data"
    }
   ],
   "source": [
    "plt.figure(figsize=(14, 12))\n",
    "plt.plot(losses)\n",
    "plt.grid()\n",
    "plt.title('Training process')\n",
    "plt.xlabel('Iterations')\n",
    "plt.ylabel('Loss function')\n",
    "plt.ylim(0);"
   ]
  },
  {
   "cell_type": "code",
   "execution_count": 23,
   "metadata": {},
   "outputs": [
    {
     "data": {
      "image/png": "[encoded data removed]",
      "text/plain": [
       "<Figure size 1008x864 with 1 Axes>"
      ]
     },
     "metadata": {
      "needs_background": "light"
     },
     "output_type": "display_data"
    }
   ],
   "source": [
    "plt.figure(figsize=(14, 12))\n",
    "plt.plot(loss_per_epoch, label='loss')\n",
    "plt.plot(metric, label='accuracy')\n",
    "plt.legend()\n",
    "plt.grid()\n",
    "plt.title('Training process')\n",
    "plt.xlabel('Iterations')\n",
    "plt.ylabel('Metric value')\n",
    "plt.ylim(0, 1.01);"
   ]
  },
  {
   "cell_type": "markdown",
   "metadata": {},
   "source": [
    "# Test"
   ]
  },
  {
   "cell_type": "code",
   "execution_count": 24,
   "metadata": {},
   "outputs": [
    {
     "data": {
      "text/plain": [
       "'Test loss: 0.232 | accuracy: 0.91'"
      ]
     },
     "execution_count": 24,
     "metadata": {},
     "output_type": "execute_result"
    }
   ],
   "source": [
    "epoch_losses = []\n",
    "epoch_predictions = []\n",
    "epoch_targets = []\n",
    "\n",
    "for n_batch in range(np.ceil(x_train.shape[0] / batch_size).astype(int)):\n",
    "\n",
    "    # семплирование батча данных\n",
    "    x_batch = x_train[n_batch * batch_size:(n_batch + 1) * batch_size]\n",
    "    y_batch = y_train[n_batch * batch_size:(n_batch + 1) * batch_size]\n",
    "\n",
    "    # forward\n",
    "    z1 = np.dot(x_batch, w1) + b1 # линейное преобразование\n",
    "    a1 = np.maximum(0, z1) # relu\n",
    "    z2 = np.dot(a1, w2) + b2 # линейное преобразование\n",
    "    y_hat = 1 / (1 + np.exp(-z2)) # сигмоида\n",
    "    \n",
    "    loss = (-(y_batch * np.log(y_hat) + (1 - y_batch) * np.log(1 - y_hat)))\n",
    "    epoch_losses.append(loss.squeeze())\n",
    "\n",
    "    epoch_predictions.append(y_hat.squeeze())\n",
    "    epoch_targets.append(y_batch.squeeze())\n",
    "    \n",
    "epoch_predictions = np.concatenate(epoch_predictions)\n",
    "epoch_targets = np.concatenate(epoch_targets)\n",
    "\n",
    "epoch_predictions[epoch_predictions >= 0.5] = 1\n",
    "epoch_predictions[epoch_predictions < 0.5] = 0\n",
    "\n",
    "epoch_losses = np.concatenate(epoch_losses).mean()\n",
    "\n",
    "f'Test loss: {epoch_losses:.3f} | accuracy: {accuracy_score(epoch_targets, epoch_predictions):.2f}'"
   ]
  },
  {
   "cell_type": "markdown",
   "metadata": {},
   "source": [
    "# Будем по кускам переделывать на торч"
   ]
  },
  {
   "cell_type": "markdown",
   "metadata": {},
   "source": [
    "```python\n",
    "for n_batch in range(np.ceil(x_train.shape[0] / batch_size).astype(int)):\n",
    "\n",
    "    # семплирование батча данных\n",
    "    x_batch = x_train[n_batch * batch_size:(n_batch + 1) * batch_size]\n",
    "    y_batch = y_train[n_batch * batch_size:(n_batch + 1) * batch_size]\n",
    "```\n",
    "## Нам нужна батчеварка"
   ]
  },
  {
   "cell_type": "code",
   "execution_count": 25,
   "metadata": {},
   "outputs": [],
   "source": [
    "from torch.utils.data import Dataset, DataLoader"
   ]
  },
  {
   "cell_type": "code",
   "execution_count": 26,
   "metadata": {},
   "outputs": [],
   "source": [
    "class SomeData(Dataset):\n",
    "    \n",
    "    def __init__(self, x, y):\n",
    "        \n",
    "        self.x = x\n",
    "        self.y = y\n",
    "        \n",
    "    def __len__(self):\n",
    "        \n",
    "        # Нужно обязательно определить эту функцию\n",
    "        # Должна возвращать размер датасета\n",
    "        \n",
    "        return len(self.x)\n",
    "    \n",
    "    def __getitem__(self, item):\n",
    "        \n",
    "        # Еще нужно определить этот метод\n",
    "        # То есть как мы будем доставать наши данные по индексу\n",
    "        \n",
    "        x = torch.Tensor(self.x[item])\n",
    "        y = self.y[item]\n",
    "        \n",
    "        return x, y"
   ]
  },
  {
   "cell_type": "code",
   "execution_count": 27,
   "metadata": {},
   "outputs": [],
   "source": [
    "# обернем данные в класс\n",
    "train = SomeData(x_train, y_train)"
   ]
  },
  {
   "cell_type": "code",
   "execution_count": 28,
   "metadata": {},
   "outputs": [],
   "source": [
    "# можем обращаться по индексу\n",
    "some_x, some_y = train[5]"
   ]
  },
  {
   "cell_type": "code",
   "execution_count": 29,
   "metadata": {},
   "outputs": [
    {
     "data": {
      "text/plain": [
       "(tensor([ 0.2802, -0.7640,  2.4842, -0.9065,  0.8848, -0.1494, -0.6384,  1.0289,\n",
       "          2.7441, -1.2015, -0.4553,  1.3574,  0.0407, -2.1166, -1.3768, -1.5576,\n",
       "          0.0892, -0.3610, -1.4251, -0.7120, -1.5909,  2.1430,  0.6300,  0.5041,\n",
       "         -1.3812,  0.9790,  0.5778,  5.9497,  2.3687, -0.5152, -1.0131, -1.1878,\n",
       "          2.0518,  0.5226,  0.1528,  0.1141,  0.7585,  0.7520, -0.8421, -0.3026,\n",
       "          0.0829, -1.2968,  0.1527, -1.1566, -0.3502,  0.3592, -1.2467,  0.4581,\n",
       "          1.5836,  0.0674]), torch.Size([50]))"
      ]
     },
     "execution_count": 29,
     "metadata": {},
     "output_type": "execute_result"
    }
   ],
   "source": [
    "some_x, some_x.shape"
   ]
  },
  {
   "cell_type": "code",
   "execution_count": 30,
   "metadata": {},
   "outputs": [
    {
     "data": {
      "text/plain": [
       "(array([0]), (1,))"
      ]
     },
     "execution_count": 30,
     "metadata": {},
     "output_type": "execute_result"
    }
   ],
   "source": [
    "some_y, some_y.shape"
   ]
  },
  {
   "cell_type": "code",
   "execution_count": 31,
   "metadata": {},
   "outputs": [],
   "source": [
    "# дальше оборачиваем в loader\n",
    "train_loader = DataLoader(train, batch_size=batch_size, shuffle=True)"
   ]
  },
  {
   "cell_type": "code",
   "execution_count": 32,
   "metadata": {},
   "outputs": [],
   "source": [
    "# и можем по нему итерироваться\n",
    "for x, y in train_loader:\n",
    "    break"
   ]
  },
  {
   "cell_type": "code",
   "execution_count": 33,
   "metadata": {},
   "outputs": [
    {
     "name": "stdout",
     "output_type": "stream",
     "text": [
      "Эпоха - 1, прошли - 100.00 % датасета\n",
      "Эпоха - 2, прошли - 100.00 % датасета\n",
      "Эпоха - 3, прошли - 100.00 % датасета\n",
      "Эпоха - 4, прошли - 100.00 % датасета\n",
      "Эпоха - 5, прошли - 100.00 % датасета\n",
      "Эпоха - 6, прошли - 100.00 % датасета\n",
      "Эпоха - 7, прошли - 100.00 % датасета\n",
      "Эпоха - 8, прошли - 100.00 % датасета\n",
      "Эпоха - 9, прошли - 100.00 % датасета\n",
      "Эпоха - 10, прошли - 100.00 % датасета\n",
      "Эпоха - 11, прошли - 100.00 % датасета\n",
      "Эпоха - 12, прошли - 100.00 % датасета\n",
      "Эпоха - 13, прошли - 100.00 % датасета\n",
      "Эпоха - 14, прошли - 100.00 % датасета\n",
      "Эпоха - 15, прошли - 100.00 % датасета\n",
      "Эпоха - 16, прошли - 100.00 % датасета\n",
      "Эпоха - 17, прошли - 100.00 % датасета\n",
      "Эпоха - 18, прошли - 100.00 % датасета\n",
      "Эпоха - 19, прошли - 100.00 % датасета\n",
      "Эпоха - 20, прошли - 100.00 % датасета\n",
      "Эпоха - 21, прошли - 100.00 % датасета\n",
      "Эпоха - 22, прошли - 100.00 % датасета\n",
      "Эпоха - 23, прошли - 100.00 % датасета\n",
      "Эпоха - 24, прошли - 100.00 % датасета\n",
      "Эпоха - 25, прошли - 100.00 % датасета\n",
      "Эпоха - 26, прошли - 100.00 % датасета\n",
      "Эпоха - 27, прошли - 100.00 % датасета\n",
      "Эпоха - 28, прошли - 100.00 % датасета\n",
      "Эпоха - 29, прошли - 100.00 % датасета\n",
      "Эпоха - 30, прошли - 100.00 % датасета\n",
      "Эпоха - 31, прошли - 100.00 % датасета\n",
      "Эпоха - 32, прошли - 100.00 % датасета\n",
      "Эпоха - 33, прошли - 100.00 % датасета\n",
      "Эпоха - 34, прошли - 100.00 % датасета\n",
      "Эпоха - 35, прошли - 100.00 % датасета\n",
      "Эпоха - 36, прошли - 100.00 % датасета\n",
      "Эпоха - 37, прошли - 100.00 % датасета\n",
      "Эпоха - 38, прошли - 100.00 % датасета\n",
      "Эпоха - 39, прошли - 100.00 % датасета\n",
      "Эпоха - 40, прошли - 100.00 % датасета\n",
      "Эпоха - 41, прошли - 100.00 % датасета\n",
      "Эпоха - 42, прошли - 100.00 % датасета\n",
      "Эпоха - 43, прошли - 100.00 % датасета\n",
      "Эпоха - 44, прошли - 100.00 % датасета\n",
      "Эпоха - 45, прошли - 100.00 % датасета\n",
      "Эпоха - 46, прошли - 100.00 % датасета\n",
      "Эпоха - 47, прошли - 100.00 % датасета\n",
      "Эпоха - 48, прошли - 100.00 % датасета\n",
      "Эпоха - 49, прошли - 100.00 % датасета\n",
      "Эпоха - 50, прошли - 100.00 % датасета\n"
     ]
    }
   ],
   "source": [
    "for n_epoch in range(epochs):\n",
    "    \n",
    "    dataset_passed_samples = 0\n",
    "    \n",
    "    for x, y in train_loader:\n",
    "        \n",
    "        # вот здесь мы могли бы как-то манипулировать с данными, например, учить\n",
    "        # пока только пройдемся батчами по нашим данным с помощью итератора\n",
    "        \n",
    "        time.sleep(0.0001)\n",
    "        \n",
    "        dataset_passed_samples += x.shape[0]\n",
    "        \n",
    "        dataset_passed_percent = dataset_passed_samples * 100 / train_loader.dataset.x.shape[0]\n",
    "        \n",
    "        print(f'Эпоха - {n_epoch + 1}, прошли - {dataset_passed_percent:.2f} % датасета', end='\\r')\n",
    "        \n",
    "    print('\\r')"
   ]
  },
  {
   "cell_type": "code",
   "execution_count": 34,
   "metadata": {},
   "outputs": [
    {
     "data": {
      "text/plain": [
       "(torch.Size([124, 50]), torch.Size([124, 1]))"
      ]
     },
     "execution_count": 34,
     "metadata": {},
     "output_type": "execute_result"
    }
   ],
   "source": [
    "x.shape, y.shape"
   ]
  },
  {
   "cell_type": "markdown",
   "metadata": {},
   "source": [
    "## Заменили\n",
    "```python\n",
    "for n_batch in range(np.ceil(x_train.shape[0] / batch_size).astype(int)):\n",
    "\n",
    "    # семплирование батча данных\n",
    "    x_batch = x_train[n_batch * batch_size:(n_batch + 1) * batch_size]\n",
    "    y_batch = y_train[n_batch * batch_size:(n_batch + 1) * batch_size]\n",
    "```\n",
    "## На\n",
    "```python\n",
    "for x, y in train_loader:\n",
    "```"
   ]
  },
  {
   "cell_type": "markdown",
   "metadata": {},
   "source": [
    "### У нас может быть какая-то обработка наших примеров, которую мы можем реализовать в __getitem__"
   ]
  },
  {
   "cell_type": "code",
   "execution_count": 35,
   "metadata": {},
   "outputs": [],
   "source": [
    "class NonLinearDataset(Dataset):\n",
    "    \n",
    "    def __init__(self, data_x, data_y):\n",
    "        \n",
    "        super().__init__()\n",
    "        \n",
    "        self.data_x = data_x\n",
    "        self.data_y = data_y\n",
    "        \n",
    "    def __len__(self):\n",
    "        \n",
    "        # Нужно обязательно определить эту функцию\n",
    "        # Должна возвращать размер датасета\n",
    "        \n",
    "        return len(self.data_x)\n",
    "    \n",
    "    @staticmethod\n",
    "    def add_pow_features(x, n=2):\n",
    "        \n",
    "        return x ** n\n",
    "    \n",
    "    @staticmethod\n",
    "    def add_exp_features(x):\n",
    "        \n",
    "        return np.exp(x)\n",
    "    \n",
    "    def __getitem__(self, idx):\n",
    "        \n",
    "        # Еще нужно определить этот метод\n",
    "        # То есть как мы будем доставать наши данные по индексу\n",
    "        \n",
    "        x = self.data_x[idx]\n",
    "        \n",
    "        # внутри датасета мы можем делать все что угодно с нашими данными\n",
    "        # например выше определим функции, которые добавляют степенные фичи\n",
    "        x_2 = self.add_pow_features(x, n=2)\n",
    "        # и еще возьмем exp фичи\n",
    "        x_exp = self.add_exp_features(x)\n",
    "        \n",
    "        x = np.concatenate([x, x_2, x_exp])\n",
    "        \n",
    "        y = self.data_y[idx]\n",
    "        \n",
    "        return x, y"
   ]
  },
  {
   "cell_type": "code",
   "execution_count": 36,
   "metadata": {},
   "outputs": [],
   "source": [
    "# обернем данные в класс\n",
    "train = NonLinearDataset(x_train, y_train)\n",
    "# дальше оборачиваем в loader\n",
    "train_loader = DataLoader(train, batch_size=batch_size, shuffle=True)"
   ]
  },
  {
   "cell_type": "code",
   "execution_count": 37,
   "metadata": {},
   "outputs": [],
   "source": [
    "for x, y in train_loader:\n",
    "    break"
   ]
  },
  {
   "cell_type": "code",
   "execution_count": 38,
   "metadata": {},
   "outputs": [
    {
     "data": {
      "text/plain": [
       "torch.Size([256, 150])"
      ]
     },
     "execution_count": 38,
     "metadata": {},
     "output_type": "execute_result"
    }
   ],
   "source": [
    "x.shape"
   ]
  },
  {
   "cell_type": "markdown",
   "metadata": {},
   "source": [
    "## Вариаций предобработки масса\n",
    "### В данном случае будем использовать просто преобразование типов"
   ]
  },
  {
   "cell_type": "code",
   "execution_count": 39,
   "metadata": {},
   "outputs": [],
   "source": [
    "class ClassificationDataset(Dataset):\n",
    "    \n",
    "    def __init__(self, data_x, data_y):\n",
    "        \n",
    "        super().__init__()\n",
    "        \n",
    "        self.data_x = data_x\n",
    "        self.data_y = data_y\n",
    "        \n",
    "    def __len__(self):\n",
    "        \n",
    "        # Нужно обязательно определить эту функцию\n",
    "        # Должна возвращать размер датасета\n",
    "        \n",
    "        return len(self.data_x)\n",
    "    \n",
    "    def __getitem__(self, idx):\n",
    "        \n",
    "        # Еще нужно определить этот метод\n",
    "        # То есть как мы будем доставать наши данные по индексу\n",
    "        \n",
    "        x = self.data_x[idx]\n",
    "    \n",
    "        # приведем к нужному типу\n",
    "        x = torch.Tensor(x).float()\n",
    "        \n",
    "        y = self.data_y[idx].astype('float32')\n",
    "        \n",
    "        return x, y"
   ]
  },
  {
   "cell_type": "code",
   "execution_count": 40,
   "metadata": {},
   "outputs": [],
   "source": [
    "# обернем данные в класс\n",
    "train = ClassificationDataset(x_train, y_train)\n",
    "# дальше оборачиваем в loader\n",
    "train_loader = DataLoader(train, batch_size=batch_size, shuffle=True)\n",
    "\n",
    "# обернем данные в класс\n",
    "test = ClassificationDataset(x_test, y_test)\n",
    "# дальше оборачиваем в loader\n",
    "test_loader = DataLoader(test, batch_size=batch_size, shuffle=True)"
   ]
  },
  {
   "cell_type": "code",
   "execution_count": 41,
   "metadata": {},
   "outputs": [],
   "source": [
    "for x, y in train_loader:\n",
    "    break"
   ]
  },
  {
   "cell_type": "code",
   "execution_count": 42,
   "metadata": {},
   "outputs": [
    {
     "data": {
      "text/plain": [
       "tensor([[ 0.2042, -1.3894,  2.3332,  ...,  0.4687, -2.3906,  0.6827],\n",
       "        [-1.9923, -1.2467,  0.1783,  ...,  1.2094,  0.4250, -0.6950],\n",
       "        [ 0.5309,  0.2926, -1.6297,  ..., -0.8594, -0.7682,  1.0897],\n",
       "        ...,\n",
       "        [ 1.2390,  1.3407, -0.3230,  ..., -0.0034, -0.7406,  0.9761],\n",
       "        [ 0.3938, -0.0661,  0.0197,  ..., -1.7244, -0.5453,  0.3058],\n",
       "        [-2.3751, -1.2774, -2.5872,  ...,  0.4808, -0.4227,  1.9251]])"
      ]
     },
     "execution_count": 42,
     "metadata": {},
     "output_type": "execute_result"
    }
   ],
   "source": [
    "x"
   ]
  },
  {
   "cell_type": "code",
   "execution_count": 43,
   "metadata": {},
   "outputs": [
    {
     "data": {
      "text/plain": [
       "torch.float32"
      ]
     },
     "execution_count": 43,
     "metadata": {},
     "output_type": "execute_result"
    }
   ],
   "source": [
    "y.dtype"
   ]
  },
  {
   "cell_type": "markdown",
   "metadata": {},
   "source": [
    "# Перепишем остальную часть тренировки на торч"
   ]
  },
  {
   "cell_type": "markdown",
   "metadata": {},
   "source": [
    "### Было\n",
    "```python\n",
    "w1 = np.random.rand(50, 32) * 0.01\n",
    "b1 = np.zeros(32)\n",
    "\n",
    "w2 = np.random.rand(32, 1) * 0.01\n",
    "b2 = np.zeros(1)\n",
    "```\n",
    "\n",
    "### Стало\n",
    "```python\n",
    "w1 = torch.rand(50, 32) * 0.01\n",
    "b1 = torch.zeros(32)\n",
    "\n",
    "w2 = torch.rand(32, 1) * 0.01\n",
    "b2 = torch.zeros(1)\n",
    "```"
   ]
  },
  {
   "cell_type": "markdown",
   "metadata": {},
   "source": [
    "### Было\n",
    "```python\n",
    "z1 = np.dot(x_batch, w1) + b1 # линейное преобразование\n",
    "a1 = np.maximum(0, z1) # relu\n",
    "z2 = np.dot(a1, w2) + b2 # линейное преобразование\n",
    "y_hat = 1 / (1 + np.exp(-z2)) # сигмоида\n",
    "```\n",
    "\n",
    "### Стало\n",
    "```python\n",
    "z1 = torch.matmul(x_batch, w1) + b1 # линейное преобразование\n",
    "a1 = torch.relu(z1) # relu\n",
    "z2 = torch.matmul(a1, w2) + b2 # линейное преобразование\n",
    "y_hat = torch.sigmoid(z2) # сигмоида\n",
    "```"
   ]
  },
  {
   "cell_type": "markdown",
   "metadata": {},
   "source": [
    "### Было\n",
    "```python\n",
    "loss = (-(y_batch * np.log(y_hat) + (1 - y_batch) * np.log(1 - y_hat))).mean()\n",
    "```\n",
    "\n",
    "### Стало\n",
    "```python\n",
    "loss = (-(y_batch * torch.log(y_hat) + (1 - y_batch) * torch.log(1 - y_hat))).mean()\n",
    "```"
   ]
  },
  {
   "cell_type": "markdown",
   "metadata": {},
   "source": [
    "### Было\n",
    "```python\n",
    "np.dot(x, y)\n",
    "```\n",
    "\n",
    "### Стало\n",
    "```python\n",
    "torch.matmul(x, y)\n",
    "```"
   ]
  },
  {
   "cell_type": "markdown",
   "metadata": {},
   "source": [
    "### Было (транспонирование)\n",
    "```python\n",
    "w1.T\n",
    "```\n",
    "\n",
    "### Стало (транспонирование)\n",
    "```python\n",
    "w1.t()\n",
    "```"
   ]
  },
  {
   "cell_type": "markdown",
   "metadata": {},
   "source": [
    "### Было\n",
    "```python\n",
    "(a1 > 0)\n",
    "```\n",
    "\n",
    "### Стало (просто подправили тип)\n",
    "```python\n",
    "(a1 > 0).float()\n",
    "```"
   ]
  },
  {
   "cell_type": "code",
   "execution_count": 44,
   "metadata": {},
   "outputs": [
    {
     "name": "stdout",
     "output_type": "stream",
     "text": [
      "Epoch: 1\n",
      "Epoch: 2\n",
      "Epoch: 3\n",
      "Epoch: 4\n",
      "Epoch: 5\n",
      "Epoch: 6\n",
      "Epoch: 7\n",
      "Epoch: 8\n",
      "Epoch: 9\n",
      "Epoch: 10\n",
      "Epoch: 11\n",
      "Epoch: 12\n",
      "Epoch: 13\n",
      "Epoch: 14\n",
      "Epoch: 15\n",
      "Epoch: 16\n",
      "Epoch: 17\n",
      "Epoch: 18\n",
      "Epoch: 19\n",
      "Epoch: 20\n",
      "Epoch: 21\n",
      "Epoch: 22\n",
      "Epoch: 23\n",
      "Epoch: 24\n",
      "Epoch: 25\n",
      "Epoch: 26\n",
      "Epoch: 27\n",
      "Epoch: 28\n",
      "Epoch: 29\n",
      "Epoch: 30\n",
      "Epoch: 31\n",
      "Epoch: 32\n",
      "Epoch: 33\n",
      "Epoch: 34\n",
      "Epoch: 35\n",
      "Epoch: 36\n",
      "Epoch: 37\n",
      "Epoch: 38\n",
      "Epoch: 39\n",
      "Epoch: 40\n",
      "Epoch: 41\n",
      "Epoch: 42\n",
      "Epoch: 43\n",
      "Epoch: 44\n",
      "Epoch: 45\n",
      "Epoch: 46\n",
      "Epoch: 47\n",
      "Epoch: 48\n",
      "Epoch: 49\n",
      "Epoch: 50\n"
     ]
    }
   ],
   "source": [
    "w1 = torch.rand(50, 32) * 0.01\n",
    "b1 = torch.zeros(32)\n",
    "\n",
    "w2 = torch.rand(32, 1) * 0.01\n",
    "b2 = torch.zeros(1)\n",
    "\n",
    "loss_per_epoch = []\n",
    "losses = []\n",
    "metric = []\n",
    "\n",
    "for n_epoch in range(epochs):\n",
    "    \n",
    "    print(f'Epoch: {n_epoch + 1}')\n",
    "    \n",
    "    epoch_losses = []\n",
    "    epoch_predictions = []\n",
    "    epoch_targets = []\n",
    "\n",
    "    for x_batch, y_batch in train_loader:\n",
    "\n",
    "        # forward\n",
    "        z1 = torch.matmul(x_batch, w1) + b1 # линейное преобразование\n",
    "        a1 = torch.relu(z1) # relu\n",
    "        z2 = torch.matmul(a1, w2) + b2 # линейное преобразование\n",
    "        y_hat = torch.sigmoid(z2) # сигмоида\n",
    "        \n",
    "        epoch_predictions.append(y_hat.squeeze())\n",
    "        epoch_targets.append(y_batch.squeeze())\n",
    "\n",
    "        # рассчет bce\n",
    "        loss = (-(y_batch * torch.log(y_hat) + (1 - y_batch) * torch.log(1 - y_hat))).mean()\n",
    "        epoch_losses.append(loss)\n",
    "\n",
    "        #backward\n",
    "        dLdy_hat = ((y_hat - y_batch) / (y_hat - y_hat ** 2)) / y_hat.shape[0]\n",
    "\n",
    "        dLdz2 = y_hat * (1 - y_hat) * dLdy_hat\n",
    "\n",
    "        dLda1 = torch.matmul(dLdz2, w2.t())\n",
    "        dLdw2 = torch.matmul(a1.t(), dLdz2)\n",
    "        dLdb2 = dLdz2.sum(0)\n",
    "\n",
    "        dLdz1 = (a1 > 0).float() * dLda1\n",
    "\n",
    "        dLdw1 = torch.matmul(x_batch.t(), dLdz1)\n",
    "        dLdb1 = dLdz1.sum(0)\n",
    "\n",
    "        # gradient descent\n",
    "        w2 = w2 - learning_rate * dLdw2\n",
    "        b2 = b2 - learning_rate * dLdb2\n",
    "\n",
    "        w1 = w1 - learning_rate * dLdw1\n",
    "        b1 = b1 - learning_rate * dLdb1\n",
    "        \n",
    "    epoch_predictions = np.concatenate(epoch_predictions)\n",
    "    epoch_targets = np.concatenate(epoch_targets)\n",
    "        \n",
    "    epoch_predictions[epoch_predictions >= 0.5] = 1\n",
    "    epoch_predictions[epoch_predictions < 0.5] = 0\n",
    "    \n",
    "    metric.append(accuracy_score(epoch_targets, epoch_predictions))\n",
    "    \n",
    "    losses.extend(epoch_losses)\n",
    "    loss_per_epoch.append(np.mean(epoch_losses))"
   ]
  },
  {
   "cell_type": "code",
   "execution_count": 45,
   "metadata": {},
   "outputs": [
    {
     "data": {
      "image/png": "[encoded data removed]",
      "text/plain": [
       "<Figure size 1008x864 with 1 Axes>"
      ]
     },
     "metadata": {
      "needs_background": "light"
     },
     "output_type": "display_data"
    }
   ],
   "source": [
    "plt.figure(figsize=(14, 12))\n",
    "plt.plot(losses)\n",
    "plt.grid()\n",
    "plt.title('Training process')\n",
    "plt.xlabel('Iterations')\n",
    "plt.ylabel('Loss function')\n",
    "plt.ylim(0);"
   ]
  },
  {
   "cell_type": "code",
   "execution_count": 46,
   "metadata": {},
   "outputs": [
    {
     "data": {
      "image/png": "[encoded data removed]",
      "text/plain": [
       "<Figure size 1008x864 with 1 Axes>"
      ]
     },
     "metadata": {
      "needs_background": "light"
     },
     "output_type": "display_data"
    }
   ],
   "source": [
    "plt.figure(figsize=(14, 12))\n",
    "plt.plot(loss_per_epoch, label='loss')\n",
    "plt.plot(metric, label='accuracy')\n",
    "plt.legend()\n",
    "plt.grid()\n",
    "plt.title('Training process')\n",
    "plt.xlabel('Iterations')\n",
    "plt.ylabel('Metric value')\n",
    "plt.ylim(0, 1.01);"
   ]
  },
  {
   "cell_type": "markdown",
   "metadata": {},
   "source": [
    "# Автодифференцирование"
   ]
  },
  {
   "cell_type": "code",
   "execution_count": 47,
   "metadata": {},
   "outputs": [],
   "source": [
    "batch_size = 32\n",
    "n_features = 300\n",
    "result_vector = 64\n",
    "\n",
    "x = torch.rand(batch_size, n_features)\n",
    "w = torch.rand(n_features, result_vector) * 0.01\n",
    "\n",
    "y = torch.rand(batch_size, result_vector)"
   ]
  },
  {
   "cell_type": "code",
   "execution_count": 48,
   "metadata": {},
   "outputs": [
    {
     "data": {
      "text/plain": [
       "tensor([[0.7248, 0.7261, 0.7532,  ..., 0.7393, 0.7272, 0.7147],\n",
       "        [0.8129, 0.7901, 0.8107,  ..., 0.7935, 0.8030, 0.7544],\n",
       "        [0.7751, 0.7800, 0.7603,  ..., 0.7471, 0.7880, 0.7268],\n",
       "        ...,\n",
       "        [0.7701, 0.7571, 0.7502,  ..., 0.7444, 0.7603, 0.7145],\n",
       "        [0.7294, 0.7374, 0.7272,  ..., 0.7339, 0.7111, 0.6743],\n",
       "        [0.7877, 0.7789, 0.7973,  ..., 0.8026, 0.7442, 0.7511]])"
      ]
     },
     "execution_count": 48,
     "metadata": {},
     "output_type": "execute_result"
    }
   ],
   "source": [
    "prediction = torch.matmul(x, w)\n",
    "prediction"
   ]
  },
  {
   "cell_type": "code",
   "execution_count": 49,
   "metadata": {},
   "outputs": [
    {
     "data": {
      "text/plain": [
       "tensor(0.1522)"
      ]
     },
     "execution_count": 49,
     "metadata": {},
     "output_type": "execute_result"
    }
   ],
   "source": [
    "mse = ((y - prediction)**2).mean()\n",
    "mse"
   ]
  },
  {
   "cell_type": "markdown",
   "metadata": {},
   "source": [
    "## Теперь зададим параметры и скажем, что по ним нужно считать градиенты"
   ]
  },
  {
   "cell_type": "code",
   "execution_count": 50,
   "metadata": {},
   "outputs": [],
   "source": [
    "x = torch.rand(batch_size, n_features)\n",
    "w = torch.rand(n_features, result_vector) * 0.01\n",
    "# вот эта строчка\n",
    "w = w.requires_grad_(True)\n",
    "\n",
    "# аналогично \n",
    "# w = torch.nn.Parameter(torch.rand(n_features, result_vector) * 0.01)\n",
    "\n",
    "y = torch.rand(batch_size, result_vector)"
   ]
  },
  {
   "cell_type": "code",
   "execution_count": 51,
   "metadata": {},
   "outputs": [
    {
     "data": {
      "text/plain": [
       "tensor([[0.8090, 0.7474, 0.7731,  ..., 0.7541, 0.7893, 0.7389],\n",
       "        [0.7675, 0.7162, 0.7206,  ..., 0.7562, 0.7895, 0.7281],\n",
       "        [0.7083, 0.6613, 0.6922,  ..., 0.6862, 0.7053, 0.6996],\n",
       "        ...,\n",
       "        [0.7746, 0.7160, 0.7644,  ..., 0.7181, 0.7750, 0.7314],\n",
       "        [0.8161, 0.7657, 0.7881,  ..., 0.7669, 0.8051, 0.7620],\n",
       "        [0.7340, 0.7030, 0.6688,  ..., 0.7120, 0.7418, 0.7258]],\n",
       "       grad_fn=<MmBackward>)"
      ]
     },
     "execution_count": 51,
     "metadata": {},
     "output_type": "execute_result"
    }
   ],
   "source": [
    "prediction = torch.matmul(x, w)\n",
    "prediction"
   ]
  },
  {
   "cell_type": "code",
   "execution_count": 52,
   "metadata": {},
   "outputs": [
    {
     "data": {
      "text/plain": [
       "tensor(0.1552, grad_fn=<MeanBackward1>)"
      ]
     },
     "execution_count": 52,
     "metadata": {},
     "output_type": "execute_result"
    }
   ],
   "source": [
    "mse = ((y - prediction)**2).mean()\n",
    "mse"
   ]
  },
  {
   "cell_type": "markdown",
   "metadata": {},
   "source": [
    "### Можно заметить, что у тензоров prediction и mse теперь есть атрибут grad_fn\n",
    "Это функция, по которой нужно рассчитывать градиент  \n",
    "И это говорит о том, что теперь у нас есть граф вычислений  \n",
    "То есть торч сам понимает какой путь ему нужно проделать, чтобы рассчитать градиенты"
   ]
  },
  {
   "cell_type": "markdown",
   "metadata": {},
   "source": [
    "### Сейчас градиент w просто None"
   ]
  },
  {
   "cell_type": "code",
   "execution_count": 53,
   "metadata": {},
   "outputs": [
    {
     "name": "stdout",
     "output_type": "stream",
     "text": [
      "None\n"
     ]
    }
   ],
   "source": [
    "print(w.grad)"
   ]
  },
  {
   "cell_type": "markdown",
   "metadata": {},
   "source": [
    "### Сделаем backward по нашему лоссу\n",
    "То есть пройдемся по всему построенному графу и посчитаем градиенты"
   ]
  },
  {
   "cell_type": "code",
   "execution_count": 54,
   "metadata": {},
   "outputs": [],
   "source": [
    "mse.backward()"
   ]
  },
  {
   "cell_type": "markdown",
   "metadata": {},
   "source": [
    "### Теперь для наших весов появился градиент"
   ]
  },
  {
   "cell_type": "code",
   "execution_count": 55,
   "metadata": {},
   "outputs": [
    {
     "data": {
      "text/plain": [
       "tensor([[0.0045, 0.0031, 0.0038,  ..., 0.0042, 0.0058, 0.0030],\n",
       "        [0.0049, 0.0036, 0.0027,  ..., 0.0029, 0.0044, 0.0027],\n",
       "        [0.0045, 0.0029, 0.0038,  ..., 0.0043, 0.0058, 0.0030],\n",
       "        ...,\n",
       "        [0.0044, 0.0028, 0.0036,  ..., 0.0043, 0.0048, 0.0027],\n",
       "        [0.0057, 0.0040, 0.0031,  ..., 0.0034, 0.0051, 0.0037],\n",
       "        [0.0058, 0.0036, 0.0036,  ..., 0.0047, 0.0055, 0.0029]])"
      ]
     },
     "execution_count": 55,
     "metadata": {},
     "output_type": "execute_result"
    }
   ],
   "source": [
    "w.grad"
   ]
  },
  {
   "cell_type": "code",
   "execution_count": 56,
   "metadata": {},
   "outputs": [
    {
     "data": {
      "text/plain": [
       "(torch.Size([300, 64]), torch.Size([300, 64]))"
      ]
     },
     "execution_count": 56,
     "metadata": {},
     "output_type": "execute_result"
    }
   ],
   "source": [
    "w.grad.shape, w.shape"
   ]
  },
  {
   "cell_type": "markdown",
   "metadata": {},
   "source": [
    "### Соответственно в нодах графа, где нет обучаемых параметров, мы не считаем градиент"
   ]
  },
  {
   "cell_type": "code",
   "execution_count": 57,
   "metadata": {},
   "outputs": [
    {
     "name": "stdout",
     "output_type": "stream",
     "text": [
      "None\n",
      "None\n"
     ]
    },
    {
     "data": {
      "text/plain": [
       "(None, None)"
      ]
     },
     "execution_count": 57,
     "metadata": {},
     "output_type": "execute_result"
    }
   ],
   "source": [
    "print(prediction.grad), print(x.grad)"
   ]
  },
  {
   "cell_type": "markdown",
   "metadata": {},
   "source": [
    "## То есть теперь на не нужно самостоятельно считать backward\n",
    "\n",
    "### Было\n",
    "```python\n",
    "# рассчет bce\n",
    "loss = (-(y_batch * torch.log(y_hat) + (1 - y_batch) * torch.log(1 - y_hat))).mean()\n",
    "epoch_losses.append(loss)\n",
    "\n",
    "#backward\n",
    "dLdy_hat = ((y_hat - y_batch) / (y_hat - y_hat ** 2)) / y_hat.shape[0]\n",
    "\n",
    "dLdz2 = y_hat * (1 - y_hat) * dLdy_hat\n",
    "\n",
    "dLda1 = torch.matmul(dLdz2, w2.t())\n",
    "dLdw2 = torch.matmul(a1.t(), dLdz2)\n",
    "dLdb2 = dLdz2.sum(0)\n",
    "\n",
    "dLdz1 = (a1 > 0).float() * dLda1\n",
    "\n",
    "dLdw1 = torch.matmul(x_batch.t(), dLdz1)\n",
    "dLdb1 = dLdz1.sum(0)\n",
    "```\n",
    "\n",
    "### Стало\n",
    "```python\n",
    "# рассчет bce\n",
    "loss = (-(y_batch * torch.log(y_hat) + (1 - y_batch) * torch.log(1 - y_hat))).mean()\n",
    "\n",
    "# также мы отсоединяем значение нашего лосса от графа, чтобы сохранить\n",
    "epoch_losses.append(loss.item())\n",
    "\n",
    "#backward\n",
    "loss.backward()\n",
    "```\n",
    "### Было\n",
    "```python\n",
    "epoch_predictions.append(y_hat.squeeze())\n",
    "epoch_targets.append(y_batch.squeeze())\n",
    "```\n",
    "\n",
    "### Стало\n",
    "```python\n",
    "# также отсоединяем наши предикты и таргеты от графа, чтобы смогли их сохранить\n",
    "epoch_predictions.append(y_hat.detach().numpy().squeeze())\n",
    "epoch_targets.append(y_batch.detach().numpy().squeeze())\n",
    "```\n",
    "\n",
    "## При условии\n",
    "\n",
    "### Было\n",
    "```python\n",
    "w1 = torch.rand(50, 32) * 0.01\n",
    "b1 = torch.zeros(32)\n",
    "\n",
    "w2 = torch.rand(32, 1) * 0.01\n",
    "b2 = torch.zeros(1)\n",
    "```\n",
    "\n",
    "### Стало\n",
    "```python\n",
    "w1 = torch.rand(50, 32) * 0.01\n",
    "w1 = w1.requires_grad_(True)\n",
    "b1 = torch.zeros(32, requires_grad=True)\n",
    "\n",
    "w2 = torch.rand(32, 1) * 0.01\n",
    "w2 = w1.requires_grad_(True)\n",
    "b2 = torch.zeros(1, requires_grad=True)\n",
    "```\n",
    "\n",
    "## Обратите внимание, что градиентный спуск тоже поменялся\n",
    "\n",
    "### Было\n",
    "```python\n",
    "w2 = w2 - learning_rate * dLdw2\n",
    "b2 = b2 - learning_rate * dLdb2\n",
    "\n",
    "w1 = w1 - learning_rate * dLdw1\n",
    "b1 = b1 - learning_rate * dLdb1\n",
    "```\n",
    "\n",
    "### Стало\n",
    "```python\n",
    "w2.data -= learning_rate * w2.grad.data\n",
    "b2.data -= learning_rate * b2.grad.data\n",
    "\n",
    "w1.data -= learning_rate * w1.grad.data\n",
    "b1.data -= learning_rate * b1.grad.data\n",
    "\n",
    "w2.grad.data.zero_()\n",
    "b2.grad.data.zero_()\n",
    "\n",
    "w1.grad.data.zero_()\n",
    "b1.grad.data.zero_()\n",
    "```"
   ]
  },
  {
   "cell_type": "code",
   "execution_count": 58,
   "metadata": {},
   "outputs": [
    {
     "name": "stdout",
     "output_type": "stream",
     "text": [
      "Epoch: 1\n",
      "Epoch: 2\n",
      "Epoch: 3\n",
      "Epoch: 4\n",
      "Epoch: 5\n",
      "Epoch: 6\n",
      "Epoch: 7\n",
      "Epoch: 8\n",
      "Epoch: 9\n",
      "Epoch: 10\n",
      "Epoch: 11\n",
      "Epoch: 12\n",
      "Epoch: 13\n",
      "Epoch: 14\n",
      "Epoch: 15\n",
      "Epoch: 16\n",
      "Epoch: 17\n",
      "Epoch: 18\n",
      "Epoch: 19\n",
      "Epoch: 20\n",
      "Epoch: 21\n",
      "Epoch: 22\n",
      "Epoch: 23\n",
      "Epoch: 24\n",
      "Epoch: 25\n",
      "Epoch: 26\n",
      "Epoch: 27\n",
      "Epoch: 28\n",
      "Epoch: 29\n",
      "Epoch: 30\n",
      "Epoch: 31\n",
      "Epoch: 32\n",
      "Epoch: 33\n",
      "Epoch: 34\n",
      "Epoch: 35\n",
      "Epoch: 36\n",
      "Epoch: 37\n",
      "Epoch: 38\n",
      "Epoch: 39\n",
      "Epoch: 40\n",
      "Epoch: 41\n",
      "Epoch: 42\n",
      "Epoch: 43\n",
      "Epoch: 44\n",
      "Epoch: 45\n",
      "Epoch: 46\n",
      "Epoch: 47\n",
      "Epoch: 48\n",
      "Epoch: 49\n",
      "Epoch: 50\n"
     ]
    }
   ],
   "source": [
    "w1 = torch.rand(50, 32) * 0.01\n",
    "w1 = w1.requires_grad_(True)\n",
    "b1 = torch.zeros(32, requires_grad=True)\n",
    "\n",
    "w2 = torch.rand(32, 1) * 0.01\n",
    "w2 = w2.requires_grad_(True)\n",
    "b2 = torch.zeros(1, requires_grad=True)\n",
    "\n",
    "loss_per_epoch = []\n",
    "losses = []\n",
    "metric = []\n",
    "\n",
    "for n_epoch in range(epochs):\n",
    "    \n",
    "    print(f'Epoch: {n_epoch + 1}')\n",
    "    \n",
    "    epoch_losses = []\n",
    "    epoch_predictions = []\n",
    "    epoch_targets = []\n",
    "\n",
    "    for x_batch, y_batch in train_loader:\n",
    "\n",
    "        # forward\n",
    "        z1 = torch.matmul(x_batch, w1) + b1 # линейное преобразование\n",
    "        a1 = torch.relu(z1) # relu\n",
    "        z2 = torch.matmul(a1, w2) + b2 # линейное преобразование\n",
    "        y_hat = torch.sigmoid(z2) # сигмоида\n",
    "        \n",
    "        epoch_predictions.append(y_hat.detach().numpy().squeeze())\n",
    "        epoch_targets.append(y_batch.detach().numpy().squeeze())\n",
    "\n",
    "        # рассчет bce\n",
    "        loss = (-(y_batch * torch.log(y_hat) + (1 - y_batch) * torch.log(1 - y_hat))).mean()\n",
    "        epoch_losses.append(loss.item())\n",
    "\n",
    "        #backward\n",
    "        loss.backward()\n",
    "        \n",
    "        # gradient descent\n",
    "        w2.data -= learning_rate * w2.grad.data\n",
    "        b2.data -= learning_rate * b2.grad.data\n",
    "\n",
    "        w1.data -= learning_rate * w1.grad.data\n",
    "        b1.data -= learning_rate * b1.grad.data\n",
    "        \n",
    "        w2.grad.data.zero_()\n",
    "        b2.grad.data.zero_()\n",
    "        \n",
    "        w1.grad.data.zero_()\n",
    "        b1.grad.data.zero_()\n",
    "        \n",
    "    epoch_predictions = np.concatenate(epoch_predictions)\n",
    "    epoch_targets = np.concatenate(epoch_targets)\n",
    "        \n",
    "    epoch_predictions[epoch_predictions >= 0.5] = 1\n",
    "    epoch_predictions[epoch_predictions < 0.5] = 0\n",
    "    \n",
    "    metric.append(accuracy_score(epoch_targets, epoch_predictions))\n",
    "    \n",
    "    losses.extend(epoch_losses)\n",
    "    loss_per_epoch.append(np.mean(epoch_losses))"
   ]
  },
  {
   "cell_type": "code",
   "execution_count": 59,
   "metadata": {},
   "outputs": [
    {
     "data": {
      "image/png": "[encoded data removed]",
      "text/plain": [
       "<Figure size 1008x864 with 1 Axes>"
      ]
     },
     "metadata": {
      "needs_background": "light"
     },
     "output_type": "display_data"
    }
   ],
   "source": [
    "plt.figure(figsize=(14, 12))\n",
    "plt.plot(losses)\n",
    "plt.grid()\n",
    "plt.title('Training process')\n",
    "plt.xlabel('Iterations')\n",
    "plt.ylabel('Loss function')\n",
    "plt.ylim(0);"
   ]
  },
  {
   "cell_type": "code",
   "execution_count": 60,
   "metadata": {},
   "outputs": [
    {
     "data": {
      "image/png": "[encoded data removed]",
      "text/plain": [
       "<Figure size 1008x864 with 1 Axes>"
      ]
     },
     "metadata": {
      "needs_background": "light"
     },
     "output_type": "display_data"
    }
   ],
   "source": [
    "plt.figure(figsize=(14, 12))\n",
    "plt.plot(loss_per_epoch, label='loss')\n",
    "plt.plot(metric, label='accuracy')\n",
    "plt.legend()\n",
    "plt.grid()\n",
    "plt.title('Training process')\n",
    "plt.xlabel('Iterations')\n",
    "plt.ylabel('Metric value')\n",
    "plt.ylim(0, 1.01);"
   ]
  },
  {
   "cell_type": "markdown",
   "metadata": {},
   "source": [
    "# Как делать правильно\n",
    "## Высокоуровневое API"
   ]
  },
  {
   "cell_type": "code",
   "execution_count": 61,
   "metadata": {},
   "outputs": [],
   "source": [
    "# наследуемся от класса torch.nn.Module\n",
    "class MLP(torch.nn.Module):\n",
    "    \n",
    "    # определяем метод __init__\n",
    "    # он нужен для того, чтобы мы могли определить нужные нам слои, веса, сохраняемые операции\n",
    "    # \n",
    "    # передаем ссылку на самого себя первым параметром\n",
    "    # \n",
    "    # определяем любые другие передаваемые аргументы\n",
    "    # могут быть чем угодно: числа, словари, другие слои, другие модели и вообще все что угодно\n",
    "    # \n",
    "    def __init__(self, in_features, inner_features, n_classes):\n",
    "        \n",
    "        # Главная задача этого метода - возможность использования в классе потомке, методов класса-родителя\n",
    "        # Вызываем __init__ родителя - torch.nn.Module\n",
    "        super().__init__()\n",
    "        \n",
    "        # определяем слои и все что захотим сохранять/использовать\n",
    "        # также нам необходимо обернуть внутри класса модели наши веса в torch.nn.Parameter\n",
    "        # https://pytorch.org/docs/stable/nn.html#torch.nn.Parameter\n",
    "        self.w1 = torch.nn.Parameter(torch.rand(in_features, inner_features) * 0.01)\n",
    "        self.b1 = torch.nn.Parameter(torch.zeros(inner_features))\n",
    "\n",
    "        self.w2 = torch.nn.Parameter(torch.rand(inner_features, n_classes) * 0.01)\n",
    "        self.b2 = torch.nn.Parameter(torch.zeros(n_classes))\n",
    "        \n",
    "    # нам нужно обязательно реализовать метод forward\n",
    "    # это то, что нашей модели нужно делать, как оперировать с входными данными, как рассчитывать\n",
    "    # метод backward нам не нужно реализовывать, потому что в торче есть автоматическое дифференцирование\n",
    "    # главное, чтобы наши операции были дифференцируемы\n",
    "    # некоторые подробности можете узнать здесь:\n",
    "    # https://pytorch.org/tutorials/beginner/blitz/autograd_tutorial.html#sphx-glr-beginner-blitz-autograd-tutorial-py\n",
    "    # также список доступных дифференцируемых операций можете посмотреть здесь:\n",
    "    # https://pytorch.org/docs/stable/tensors.html\n",
    "    def forward(self, x):\n",
    "        \n",
    "        # то как нужно преобразовать входные данные через сеть\n",
    "        z1 = torch.matmul(x, self.w1) + self.b1 # линейное преобразование\n",
    "        a1 = torch.relu(z1) # relu\n",
    "        z2 = torch.matmul(a1, self.w2) + self.b2 # линейное преобразование\n",
    "        y_hat = torch.sigmoid(z2) # сигмоида\n",
    "        \n",
    "        return y_hat\n",
    "    \n",
    "    # мы также можем реализовать любые другие полезные нам методы внутри класса"
   ]
  },
  {
   "cell_type": "code",
   "execution_count": 62,
   "metadata": {},
   "outputs": [],
   "source": [
    "# определяем нашу модель\n",
    "model = MLP(in_features=50, inner_features=32, n_classes=1)"
   ]
  },
  {
   "cell_type": "code",
   "execution_count": 63,
   "metadata": {},
   "outputs": [
    {
     "data": {
      "text/plain": [
       "MLP()"
      ]
     },
     "execution_count": 63,
     "metadata": {},
     "output_type": "execute_result"
    }
   ],
   "source": [
    "model"
   ]
  },
  {
   "cell_type": "code",
   "execution_count": 64,
   "metadata": {},
   "outputs": [],
   "source": [
    "# еще нам нужно задать функцию потерь \n",
    "criterion = torch.nn.BCELoss()"
   ]
  },
  {
   "cell_type": "code",
   "execution_count": 65,
   "metadata": {},
   "outputs": [],
   "source": [
    "# и оптимизатор, куда нужно передать параметры модели\n",
    "# параметры модели можно взять методом класса .parameters()\n",
    "optimizer = torch.optim.SGD(params=model.parameters(), lr=learning_rate)"
   ]
  },
  {
   "cell_type": "code",
   "execution_count": 66,
   "metadata": {},
   "outputs": [
    {
     "data": {
      "text/plain": [
       "[Parameter containing:\n",
       " tensor([[6.7504e-03, 1.3991e-03, 3.1453e-03,  ..., 7.0840e-03, 2.4035e-03,\n",
       "          2.0422e-03],\n",
       "         [9.4674e-03, 9.8483e-03, 8.3862e-03,  ..., 6.3987e-03, 8.0000e-03,\n",
       "          8.9883e-03],\n",
       "         [1.9971e-03, 8.6127e-03, 3.3653e-05,  ..., 4.1129e-03, 8.1401e-03,\n",
       "          4.8137e-03],\n",
       "         ...,\n",
       "         [3.1991e-03, 6.9265e-03, 3.5834e-03,  ..., 2.4318e-03, 3.9026e-03,\n",
       "          5.6426e-03],\n",
       "         [4.2766e-03, 2.8868e-03, 3.7157e-03,  ..., 6.2249e-05, 6.5028e-03,\n",
       "          7.9809e-03],\n",
       "         [7.6363e-03, 4.5356e-03, 4.9299e-03,  ..., 1.5853e-03, 4.1296e-03,\n",
       "          1.4176e-03]], requires_grad=True), Parameter containing:\n",
       " tensor([0., 0., 0., 0., 0., 0., 0., 0., 0., 0., 0., 0., 0., 0., 0., 0., 0., 0., 0., 0., 0., 0., 0., 0.,\n",
       "         0., 0., 0., 0., 0., 0., 0., 0.], requires_grad=True), Parameter containing:\n",
       " tensor([[0.0022],\n",
       "         [0.0077],\n",
       "         [0.0051],\n",
       "         [0.0038],\n",
       "         [0.0040],\n",
       "         [0.0035],\n",
       "         [0.0024],\n",
       "         [0.0081],\n",
       "         [0.0042],\n",
       "         [0.0060],\n",
       "         [0.0005],\n",
       "         [0.0012],\n",
       "         [0.0067],\n",
       "         [0.0048],\n",
       "         [0.0094],\n",
       "         [0.0086],\n",
       "         [0.0089],\n",
       "         [0.0034],\n",
       "         [0.0092],\n",
       "         [0.0099],\n",
       "         [0.0034],\n",
       "         [0.0029],\n",
       "         [0.0048],\n",
       "         [0.0045],\n",
       "         [0.0063],\n",
       "         [0.0030],\n",
       "         [0.0100],\n",
       "         [0.0065],\n",
       "         [0.0068],\n",
       "         [0.0007],\n",
       "         [0.0002],\n",
       "         [0.0019]], requires_grad=True), Parameter containing:\n",
       " tensor([0.], requires_grad=True)]"
      ]
     },
     "execution_count": 66,
     "metadata": {},
     "output_type": "execute_result"
    }
   ],
   "source": [
    "# можем посмотреть на параметры нашей модели\n",
    "params = list(model.parameters())\n",
    "params"
   ]
  },
  {
   "cell_type": "code",
   "execution_count": 67,
   "metadata": {},
   "outputs": [
    {
     "name": "stdout",
     "output_type": "stream",
     "text": [
      "Epoch: 1\n",
      "Epoch: 2\n",
      "Epoch: 3\n",
      "Epoch: 4\n",
      "Epoch: 5\n",
      "Epoch: 6\n",
      "Epoch: 7\n",
      "Epoch: 8\n",
      "Epoch: 9\n",
      "Epoch: 10\n",
      "Epoch: 11\n",
      "Epoch: 12\n",
      "Epoch: 13\n",
      "Epoch: 14\n",
      "Epoch: 15\n",
      "Epoch: 16\n",
      "Epoch: 17\n",
      "Epoch: 18\n",
      "Epoch: 19\n",
      "Epoch: 20\n",
      "Epoch: 21\n",
      "Epoch: 22\n",
      "Epoch: 23\n",
      "Epoch: 24\n",
      "Epoch: 25\n",
      "Epoch: 26\n",
      "Epoch: 27\n",
      "Epoch: 28\n",
      "Epoch: 29\n",
      "Epoch: 30\n",
      "Epoch: 31\n",
      "Epoch: 32\n",
      "Epoch: 33\n",
      "Epoch: 34\n",
      "Epoch: 35\n",
      "Epoch: 36\n",
      "Epoch: 37\n",
      "Epoch: 38\n",
      "Epoch: 39\n",
      "Epoch: 40\n",
      "Epoch: 41\n",
      "Epoch: 42\n",
      "Epoch: 43\n",
      "Epoch: 44\n",
      "Epoch: 45\n",
      "Epoch: 46\n",
      "Epoch: 47\n",
      "Epoch: 48\n",
      "Epoch: 49\n",
      "Epoch: 50\n"
     ]
    }
   ],
   "source": [
    "loss_per_epoch = []\n",
    "losses = []\n",
    "metric = []\n",
    "\n",
    "for n_epoch in range(epochs):\n",
    "    \n",
    "    print(f'Epoch: {n_epoch + 1}')\n",
    "    \n",
    "    epoch_losses = []\n",
    "    epoch_predictions = []\n",
    "    epoch_targets = []\n",
    "\n",
    "    # эта штука все еще отдает нам батчи данных\n",
    "    for x, y in train_loader:\n",
    "\n",
    "        # обновим наши градиенты\n",
    "        # будем делать это каждую итерацию обучения\n",
    "        # потому что торч сохраняет в себе все градиенты пока не удалите таким образом рассчитанные градиенты\n",
    "        # \n",
    "        # НЕОБЯЗАТЕЛЬНЫЕ ДЕТАЛИ\n",
    "        # функция сохранения градиентов нужна для аккамуляции градиентов\n",
    "        # например, когда нам не хватает памяти на большой батч\n",
    "        # мы можем несколько раз прогнать forward на разных батчах\n",
    "        # наши градиенты будут сохраняться\n",
    "        # и только потом через несколько итераций forward обновить наши веса\n",
    "        # таким образом у нас получается больше батч\n",
    "        # \n",
    "        optimizer.zero_grad()\n",
    "\n",
    "        # \n",
    "        # предсказание нашей модели\n",
    "        # здесь торч сам сохраняет необходимую информацию\n",
    "        # \n",
    "        # торч строит граф вычислений\n",
    "        # то есть строит граф по тем операциям, которые вы определили в методе forward\n",
    "        # \n",
    "        # то есть торч понимает, что вы сначала применили линейное преобразование\n",
    "        # знает, где лежат веса для этого линейного преобразования\n",
    "        # знает, что вы затем применили релу\n",
    "        # затем опять линейное преобразование\n",
    "        # затем сигмоиду\n",
    "        # и вот таким образом торч выстроил граф\n",
    "        # который нужен будет для backpropogation\n",
    "        # \n",
    "        pred = model(x)\n",
    "\n",
    "        # \n",
    "        # рассчитываем функцию потерь, добавляя в наш граф вычислений этот узел\n",
    "        # \n",
    "        loss = criterion(pred, y)\n",
    "        \n",
    "        epoch_predictions.append(pred.detach().numpy().squeeze())\n",
    "        epoch_targets.append(y.detach().numpy().squeeze())\n",
    "\n",
    "        # \n",
    "        # вызываем метод backward() от нашей функции потерь (это крайний узел нашего графа вычислений)\n",
    "        # этот метод проходит от конца графа в начало, вычисляя необходимые градиенты\n",
    "        # передаем градиенты на следующие узлы\n",
    "        # для весов сохраняет\n",
    "        # \n",
    "        loss.backward()\n",
    "\n",
    "        # \n",
    "        # теперь мы знаем необходимые градиенты и можем обновить веса с помощью градиентного спуска\n",
    "        # \n",
    "        optimizer.step()\n",
    "\n",
    "        # \n",
    "        # сохраним текущее значение функции потерь, чтобы потом могли посмотреть на график\n",
    "        # очень важный момент: нам нужно отсоединить значение нашей фунции потерь от графа вычислений\n",
    "        # чтобы граф не строился дальше на каждой итерации обучения\n",
    "        # работает для скаляров\n",
    "        # \n",
    "        # для тензоров работает метод .tolist()\n",
    "        # \n",
    "        current_loss_value = loss.item()\n",
    "        epoch_losses.append(loss.item())\n",
    "\n",
    "    epoch_predictions = np.concatenate(epoch_predictions)\n",
    "    epoch_targets = np.concatenate(epoch_targets)\n",
    "\n",
    "    epoch_predictions[epoch_predictions >= 0.5] = 1\n",
    "    epoch_predictions[epoch_predictions < 0.5] = 0\n",
    "\n",
    "    metric.append(accuracy_score(epoch_targets, epoch_predictions))\n",
    "\n",
    "    losses.extend(epoch_losses)\n",
    "    loss_per_epoch.append(np.mean(epoch_losses))"
   ]
  },
  {
   "cell_type": "code",
   "execution_count": 85,
   "metadata": {},
   "outputs": [
    {
     "data": {
      "image/png": "[encoded data removed]",
      "text/plain": [
       "<Figure size 1008x864 with 1 Axes>"
      ]
     },
     "metadata": {
      "needs_background": "light"
     },
     "output_type": "display_data"
    }
   ],
   "source": [
    "plt.figure(figsize=(14, 12))\n",
    "plt.plot(losses)\n",
    "plt.grid()\n",
    "plt.title('Training process')\n",
    "plt.xlabel('Iterations')\n",
    "plt.ylabel('Loss function')\n",
    "plt.ylim(0);"
   ]
  },
  {
   "cell_type": "code",
   "execution_count": 69,
   "metadata": {},
   "outputs": [
    {
     "data": {
      "image/png": "[encoded data removed]",
      "text/plain": [
       "<Figure size 1008x864 with 1 Axes>"
      ]
     },
     "metadata": {
      "needs_background": "light"
     },
     "output_type": "display_data"
    }
   ],
   "source": [
    "plt.figure(figsize=(14, 12))\n",
    "plt.plot(loss_per_epoch, label='loss')\n",
    "plt.plot(metric, label='accuracy')\n",
    "plt.legend()\n",
    "plt.grid()\n",
    "plt.title('Training process')\n",
    "plt.xlabel('Iterations')\n",
    "plt.ylabel('Metric value')\n",
    "plt.ylim(0, 1.01);"
   ]
  },
  {
   "cell_type": "markdown",
   "metadata": {},
   "source": [
    "# Test"
   ]
  },
  {
   "cell_type": "code",
   "execution_count": 70,
   "metadata": {},
   "outputs": [
    {
     "data": {
      "text/plain": [
       "'Test loss: 0.335 | accuracy: 0.90'"
      ]
     },
     "execution_count": 70,
     "metadata": {},
     "output_type": "execute_result"
    }
   ],
   "source": [
    "epoch_losses = []\n",
    "epoch_predictions = []\n",
    "epoch_targets = []\n",
    "\n",
    "for x, y in test_loader:\n",
    "\n",
    "    with torch.no_grad():\n",
    "        pred = model(x)\n",
    "    \n",
    "    epoch_losses.append(loss.item())\n",
    "\n",
    "    epoch_predictions.append(pred.detach().numpy().squeeze())\n",
    "    epoch_targets.append(y.detach().numpy().squeeze())\n",
    "    \n",
    "epoch_predictions = np.concatenate(epoch_predictions)\n",
    "epoch_targets = np.concatenate(epoch_targets)\n",
    "\n",
    "epoch_predictions[epoch_predictions >= 0.5] = 1\n",
    "epoch_predictions[epoch_predictions < 0.5] = 0\n",
    "\n",
    "epoch_losses = np.mean(epoch_losses)\n",
    "\n",
    "f'Test loss: {epoch_losses:.3f} | accuracy: {accuracy_score(epoch_targets, epoch_predictions):.2f}'"
   ]
  },
  {
   "cell_type": "markdown",
   "metadata": {},
   "source": [
    "# Можем еще более верхнеуровнево записать наш класс"
   ]
  },
  {
   "cell_type": "code",
   "execution_count": 71,
   "metadata": {},
   "outputs": [],
   "source": [
    "class MLP(torch.nn.Module):\n",
    "    \n",
    "    def __init__(self, in_features, inner_features, n_classes):\n",
    "        super().__init__()\n",
    "        \n",
    "        self.linear_1 = torch.nn.Linear(in_features=in_features, out_features=inner_features)\n",
    "        self.linear_2 = torch.nn.Linear(in_features=inner_features, out_features=n_classes)\n",
    "        \n",
    "    def forward(self, x):\n",
    "        \n",
    "        x = self.linear_1(x)\n",
    "        x = torch.relu(x)\n",
    "        x = self.linear_2(x)\n",
    "        x = torch.sigmoid(x)\n",
    "        \n",
    "        return x"
   ]
  },
  {
   "cell_type": "markdown",
   "metadata": {},
   "source": [
    "# Добавить еще слоев"
   ]
  },
  {
   "cell_type": "code",
   "execution_count": 72,
   "metadata": {},
   "outputs": [],
   "source": [
    "class MLP(torch.nn.Module):\n",
    "    \n",
    "    def __init__(self, in_features, inner_features_1, inner_features_2, n_classes):\n",
    "        super().__init__()\n",
    "        \n",
    "        self.linear_1 = torch.nn.Linear(in_features=in_features, out_features=inner_features_1)\n",
    "        self.dropout = torch.nn.Dropout(p=0.5)\n",
    "        self.linear_2 = torch.nn.Linear(in_features=inner_features_1, out_features=inner_features_2)\n",
    "        self.batch_norm = torch.nn.BatchNorm1d(num_features=inner_features_2)\n",
    "        self.linear_3 = torch.nn.Linear(in_features=inner_features_2, out_features=n_classes)\n",
    "        \n",
    "    def forward(self, x):\n",
    "        \n",
    "        x = self.linear_1(x)\n",
    "        x = torch.relu(x)\n",
    "        x = self.dropout(x)\n",
    "        x = self.linear_2(x)\n",
    "        x = torch.relu(x)\n",
    "        x = self.batch_norm(x)\n",
    "        x = self.linear_3(x)\n",
    "        x = torch.sigmoid(x)\n",
    "        \n",
    "        return x"
   ]
  },
  {
   "cell_type": "markdown",
   "metadata": {},
   "source": [
    "# Можно использовать в качестве слоев свои написанные классы"
   ]
  },
  {
   "cell_type": "code",
   "execution_count": 73,
   "metadata": {},
   "outputs": [],
   "source": [
    "class GatedLinearUnit(torch.nn.Module):\n",
    "    \n",
    "    def __init__(self, in_features, out_features):\n",
    "        super().__init__()\n",
    "        \n",
    "        self.linear = torch.nn.Linear(in_features=in_features, out_features=out_features)\n",
    "        self.gate = torch.nn.Linear(in_features=in_features, out_features=out_features)\n",
    "        \n",
    "    def forward(self, x):\n",
    "        \n",
    "        x = self.linear(x) * torch.sigmoid(torch.gate(x)) + x\n",
    "        \n",
    "        return x"
   ]
  },
  {
   "cell_type": "code",
   "execution_count": 74,
   "metadata": {},
   "outputs": [],
   "source": [
    "class SomeNeuralNetwork(torch.nn.Module):\n",
    "    \n",
    "    def __init__(self, in_features, inner_features_1, inner_features_2, n_classes):\n",
    "        super().__init__()\n",
    "        \n",
    "        self.linear_1 = torch.nn.Linear(in_features=in_features, out_features=inner_features_1)\n",
    "        self.dropout = torch.nn.Dropout(p=0.5)\n",
    "        self.glu = GatedLinearUnit(in_features=inner_features_1, out_features=inner_features_2)\n",
    "        self.batch_norm = torch.nn.BatchNorm1d(num_features=inner_features_2)\n",
    "        self.linear_3 = torch.nn.Linear(in_features=inner_features_2, out_features=n_classes)\n",
    "        \n",
    "    def forward(self, x):\n",
    "        \n",
    "        x = self.linear_1(x)\n",
    "        x = torch.relu(x)\n",
    "        x = self.dropout(x)\n",
    "        x = self.glu(x)\n",
    "        x = self.batch_norm(x)\n",
    "        x = self.linear_3(x)\n",
    "        x = torch.sigmoid(x)\n",
    "        \n",
    "        return x"
   ]
  },
  {
   "cell_type": "code",
   "execution_count": 75,
   "metadata": {},
   "outputs": [],
   "source": [
    "model = SomeNeuralNetwork(in_features=256, inner_features_1=128, inner_features_2=64, n_classes=4)"
   ]
  },
  {
   "cell_type": "code",
   "execution_count": 76,
   "metadata": {},
   "outputs": [
    {
     "data": {
      "text/plain": [
       "SomeNeuralNetwork(\n",
       "  (linear_1): Linear(in_features=256, out_features=128, bias=True)\n",
       "  (dropout): Dropout(p=0.5)\n",
       "  (glu): GatedLinearUnit(\n",
       "    (linear): Linear(in_features=128, out_features=64, bias=True)\n",
       "    (gate): Linear(in_features=128, out_features=64, bias=True)\n",
       "  )\n",
       "  (batch_norm): BatchNorm1d(64, eps=1e-05, momentum=0.1, affine=True, track_running_stats=True)\n",
       "  (linear_3): Linear(in_features=64, out_features=4, bias=True)\n",
       ")"
      ]
     },
     "execution_count": 76,
     "metadata": {},
     "output_type": "execute_result"
    }
   ],
   "source": [
    "model"
   ]
  },
  {
   "cell_type": "markdown",
   "metadata": {},
   "source": [
    "# MNIST"
   ]
  },
  {
   "cell_type": "code",
   "execution_count": 77,
   "metadata": {},
   "outputs": [],
   "source": [
    "import numpy as np\n",
    "\n",
    "from sklearn.metrics import classification_report\n",
    "\n",
    "from torch.utils.data import DataLoader\n",
    "from torchvision.datasets import MNIST\n",
    "from torchvision import transforms\n",
    "\n",
    "from tqdm import tqdm"
   ]
  },
  {
   "cell_type": "markdown",
   "metadata": {},
   "source": [
    "# Немного магических нормализаций для картинок"
   ]
  },
  {
   "cell_type": "code",
   "execution_count": 78,
   "metadata": {},
   "outputs": [],
   "source": [
    "transform = transforms.Compose([\n",
    "    transforms.ToTensor(),\n",
    "    transforms.Normalize((0.1307,), (0.3081,))\n",
    "])"
   ]
  },
  {
   "cell_type": "code",
   "execution_count": 79,
   "metadata": {},
   "outputs": [],
   "source": [
    "train_dataset = MNIST('.', train=True, download=True, transform=transform)\n",
    "test_dataset = MNIST('.', train=False, transform=transform)"
   ]
  },
  {
   "cell_type": "code",
   "execution_count": 80,
   "metadata": {},
   "outputs": [
    {
     "data": {
      "text/plain": [
       "torch.Size([1, 28, 28])"
      ]
     },
     "execution_count": 80,
     "metadata": {},
     "output_type": "execute_result"
    }
   ],
   "source": [
    "x, y = train_dataset[0]\n",
    "x.shape"
   ]
  },
  {
   "cell_type": "code",
   "execution_count": 81,
   "metadata": {},
   "outputs": [
    {
     "data": {
      "text/plain": [
       "<matplotlib.image.AxesImage at 0x13372c518>"
      ]
     },
     "execution_count": 81,
     "metadata": {},
     "output_type": "execute_result"
    },
    {
     "data": {
      "image/png": "[encoded data removed]",
      "text/plain": [
       "<Figure size 432x288 with 1 Axes>"
      ]
     },
     "metadata": {
      "needs_background": "light"
     },
     "output_type": "display_data"
    }
   ],
   "source": [
    "plt.imshow(x.squeeze(), cmap=plt.cm.Greys_r)"
   ]
  },
  {
   "cell_type": "code",
   "execution_count": 82,
   "metadata": {},
   "outputs": [
    {
     "data": {
      "text/plain": [
       "<matplotlib.image.AxesImage at 0x1338d8ef0>"
      ]
     },
     "execution_count": 82,
     "metadata": {},
     "output_type": "execute_result"
    },
    {
     "data": {
      "image/png": "[encoded data removed]",
      "text/plain": [
       "<Figure size 432x288 with 1 Axes>"
      ]
     },
     "metadata": {
      "needs_background": "light"
     },
     "output_type": "display_data"
    }
   ],
   "source": [
    "x, y = train_dataset[777]\n",
    "plt.imshow(x.squeeze(), cmap=plt.cm.Greys_r)"
   ]
  },
  {
   "cell_type": "code",
   "execution_count": 83,
   "metadata": {},
   "outputs": [],
   "source": [
    "train_loader = DataLoader(train_dataset, batch_size=128, shuffle=True)\n",
    "test_loader = DataLoader(test_dataset, batch_size=128, shuffle=False)"
   ]
  },
  {
   "cell_type": "code",
   "execution_count": 84,
   "metadata": {},
   "outputs": [
    {
     "data": {
      "image/png": "[encoded data removed]",
      "text/plain": [
       "<Figure size 432x504 with 25 Axes>"
      ]
     },
     "metadata": {
      "needs_background": "light"
     },
     "output_type": "display_data"
    }
   ],
   "source": [
    "for x, y in train_loader:\n",
    "    break\n",
    "\n",
    "x = x.numpy()\n",
    "y = y.numpy()\n",
    "\n",
    "plt.figure(figsize=(6, 7))\n",
    "for i in range(25):\n",
    "    plt.subplot(5, 5, i+1)\n",
    "    plt.imshow(x[i].squeeze(), cmap=plt.cm.Greys_r)\n",
    "    plt.title(y[i])\n",
    "    plt.axis('off')"
   ]
  },
  {
   "cell_type": "markdown",
   "metadata": {},
   "source": [
    "## В качестве упражнения попробуйте самостоятельно сделать классификатор на торче\n",
    "[Поможет](https://pytorch.org/tutorials/beginner/blitz/cifar10_tutorial.html#sphx-glr-beginner-blitz-cifar10-tutorial-py)"
   ]
  },
  {
   "cell_type": "code",
   "execution_count": null,
   "metadata": {},
   "outputs": [],
   "source": []
  }
 ],
 "metadata": {
  "kernelspec": {
   "display_name": "Python 3",
   "language": "python",
   "name": "python3"
  },
  "language_info": {
   "codemirror_mode": {
    "name": "ipython",
    "version": 3
   },
   "file_extension": ".py",
   "mimetype": "text/x-python",
   "name": "python",
   "nbconvert_exporter": "python",
   "pygments_lexer": "ipython3",
   "version": "3.7.3"
  }
 },
 "nbformat": 4,
 "nbformat_minor": 2
}
