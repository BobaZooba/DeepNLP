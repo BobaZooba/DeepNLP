{
 "cells": [
  {
   "cell_type": "markdown",
   "metadata": {},
   "source": [
    "# Туториал по языковым моделям на базе RNN"
   ]
  },
  {
   "cell_type": "code",
   "execution_count": 1,
   "metadata": {},
   "outputs": [],
   "source": [
    "# # библиотека для BPE токенизации\n",
    "# # https://github.com/VKCOM/YouTokenToMe\n",
    "# !pip install youtokentome"
   ]
  },
  {
   "cell_type": "markdown",
   "metadata": {},
   "source": [
    "### Импортирование библиотек"
   ]
  },
  {
   "cell_type": "code",
   "execution_count": 2,
   "metadata": {},
   "outputs": [],
   "source": [
    "import math\n",
    "import numpy as np\n",
    "import pandas as pd\n",
    "\n",
    "import random\n",
    "import json\n",
    "import torch\n",
    "from torch.utils.data import Dataset, DataLoader\n",
    "\n",
    "from tqdm import tqdm\n",
    "\n",
    "from matplotlib import pyplot as plt\n",
    "\n",
    "import youtokentome as yttm"
   ]
  },
  {
   "cell_type": "code",
   "execution_count": 3,
   "metadata": {},
   "outputs": [],
   "source": [
    "# для языковой модели мы будем использовать неразмеченные вопросы\n",
    "questions = pd.read_csv('unsupervised.csv')\n",
    "questions.question = questions.question.map(lambda x: x.lower())"
   ]
  },
  {
   "cell_type": "code",
   "execution_count": 4,
   "metadata": {},
   "outputs": [
    {
     "data": {
      "text/html": [
       "<div>\n",
       "<style scoped>\n",
       "    .dataframe tbody tr th:only-of-type {\n",
       "        vertical-align: middle;\n",
       "    }\n",
       "\n",
       "    .dataframe tbody tr th {\n",
       "        vertical-align: top;\n",
       "    }\n",
       "\n",
       "    .dataframe thead th {\n",
       "        text-align: right;\n",
       "    }\n",
       "</style>\n",
       "<table border=\"1\" class=\"dataframe\">\n",
       "  <thead>\n",
       "    <tr style=\"text-align: right;\">\n",
       "      <th></th>\n",
       "      <th>question</th>\n",
       "    </tr>\n",
       "  </thead>\n",
       "  <tbody>\n",
       "    <tr>\n",
       "      <th>0</th>\n",
       "      <td>положено ли пособие опекаемому ребенку, обучаю...</td>\n",
       "    </tr>\n",
       "    <tr>\n",
       "      <th>1</th>\n",
       "      <td>где скачать прогу для записи видео онлайн. зар...</td>\n",
       "    </tr>\n",
       "    <tr>\n",
       "      <th>2</th>\n",
       "      <td>физика амперы метрология помогите</td>\n",
       "    </tr>\n",
       "    <tr>\n",
       "      <th>3</th>\n",
       "      <td>имеет ли многодетная семья \"скидку\" на услуги ...</td>\n",
       "    </tr>\n",
       "    <tr>\n",
       "      <th>4</th>\n",
       "      <td>пенсия по инвалидности и старости...</td>\n",
       "    </tr>\n",
       "    <tr>\n",
       "      <th>5</th>\n",
       "      <td>назовите несколько инженерных специальностей, ...</td>\n",
       "    </tr>\n",
       "    <tr>\n",
       "      <th>6</th>\n",
       "      <td>в ваших iq тестах есть вопросы на знание унита...</td>\n",
       "    </tr>\n",
       "    <tr>\n",
       "      <th>7</th>\n",
       "      <td>какие обязанности у уборщицы в отделении реани...</td>\n",
       "    </tr>\n",
       "    <tr>\n",
       "      <th>8</th>\n",
       "      <td>что с работой уходить или оставаться?</td>\n",
       "    </tr>\n",
       "    <tr>\n",
       "      <th>9</th>\n",
       "      <td>как из корня имбиря выжать сок ??(чтоб чуток р...</td>\n",
       "    </tr>\n",
       "  </tbody>\n",
       "</table>\n",
       "</div>"
      ],
      "text/plain": [
       "                                            question\n",
       "0  положено ли пособие опекаемому ребенку, обучаю...\n",
       "1  где скачать прогу для записи видео онлайн. зар...\n",
       "2                  физика амперы метрология помогите\n",
       "3  имеет ли многодетная семья \"скидку\" на услуги ...\n",
       "4               пенсия по инвалидности и старости...\n",
       "5  назовите несколько инженерных специальностей, ...\n",
       "6  в ваших iq тестах есть вопросы на знание унита...\n",
       "7  какие обязанности у уборщицы в отделении реани...\n",
       "8              что с работой уходить или оставаться?\n",
       "9  как из корня имбиря выжать сок ??(чтоб чуток р..."
      ]
     },
     "execution_count": 4,
     "metadata": {},
     "output_type": "execute_result"
    }
   ],
   "source": [
    "questions.head(10)"
   ]
  },
  {
   "cell_type": "markdown",
   "metadata": {},
   "source": [
    "## Обучение BPE"
   ]
  },
  {
   "cell_type": "code",
   "execution_count": 5,
   "metadata": {},
   "outputs": [],
   "source": [
    "# для \"обучения\" bpe модели нам нужно сохранить данные для обучения в отдельный файл\n",
    "# где будут построчно храниться тексты\n",
    "# раскомментируйте этот код, чтобы собрать такой файл\n",
    "with open('for_bpe.txt', 'w', encoding='utf-8') as f:\n",
    "    for que in questions.question:\n",
    "        f.write(que + '\\n')\n",
    "        \n",
    "# параметры\n",
    "vocab_size = 30_000\n",
    "model_path = 'pretrained_bpe_lm.model'"
   ]
  },
  {
   "cell_type": "code",
   "execution_count": 6,
   "metadata": {},
   "outputs": [
    {
     "name": "stdout",
     "output_type": "stream",
     "text": [
      "CPU times: user 24.3 s, sys: 7.09 s, total: 31.4 s\n",
      "Wall time: 8.82 s\n"
     ]
    },
    {
     "data": {
      "text/plain": [
       "<youtokentome.youtokentome.BPE at 0x7f5e9eeac810>"
      ]
     },
     "execution_count": 6,
     "metadata": {},
     "output_type": "execute_result"
    }
   ],
   "source": [
    "%%time\n",
    "# обучаем\n",
    "# раскомментируйте этот код, чтобы обучить bpe\n",
    "yttm.BPE.train(data='for_bpe.txt', vocab_size=vocab_size, model=model_path)"
   ]
  },
  {
   "cell_type": "code",
   "execution_count": 7,
   "metadata": {},
   "outputs": [],
   "source": [
    "# загружаем токенизатор\n",
    "tokenizer = yttm.BPE(model=model_path)"
   ]
  },
  {
   "cell_type": "code",
   "execution_count": 8,
   "metadata": {},
   "outputs": [
    {
     "data": {
      "text/plain": [
       "['<PAD>',\n",
       " '<UNK>',\n",
       " '<BOS>',\n",
       " '<EOS>',\n",
       " '▁',\n",
       " 'о',\n",
       " 'а',\n",
       " 'е',\n",
       " 'т',\n",
       " 'и',\n",
       " 'н',\n",
       " 'с',\n",
       " 'р',\n",
       " 'к',\n",
       " 'л']"
      ]
     },
     "execution_count": 8,
     "metadata": {},
     "output_type": "execute_result"
    }
   ],
   "source": [
    "tokenizer.vocab()[:15]"
   ]
  },
  {
   "cell_type": "code",
   "execution_count": 9,
   "metadata": {},
   "outputs": [
    {
     "data": {
      "text/plain": [
       "[['<BOS>',\n",
       "  '▁положено',\n",
       "  '▁ли',\n",
       "  '▁пособие',\n",
       "  '▁опека',\n",
       "  'емо',\n",
       "  'му',\n",
       "  '▁ребен',\n",
       "  'ку,',\n",
       "  '▁обуча',\n",
       "  'ющему',\n",
       "  'ся',\n",
       "  '▁в',\n",
       "  '▁колледже',\n",
       "  ',',\n",
       "  '▁после',\n",
       "  '▁18',\n",
       "  '▁лет?',\n",
       "  '<EOS>'],\n",
       " ['<BOS>',\n",
       "  '▁где',\n",
       "  '▁скачать',\n",
       "  '▁прогу',\n",
       "  '▁для',\n",
       "  '▁записи',\n",
       "  '▁видео',\n",
       "  '▁онлайн.',\n",
       "  '▁заранее',\n",
       "  '▁благодарен',\n",
       "  '!',\n",
       "  '<EOS>']]"
      ]
     },
     "execution_count": 9,
     "metadata": {},
     "output_type": "execute_result"
    }
   ],
   "source": [
    "# пример токенизации с выводом на уровне сабвордов\n",
    "tokenizer.encode(list(questions.question[:2]), bos=True, eos=True, output_type=yttm.OutputType.SUBWORD)"
   ]
  },
  {
   "cell_type": "code",
   "execution_count": 10,
   "metadata": {},
   "outputs": [
    {
     "data": {
      "text/plain": [
       "[[2,\n",
       "  17159,\n",
       "  1827,\n",
       "  6986,\n",
       "  22120,\n",
       "  3393,\n",
       "  1936,\n",
       "  2800,\n",
       "  2973,\n",
       "  16624,\n",
       "  9760,\n",
       "  1820,\n",
       "  1774,\n",
       "  10516,\n",
       "  31,\n",
       "  2083,\n",
       "  2866,\n",
       "  3228,\n",
       "  3],\n",
       " [2, 1960, 3076, 7139, 1907, 6317, 2264, 22772, 3441, 8381, 45, 3]]"
      ]
     },
     "execution_count": 10,
     "metadata": {},
     "output_type": "execute_result"
    }
   ],
   "source": [
    "# пример токенизации с выводом на уровне индексов\n",
    "# как раз это нам и понадобится\n",
    "tokenizer.encode(list(questions.question[:2]), bos=True, eos=True)"
   ]
  },
  {
   "cell_type": "code",
   "execution_count": 11,
   "metadata": {},
   "outputs": [
    {
     "data": {
      "text/plain": [
       "question    0\n",
       "dtype: int64"
      ]
     },
     "execution_count": 11,
     "metadata": {},
     "output_type": "execute_result"
    }
   ],
   "source": [
    "# проверим нет ли пропусков\n",
    "questions.isna().sum()"
   ]
  },
  {
   "cell_type": "code",
   "execution_count": 12,
   "metadata": {},
   "outputs": [
    {
     "name": "stderr",
     "output_type": "stream",
     "text": [
      "100%|██████████| 9905/9905 [00:20<00:00, 481.85it/s]\n"
     ]
    }
   ],
   "source": [
    "# давайте токенизируем наш датасет\n",
    "# токенизирую батчами, потому что так быстрее\n",
    "# также в начало добавляем токен bos (begin of sentence)\n",
    "# и в конец токен eos (end of sentence)\n",
    "\n",
    "tokenized = []\n",
    "\n",
    "batch_size = 256\n",
    "\n",
    "for i_batch in tqdm(range(math.ceil(len(questions.question) / batch_size))):\n",
    "    \n",
    "    tokenized.extend(tokenizer.encode(\n",
    "        list(questions.question[i_batch*batch_size:(i_batch+1)*batch_size]), bos=True, eos=True))"
   ]
  },
  {
   "cell_type": "markdown",
   "metadata": {},
   "source": [
    "### Формат данных\n",
    "\n",
    "По последовательности \"мама мыла\" нужно предсказать последовательность \"мыла раму\". Передаешь последовательность из двух слов в сетку \"мама мыла\" и получаешь предсказания такой же длины. Для каждого слова из исходной последовательности предсказать следующее слово.\n",
    "\n",
    "То есть по слову \"мама\" предсказать \"мыла\", а по слову \"мыла\" при условии, что предыдущее слово было \"мама\", предсказать следующее слово \"раму\". Вот именно это понятие \"при условии, что предыдущее слово было\" реализует RNN за счет памяти от состояния к состоянию."
   ]
  },
  {
   "cell_type": "code",
   "execution_count": 13,
   "metadata": {},
   "outputs": [],
   "source": [
    "sequence = 'чем бы мне заняться на выходных'.split()\n",
    "\n",
    "source_sequence = ['bos'] + sequence\n",
    "target_sequence = sequence + ['eos']"
   ]
  },
  {
   "cell_type": "code",
   "execution_count": 14,
   "metadata": {},
   "outputs": [
    {
     "name": "stdout",
     "output_type": "stream",
     "text": [
      "По токену \"bos\" предсказываем токен \"чем\"\n",
      "Или с точки зрения rnn\n",
      "По токену \"bos\" при условии того, что в памяти есть [] предсказываем токен \"чем\"\n",
      "\n",
      "По токену \"чем\" предсказываем токен \"бы\"\n",
      "Или с точки зрения rnn\n",
      "По токену \"чем\" при условии того, что в памяти есть ['bos'] предсказываем токен \"бы\"\n",
      "\n",
      "По токену \"бы\" предсказываем токен \"мне\"\n",
      "Или с точки зрения rnn\n",
      "По токену \"бы\" при условии того, что в памяти есть ['bos', 'чем'] предсказываем токен \"мне\"\n",
      "\n",
      "По токену \"мне\" предсказываем токен \"заняться\"\n",
      "Или с точки зрения rnn\n",
      "По токену \"мне\" при условии того, что в памяти есть ['bos', 'чем', 'бы'] предсказываем токен \"заняться\"\n",
      "\n",
      "По токену \"заняться\" предсказываем токен \"на\"\n",
      "Или с точки зрения rnn\n",
      "По токену \"заняться\" при условии того, что в памяти есть ['bos', 'чем', 'бы', 'мне'] предсказываем токен \"на\"\n",
      "\n",
      "По токену \"на\" предсказываем токен \"выходных\"\n",
      "Или с точки зрения rnn\n",
      "По токену \"на\" при условии того, что в памяти есть ['bos', 'чем', 'бы', 'мне', 'заняться'] предсказываем токен \"выходных\"\n",
      "\n",
      "По токену \"выходных\" предсказываем токен \"eos\"\n",
      "Или с точки зрения rnn\n",
      "По токену \"выходных\" при условии того, что в памяти есть ['bos', 'чем', 'бы', 'мне', 'заняться', 'на'] предсказываем токен \"eos\"\n",
      "\n"
     ]
    }
   ],
   "source": [
    "for n in range(len(source_sequence)):\n",
    "    print(f'По токену \"{source_sequence[n]}\" предсказываем токен \"{target_sequence[n]}\"')\n",
    "    print('Или с точки зрения rnn')\n",
    "    message = f'По токену \"{source_sequence[n]}\" при условии того, что в памяти есть {source_sequence[:n]}'\n",
    "    message += f' предсказываем токен \"{target_sequence[n]}\"'\n",
    "    print(message)\n",
    "    print()"
   ]
  },
  {
   "cell_type": "code",
   "execution_count": 15,
   "metadata": {},
   "outputs": [],
   "source": [
    "class LanguageModelData(torch.utils.data.Dataset):\n",
    "    \n",
    "    def __init__(self, data, max_len, pad_index, eos_index):\n",
    "        \n",
    "        self.data = data\n",
    "        \n",
    "        self.max_len = max_len\n",
    "        \n",
    "        self.pad_index = pad_index\n",
    "        self.eos_index = eos_index\n",
    "        \n",
    "    def __len__(self):\n",
    "        return len(self.data)\n",
    "    \n",
    "    def __getitem__(self, index):\n",
    "        \n",
    "        sequence = self.data[index][:self.max_len]\n",
    "        \n",
    "        # исходная последовательность\n",
    "        x = sequence[:]\n",
    "        # нужно предсказать смещенную последовательность\n",
    "        y = sequence[1:] + [self.eos_index]\n",
    "        \n",
    "        assert len(x) == len(y)\n",
    "        \n",
    "        pads = [self.pad_index] * (self.max_len - len(x))\n",
    "        \n",
    "        x = torch.tensor(x + pads).long()\n",
    "        y = torch.tensor(y + pads).long()\n",
    "        \n",
    "        return x, y"
   ]
  },
  {
   "cell_type": "code",
   "execution_count": 16,
   "metadata": {},
   "outputs": [
    {
     "data": {
      "text/plain": [
       "28.0"
      ]
     },
     "execution_count": 16,
     "metadata": {},
     "output_type": "execute_result"
    }
   ],
   "source": [
    "# надо выбрать максимальную длину\n",
    "lengths = np.array([len(x) for x in tokenized])\n",
    "np.percentile(lengths, q=95)"
   ]
  },
  {
   "cell_type": "code",
   "execution_count": 17,
   "metadata": {},
   "outputs": [
    {
     "data": {
      "text/plain": [
       "['<PAD>',\n",
       " '<UNK>',\n",
       " '<BOS>',\n",
       " '<EOS>',\n",
       " '▁',\n",
       " 'о',\n",
       " 'а',\n",
       " 'е',\n",
       " 'т',\n",
       " 'и',\n",
       " 'н',\n",
       " 'с',\n",
       " 'р',\n",
       " 'к',\n",
       " 'л']"
      ]
     },
     "execution_count": 17,
     "metadata": {},
     "output_type": "execute_result"
    }
   ],
   "source": [
    "tokenizer.vocab()[:15]"
   ]
  },
  {
   "cell_type": "code",
   "execution_count": 18,
   "metadata": {},
   "outputs": [],
   "source": [
    "batch_size = 64\n",
    "\n",
    "max_len = 32\n",
    "\n",
    "pad_index = 0\n",
    "eos_index = 3"
   ]
  },
  {
   "cell_type": "code",
   "execution_count": 19,
   "metadata": {},
   "outputs": [],
   "source": [
    "random.shuffle(tokenized)\n",
    "\n",
    "validation_start_index = int(len(tokenized) * 0.05)"
   ]
  },
  {
   "cell_type": "code",
   "execution_count": 20,
   "metadata": {},
   "outputs": [
    {
     "data": {
      "text/plain": [
       "(2408671, 126772)"
      ]
     },
     "execution_count": 20,
     "metadata": {},
     "output_type": "execute_result"
    }
   ],
   "source": [
    "train_dataset = LanguageModelData(data=tokenized[:-validation_start_index], max_len=max_len, \n",
    "                                  pad_index=pad_index, eos_index=eos_index)\n",
    "validation_dataset = LanguageModelData(data=tokenized[-validation_start_index:], max_len=max_len,\n",
    "                                       pad_index=pad_index, eos_index=eos_index)\n",
    "\n",
    "len(train_dataset), len(validation_dataset)"
   ]
  },
  {
   "cell_type": "code",
   "execution_count": 21,
   "metadata": {},
   "outputs": [],
   "source": [
    "train_loader = torch.utils.data.DataLoader(train_dataset, batch_size=batch_size)\n",
    "validation_loader = torch.utils.data.DataLoader(validation_dataset, batch_size=batch_size)"
   ]
  },
  {
   "cell_type": "code",
   "execution_count": 22,
   "metadata": {},
   "outputs": [],
   "source": [
    "for x, y in train_loader:\n",
    "    break"
   ]
  },
  {
   "cell_type": "code",
   "execution_count": 23,
   "metadata": {},
   "outputs": [
    {
     "data": {
      "text/plain": [
       "tensor([[    2,  1797, 21508,  ...,     0,     0,     0],\n",
       "        [    2, 18923,  2009,  ...,     0,     0,     0],\n",
       "        [    2,  4637,  7732,  ...,     0,     0,     0],\n",
       "        ...,\n",
       "        [    2,  1846,  2053,  ...,     0,     0,     0],\n",
       "        [    2,  1817,  2079,  ...,     0,     0,     0],\n",
       "        [    2, 29502,  3762,  ...,     0,     0,     0]])"
      ]
     },
     "execution_count": 23,
     "metadata": {},
     "output_type": "execute_result"
    }
   ],
   "source": [
    "x"
   ]
  },
  {
   "cell_type": "code",
   "execution_count": 24,
   "metadata": {},
   "outputs": [
    {
     "data": {
      "text/plain": [
       "tensor([[ 1797, 21508,  2967,  ...,     0,     0,     0],\n",
       "        [18923,  2009,  1817,  ...,     0,     0,     0],\n",
       "        [ 4637,  7732, 10694,  ...,     0,     0,     0],\n",
       "        ...,\n",
       "        [ 1846,  2053,  2872,  ...,     0,     0,     0],\n",
       "        [ 1817,  2079,  4059,  ...,     0,     0,     0],\n",
       "        [29502,  3762, 12255,  ...,     0,     0,     0]])"
      ]
     },
     "execution_count": 24,
     "metadata": {},
     "output_type": "execute_result"
    }
   ],
   "source": [
    "y"
   ]
  },
  {
   "cell_type": "code",
   "execution_count": 25,
   "metadata": {},
   "outputs": [
    {
     "data": {
      "text/plain": [
       "tensor([True, True, True, True, True, True, True, True, True, True, True, True,\n",
       "        True, True, True, True, True, True, True, True, True, True, True, True,\n",
       "        True, True, True, True, True, True, True, True, True, True, True, True,\n",
       "        True, True, True, True, True, True, True, True, True, True, True, True,\n",
       "        True, True, True, True, True, True, True, True, True, True, True, True,\n",
       "        True, True, True, True])"
      ]
     },
     "execution_count": 25,
     "metadata": {},
     "output_type": "execute_result"
    }
   ],
   "source": [
    "# первое слово в source равняется нулевому слову в target\n",
    "x[:, 1] == y[:, 0]"
   ]
  },
  {
   "cell_type": "code",
   "execution_count": 26,
   "metadata": {},
   "outputs": [
    {
     "name": "stderr",
     "output_type": "stream",
     "text": [
      "Testing: 100%|██████████| 126772/126772 [00:02<00:00, 55790.47it/s]\n"
     ]
    }
   ],
   "source": [
    "# пробежимся по итератору, чтобы убедиться что ничего не падает и он работает достаточно быстро\n",
    "\n",
    "progress_bar = tqdm(total=len(validation_loader.dataset), desc='Testing')\n",
    "\n",
    "for x, y in validation_loader:\n",
    "    progress_bar.update(x.size(0))\n",
    "    \n",
    "progress_bar.close()"
   ]
  },
  {
   "cell_type": "code",
   "execution_count": 27,
   "metadata": {},
   "outputs": [],
   "source": [
    "class LanguageModel(torch.nn.Module):\n",
    "    \n",
    "    def __init__(self, vocab_size, embedding_dim, model_dim, num_layers, dropout, padding_idx):\n",
    "        \n",
    "        super().__init__()\n",
    "        \n",
    "        # просто эмбеддинги\n",
    "        self.embedding_layer = torch.nn.Embedding(num_embeddings=vocab_size, \n",
    "                                                  embedding_dim=embedding_dim,\n",
    "                                                  padding_idx=padding_idx)\n",
    "        \n",
    "        # просто lstm\n",
    "        self.lstm = torch.nn.LSTM(input_size=embedding_dim, \n",
    "                                  hidden_size=model_dim,\n",
    "                                  num_layers=num_layers, \n",
    "                                  dropout=0.3,\n",
    "                                  batch_first=True)\n",
    "        \n",
    "        # выходная матрица эмбеддингов\n",
    "        # количество выходных фичей равно размеру словаря\n",
    "        # то есть это задача мультиклассовой классификации, но только классов очень много\n",
    "        self.language_model_head = torch.nn.Linear(in_features=model_dim,\n",
    "                                                   out_features=vocab_size,\n",
    "                                                   bias=False)\n",
    "        \n",
    "    def forward(self, x):\n",
    "        \n",
    "        x = self.embedding_layer(x)\n",
    "        \n",
    "        x, _ = self.lstm(x)\n",
    "        \n",
    "        # к каждому элементу последовательности применяется выходная матрица эмбеддингов, \n",
    "        # которая переводит вектор lstm в предсказание конкретного слова\n",
    "        x = self.language_model_head(x)\n",
    "        \n",
    "        return x"
   ]
  },
  {
   "cell_type": "markdown",
   "metadata": {},
   "source": [
    "###  Device\n",
    "\n",
    "Таким образом задается девайс, на котором мы будем обучаться. Мы можем указать либо гпу (вплоть до конкретной карты), либо цпу. В этой домашке нам обязательно понадобится гпу, так как на цпу обучение будет занимать слишко долгое время.\n",
    "\n",
    "Используйте для гпу такие сервисы:  \n",
    "Бесплатный: https://colab.research.google.com/  \n",
    "\n",
    "Почти бесплатный: https://vast.ai  \n",
    "Хороший выбор машины с гпу - 1080TI  \n",
    "Стоимость такой машины примерно 8 рублей в час"
   ]
  },
  {
   "cell_type": "code",
   "execution_count": 28,
   "metadata": {},
   "outputs": [],
   "source": [
    "assert torch.cuda.is_available(), 'у вас не находится гпу'\n",
    "\n",
    "device = torch.device('cuda:1')"
   ]
  },
  {
   "cell_type": "code",
   "execution_count": 29,
   "metadata": {},
   "outputs": [],
   "source": [
    "embedding_dim = 128\n",
    "model_dim = 128\n",
    "num_layers = 2\n",
    "dropout = 0.35"
   ]
  },
  {
   "cell_type": "code",
   "execution_count": 30,
   "metadata": {},
   "outputs": [
    {
     "data": {
      "text/plain": [
       "LanguageModel(\n",
       "  (embedding_layer): Embedding(30000, 128, padding_idx=0)\n",
       "  (lstm): LSTM(128, 128, num_layers=2, batch_first=True, dropout=0.3)\n",
       "  (language_model_head): Linear(in_features=128, out_features=30000, bias=False)\n",
       ")"
      ]
     },
     "execution_count": 30,
     "metadata": {},
     "output_type": "execute_result"
    }
   ],
   "source": [
    "model = LanguageModel(vocab_size=vocab_size, embedding_dim=embedding_dim,\n",
    "                      model_dim=model_dim, num_layers=num_layers,\n",
    "                      dropout=dropout, padding_idx=pad_index)\n",
    "model.to(device)"
   ]
  },
  {
   "cell_type": "code",
   "execution_count": 31,
   "metadata": {},
   "outputs": [],
   "source": [
    "def count_parameters(model):\n",
    "    return sum(p.numel() for p in model.parameters() if p.requires_grad)"
   ]
  },
  {
   "cell_type": "code",
   "execution_count": 32,
   "metadata": {},
   "outputs": [
    {
     "name": "stdout",
     "output_type": "stream",
     "text": [
      "Количество обучаемых параметров в сети: 7,944,192\n"
     ]
    }
   ],
   "source": [
    "print(f'Количество обучаемых параметров в сети: {count_parameters(model):,}')"
   ]
  },
  {
   "cell_type": "code",
   "execution_count": 33,
   "metadata": {},
   "outputs": [],
   "source": [
    "x = x.to(device)\n",
    "y = y.to(device)"
   ]
  },
  {
   "cell_type": "code",
   "execution_count": 34,
   "metadata": {},
   "outputs": [],
   "source": [
    "# проверим все ли корректно предсказывается\n",
    "with torch.no_grad():\n",
    "    pred = model(x)"
   ]
  },
  {
   "cell_type": "code",
   "execution_count": 35,
   "metadata": {},
   "outputs": [
    {
     "data": {
      "text/plain": [
       "torch.Size([52, 32, 30000])"
      ]
     },
     "execution_count": 35,
     "metadata": {},
     "output_type": "execute_result"
    }
   ],
   "source": [
    "pred.shape"
   ]
  },
  {
   "cell_type": "code",
   "execution_count": 36,
   "metadata": {},
   "outputs": [],
   "source": [
    "# у нас есть тег eos (end of sentence), который есть в каждом тренировочном примере\n",
    "# мы не будем считать лосс для падов\n",
    "# вместо этого будем останавливать генерирование моделью в момент, когда она сгенерирует тег eos\n",
    "# \n",
    "criterion = torch.nn.CrossEntropyLoss(ignore_index=pad_index)\n",
    "optimizer = torch.optim.Adam(params=model.parameters())"
   ]
  },
  {
   "cell_type": "code",
   "execution_count": 37,
   "metadata": {},
   "outputs": [
    {
     "data": {
      "text/plain": [
       "(torch.Size([1664, 30000]), torch.Size([1664]))"
      ]
     },
     "execution_count": 37,
     "metadata": {},
     "output_type": "execute_result"
    }
   ],
   "source": [
    "# развернем все наши предсказания в один большой батч\n",
    "# наши предсказания и наши таргеты сохраняют свое местоположение\n",
    "# а пады не учитываются в расчете лосса\n",
    "pred.view(-1, pred.size(-1)).shape, y.view(-1).shape"
   ]
  },
  {
   "cell_type": "code",
   "execution_count": 38,
   "metadata": {},
   "outputs": [
    {
     "data": {
      "text/plain": [
       "10.312191009521484"
      ]
     },
     "execution_count": 38,
     "metadata": {},
     "output_type": "execute_result"
    }
   ],
   "source": [
    "# и за счет этого вот так просто можем посчитать лосс для всего батча и для всех таймстемпов\n",
    "\n",
    "loss = criterion(pred.view(-1, pred.size(-1)), y.view(-1))\n",
    "\n",
    "loss.item()"
   ]
  },
  {
   "cell_type": "code",
   "execution_count": 39,
   "metadata": {},
   "outputs": [],
   "source": [
    "# функция для обучения одной эпохи\n",
    "# почти все как всегда\n",
    "\n",
    "def train(model, loader, criterion, optimizer, last_n_losses=500, verbose=True):\n",
    "    \n",
    "    losses = []\n",
    "\n",
    "    progress_bar = tqdm(total=len(loader), disable=not verbose, desc='Train')\n",
    "\n",
    "    model.train()\n",
    "\n",
    "    for x, y in loader:\n",
    "\n",
    "        x = x.to(device)\n",
    "        y = y.to(device)\n",
    "\n",
    "        pred = model(x)\n",
    "\n",
    "        loss = criterion(pred.view(-1, pred.size(-1)), y.view(-1))\n",
    "\n",
    "        optimizer.zero_grad()\n",
    "        loss.backward()\n",
    "        optimizer.step()\n",
    "\n",
    "        losses.append(loss.item())\n",
    "\n",
    "        progress_bar.set_postfix(loss=np.mean(losses[-last_n_losses:]),\n",
    "                                 perplexity=np.exp(np.mean(losses[-last_n_losses:])))\n",
    "\n",
    "        progress_bar.update()\n",
    "\n",
    "    progress_bar.close()\n",
    "    \n",
    "    return losses"
   ]
  },
  {
   "cell_type": "code",
   "execution_count": 40,
   "metadata": {},
   "outputs": [
    {
     "name": "stderr",
     "output_type": "stream",
     "text": [
      "Train: 100%|██████████| 1981/1981 [00:33<00:00, 58.28it/s, loss=6.91, perplexity=1e+3]   \n"
     ]
    }
   ],
   "source": [
    "# обратите внимание, что будем тестироваться (именно коректность кода) на валидационном датасете\n",
    "# нам сейчас важно понять, что все работает\n",
    "# код не падает, лосс снижается\n",
    "# валидационный датасет сильно меньше тренировочного и давайте будем тестироваться (понять, что все работает) на нем\n",
    "epoch_losses = train(model, validation_loader, criterion, optimizer)"
   ]
  },
  {
   "cell_type": "code",
   "execution_count": 41,
   "metadata": {},
   "outputs": [
    {
     "data": {
      "text/plain": [
       "[<matplotlib.lines.Line2D at 0x7f5ec3f25810>]"
      ]
     },
     "execution_count": 41,
     "metadata": {},
     "output_type": "execute_result"
    },
    {
     "data": {
      "image/png": "[encoded data removed]",
      "text/plain": [
       "<Figure size 1008x1008 with 1 Axes>"
      ]
     },
     "metadata": {
      "needs_background": "light"
     },
     "output_type": "display_data"
    }
   ],
   "source": [
    "plt.figure(figsize=(14, 14))\n",
    "plt.xlabel('Номер батча')\n",
    "plt.ylabel('Значение функции потерь')\n",
    "plt.title('Процесс обучения')\n",
    "plt.plot(epoch_losses)"
   ]
  },
  {
   "cell_type": "code",
   "execution_count": 42,
   "metadata": {},
   "outputs": [],
   "source": [
    "# фукнция для расчета метрик на тесте\n",
    "\n",
    "def evaluate(model, loader, criterion, last_n_losses=500, verbose=True):\n",
    "    \n",
    "    losses = []\n",
    "\n",
    "    progress_bar = tqdm(total=len(loader), disable=not verbose, desc='Evaluate')\n",
    "\n",
    "    model.eval()\n",
    "\n",
    "    for x, y in loader:\n",
    "\n",
    "        x = x.to(device)\n",
    "        y = y.to(device)\n",
    "\n",
    "        with torch.no_grad():\n",
    "            pred = model(x)\n",
    "\n",
    "        loss = criterion(pred.view(-1, pred.size(-1)), y.view(-1))\n",
    "\n",
    "        losses.append(loss.item())\n",
    "\n",
    "        progress_bar.set_postfix(loss=np.mean(losses[-last_n_losses:]),\n",
    "                                 perplexity=np.exp(np.mean(losses[-last_n_losses:])))\n",
    "\n",
    "        progress_bar.update()\n",
    "\n",
    "    progress_bar.close()\n",
    "    \n",
    "    return losses"
   ]
  },
  {
   "cell_type": "code",
   "execution_count": 43,
   "metadata": {},
   "outputs": [
    {
     "name": "stderr",
     "output_type": "stream",
     "text": [
      "Evaluate: 100%|██████████| 1981/1981 [00:14<00:00, 139.33it/s, loss=6.68, perplexity=796]\n"
     ]
    },
    {
     "data": {
      "text/plain": [
       "'Val loss - 6.765 perplexity - 866.874'"
      ]
     },
     "execution_count": 43,
     "metadata": {},
     "output_type": "execute_result"
    }
   ],
   "source": [
    "val_losses = evaluate(model, validation_loader, criterion)\n",
    "f'Val loss - {np.mean(val_losses):.3f} perplexity - {np.exp(np.mean(val_losses)):.3f}'"
   ]
  },
  {
   "cell_type": "code",
   "execution_count": 44,
   "metadata": {},
   "outputs": [],
   "source": [
    "# это специальный дропаут для реккуретных сетей\n",
    "# хорошо это объясняется здесь: https://youtu.be/WLaAIYQHHMU?t=1093\n",
    "\n",
    "class SpatialDropout(torch.nn.Dropout2d):\n",
    "    \n",
    "    def __init__(self, p=0.5):\n",
    "        super().__init__()\n",
    "        self.p = p\n",
    "    \n",
    "    def forward(self, x):\n",
    "        x = x.unsqueeze(2)    # (N, T, 1, K)\n",
    "        x = x.permute(0, 3, 2, 1)  # (N, K, 1, T)\n",
    "        x = super(SpatialDropout, self).forward(x)  # (N, K, 1, T)\n",
    "        x = x.permute(0, 3, 2, 1)  # (N, T, 1, K)\n",
    "        x = x.squeeze(2)  # (N, T, K)\n",
    "        return x"
   ]
  },
  {
   "cell_type": "code",
   "execution_count": 45,
   "metadata": {},
   "outputs": [],
   "source": [
    "spatial_dropout = SpatialDropout()\n",
    "common_dropout = torch.nn.Dropout()"
   ]
  },
  {
   "cell_type": "code",
   "execution_count": 46,
   "metadata": {},
   "outputs": [],
   "source": [
    "# пусть у нас есть какой батч с размером батча 2 пример, 4 длиной последовательности и 8 размеров эмбеддинга\n",
    "z = torch.rand(2, 4, 6)"
   ]
  },
  {
   "cell_type": "code",
   "execution_count": 47,
   "metadata": {},
   "outputs": [
    {
     "data": {
      "text/plain": [
       "tensor([[[0.2343, 0.0815, 0.4016, 0.8253, 0.5249, 0.8391],\n",
       "         [0.4733, 0.9123, 0.2109, 0.2206, 0.4730, 0.1146],\n",
       "         [0.7692, 0.1277, 0.8900, 0.6446, 0.3263, 0.7620],\n",
       "         [0.4521, 0.9696, 0.6628, 0.5838, 0.7607, 0.7098]],\n",
       "\n",
       "        [[0.7371, 0.4247, 0.8642, 0.1821, 0.4250, 0.6249],\n",
       "         [0.6614, 0.7795, 0.2987, 0.9362, 0.6121, 0.0543],\n",
       "         [0.4832, 0.3873, 0.4724, 0.5110, 0.8277, 0.7672],\n",
       "         [0.4431, 0.9859, 0.2180, 0.2147, 0.7895, 0.3397]]])"
      ]
     },
     "execution_count": 47,
     "metadata": {},
     "output_type": "execute_result"
    }
   ],
   "source": [
    "z"
   ]
  },
  {
   "cell_type": "code",
   "execution_count": 48,
   "metadata": {},
   "outputs": [
    {
     "data": {
      "text/plain": [
       "tensor([[[0.0000, 0.1630, 0.8032, 1.6506, 1.0499, 1.6782],\n",
       "         [0.0000, 1.8245, 0.4218, 0.4412, 0.9461, 0.2293],\n",
       "         [0.0000, 0.2554, 1.7800, 1.2891, 0.6527, 1.5240],\n",
       "         [0.0000, 1.9392, 1.3256, 1.1675, 1.5214, 1.4195]],\n",
       "\n",
       "        [[0.0000, 0.0000, 0.0000, 0.0000, 0.0000, 1.2497],\n",
       "         [0.0000, 0.0000, 0.0000, 0.0000, 0.0000, 0.1087],\n",
       "         [0.0000, 0.0000, 0.0000, 0.0000, 0.0000, 1.5345],\n",
       "         [0.0000, 0.0000, 0.0000, 0.0000, 0.0000, 0.6794]]])"
      ]
     },
     "execution_count": 48,
     "metadata": {},
     "output_type": "execute_result"
    }
   ],
   "source": [
    "# этот дропаут выкидывает значения для какого-либо размерности для каждого элемента последовательности\n",
    "# чем это лучше обычного дропаута в реккуретных сетях можно посмотреть опять-таки здесь: https://youtu.be/WLaAIYQHHMU?t=1093\n",
    "spatial_dropout(z)"
   ]
  },
  {
   "cell_type": "code",
   "execution_count": 49,
   "metadata": {},
   "outputs": [
    {
     "data": {
      "text/plain": [
       "tensor([[[0.4686, 0.0000, 0.8032, 1.6506, 0.0000, 1.6782],\n",
       "         [0.9467, 1.8245, 0.0000, 0.4412, 0.0000, 0.0000],\n",
       "         [0.0000, 0.0000, 1.7800, 1.2891, 0.6527, 1.5240],\n",
       "         [0.9042, 1.9392, 1.3256, 1.1675, 1.5214, 0.0000]],\n",
       "\n",
       "        [[1.4741, 0.8494, 0.0000, 0.3641, 0.0000, 1.2497],\n",
       "         [0.0000, 1.5591, 0.0000, 0.0000, 1.2242, 0.0000],\n",
       "         [0.0000, 0.0000, 0.0000, 0.0000, 1.6554, 0.0000],\n",
       "         [0.0000, 1.9718, 0.0000, 0.4294, 0.0000, 0.6794]]])"
      ]
     },
     "execution_count": 49,
     "metadata": {},
     "output_type": "execute_result"
    }
   ],
   "source": [
    "# а вот так работает простой дропаут\n",
    "common_dropout(z)"
   ]
  },
  {
   "cell_type": "code",
   "execution_count": 50,
   "metadata": {},
   "outputs": [
    {
     "data": {
      "text/plain": [
       "(torch.Size([30000, 128]), torch.Size([30000, 128]))"
      ]
     },
     "execution_count": 50,
     "metadata": {},
     "output_type": "execute_result"
    }
   ],
   "source": [
    "# заметим, что входные и выходные эмбеддинги имеют одинаковую размерность\n",
    "# точней они могут иметь не одинаковую, но мы можем сделать ее одинаковой\n",
    "# и мы можем сделать такую вещь как weight tying\n",
    "# когда выходящие эмбеддинги шарят веса с входящими\n",
    "# это полезно делать, потому что, как правило, матрица эмбеддингов занимает самую большую долю всех весов в сети\n",
    "# а в языковой модели у нас целых 2 такие матрицы\n",
    "# давайте выходной слой будет ссылаться (шарить) на веса входящего слоя эмбеддингов\n",
    "\n",
    "model.embedding_layer.weight.shape, model.language_model_head.weight.shape"
   ]
  },
  {
   "cell_type": "code",
   "execution_count": 51,
   "metadata": {},
   "outputs": [],
   "source": [
    "class LanguageModel(torch.nn.Module):\n",
    "    \n",
    "    def __init__(self, vocab_size, embedding_dim, model_dim, num_layers,\n",
    "                 padding_idx, dropout=0.35, weight_tying=True):\n",
    "        \n",
    "        super().__init__()\n",
    "        \n",
    "        self.embedding_layer = torch.nn.Embedding(num_embeddings=vocab_size,\n",
    "                                                  embedding_dim=embedding_dim, padding_idx=padding_idx)\n",
    "        \n",
    "        self.embedding_dropout = SpatialDropout(p=dropout)\n",
    "        \n",
    "        self.lstm = torch.nn.LSTM(input_size=embedding_dim, hidden_size=model_dim, \n",
    "                                  num_layers=num_layers, dropout=dropout, batch_first=True)\n",
    "        \n",
    "        self.language_model_head = torch.nn.Linear(in_features=model_dim, out_features=vocab_size, bias=False)\n",
    "        \n",
    "        # как раз здесь задаем, чтобы веса входящего и выходящего слоя эмбеддингов шарились\n",
    "        if weight_tying and embedding_dim == model_dim:\n",
    "            self.language_model_head.weight = self.embedding_layer.weight\n",
    "        \n",
    "    def forward(self, x):\n",
    "        \n",
    "        x = self.embedding_layer(x)\n",
    "        \n",
    "        x = self.embedding_dropout(x)\n",
    "        \n",
    "        x, _ = self.lstm(x)\n",
    "        \n",
    "        x = self.language_model_head(x)\n",
    "        \n",
    "        return x"
   ]
  },
  {
   "cell_type": "code",
   "execution_count": 52,
   "metadata": {},
   "outputs": [],
   "source": [
    "model = LanguageModel(vocab_size=vocab_size, embedding_dim=embedding_dim, model_dim=model_dim, \n",
    "                      num_layers=num_layers, dropout=dropout, padding_idx=pad_index, weight_tying=True)"
   ]
  },
  {
   "cell_type": "code",
   "execution_count": 53,
   "metadata": {},
   "outputs": [
    {
     "name": "stdout",
     "output_type": "stream",
     "text": [
      "Количество обучаемых параметров в сети: 4,104,192\n",
      "Их стало сильно меньше за счет weight tying!\n"
     ]
    }
   ],
   "source": [
    "print(f'Количество обучаемых параметров в сети: {count_parameters(model):,}')\n",
    "print('Их стало сильно меньше за счет weight tying!')"
   ]
  },
  {
   "cell_type": "code",
   "execution_count": 54,
   "metadata": {},
   "outputs": [],
   "source": [
    "model.to(device)\n",
    "optimizer = torch.optim.Adam(params=model.parameters())"
   ]
  },
  {
   "cell_type": "code",
   "execution_count": 55,
   "metadata": {},
   "outputs": [
    {
     "name": "stderr",
     "output_type": "stream",
     "text": [
      "Train: 100%|██████████| 1981/1981 [00:32<00:00, 60.52it/s, loss=7.29, perplexity=1.46e+3]\n"
     ]
    }
   ],
   "source": [
    "epoch_losses = train(model, validation_loader, criterion, optimizer)"
   ]
  },
  {
   "cell_type": "markdown",
   "metadata": {},
   "source": [
    "### Метрики стали хуже, но на долгосрочную переспективу они будут лучше"
   ]
  },
  {
   "cell_type": "code",
   "execution_count": 56,
   "metadata": {},
   "outputs": [
    {
     "data": {
      "text/plain": [
       "7.29207181930542"
      ]
     },
     "execution_count": 56,
     "metadata": {},
     "output_type": "execute_result"
    }
   ],
   "source": [
    "# вот что происходит внутри сети\n",
    "\n",
    "# переключаем в режим предсказаний\n",
    "model.eval()\n",
    "\n",
    "with torch.no_grad():\n",
    "    \n",
    "    emb = model.embedding_layer(x)\n",
    "\n",
    "    emb = model.embedding_dropout(emb)\n",
    "\n",
    "    lstm_out, _ = model.lstm(emb)\n",
    "\n",
    "    prediction = model.language_model_head(lstm_out)\n",
    "    \n",
    "# переключаем в режим тренировки обратно\n",
    "model.train()\n",
    "\n",
    "# считаем функцию потерь\n",
    "criterion(prediction.view(-1, pred.size(-1)), y.view(-1)).item()"
   ]
  },
  {
   "cell_type": "code",
   "execution_count": 57,
   "metadata": {},
   "outputs": [
    {
     "data": {
      "text/plain": [
       "torch.Size([52, 32, 30000])"
      ]
     },
     "execution_count": 57,
     "metadata": {},
     "output_type": "execute_result"
    }
   ],
   "source": [
    "prediction.shape"
   ]
  },
  {
   "cell_type": "code",
   "execution_count": 58,
   "metadata": {},
   "outputs": [
    {
     "data": {
      "text/plain": [
       "7.29207181930542"
      ]
     },
     "execution_count": 58,
     "metadata": {},
     "output_type": "execute_result"
    }
   ],
   "source": [
    "# давайте распишем подробнее\n",
    "# как lstm итерируется по каждому таймстемпу\n",
    "\n",
    "# переключаем в режим предсказаний\n",
    "model.eval()\n",
    "\n",
    "with torch.no_grad():\n",
    "    \n",
    "    # массив для предсказаний нашей последовательности\n",
    "    pred = []\n",
    "    \n",
    "    # инициализация памяти для lstm\n",
    "    zeros = torch.zeros(num_layers, x.size(0), model_dim, dtype=torch.float32, device=x.device)\n",
    "    hx = (zeros, zeros)\n",
    "    \n",
    "    # цикл по временной последовательности\n",
    "    for timestamp in range(x.size(1)):\n",
    "        \n",
    "        # выбираем на каждому шаге очередной токен и добавляем размерность будто у нас предложения из 1 токена\n",
    "        current_token = x[:, timestamp].unsqueeze(1)\n",
    "        \n",
    "        emb = model.embedding_layer(current_token)\n",
    "\n",
    "        emb = model.embedding_dropout(emb)\n",
    "\n",
    "        # рассчитываем предикт lstm и обновляем память\n",
    "        lstm_out, hx = model.lstm(emb, hx)\n",
    "\n",
    "        # предсказываем следующий токен\n",
    "        next_token_prediction = model.language_model_head(lstm_out)\n",
    "        \n",
    "        # добавляем в массив предсказаний\n",
    "        pred.append(next_token_prediction)\n",
    "       \n",
    "    # конкатерируем в последовательность\n",
    "    pred = torch.cat(pred, dim=1)\n",
    "    \n",
    "# переключаем в режим тренировки обратно\n",
    "model.train()\n",
    "    \n",
    "# считаем функцию потерь\n",
    "criterion(pred.view(-1, pred.size(-1)), y.view(-1)).item()"
   ]
  },
  {
   "cell_type": "markdown",
   "metadata": {},
   "source": [
    "### Генерация\n",
    "В конце туториала мы будем использовать текст, чтобы его продолжить, а сейчас используем на вход только токен bos (begin of sentence)"
   ]
  },
  {
   "cell_type": "code",
   "execution_count": 59,
   "metadata": {},
   "outputs": [],
   "source": [
    "model.eval()\n",
    "\n",
    "with torch.no_grad():\n",
    "    \n",
    "    pred = []\n",
    "    \n",
    "    zeros = torch.zeros(num_layers, x.size(0), model_dim, dtype=torch.float32, device=x.device)\n",
    "    hx = (zeros, zeros)\n",
    "    \n",
    "    # семплируем начальный токен bos для каждого предложения\n",
    "    current_token = x[:, 0].unsqueeze(1)\n",
    "    \n",
    "    for timestamp in range(x.size(1)):\n",
    "        \n",
    "        # пока все то же самое\n",
    "        emb = model.embedding_layer(current_token)\n",
    "\n",
    "        emb = model.embedding_dropout(emb)\n",
    "\n",
    "        lstm_out, hx = model.lstm(emb, hx)\n",
    "\n",
    "        next_token_prediction = model.language_model_head(lstm_out)\n",
    "        \n",
    "        pred.append(next_token_prediction)\n",
    "        \n",
    "        # но вот здесь мы семплируем предсказания сети и передадим это как текущий токен для следующего таймстемпа\n",
    "        current_token = next_token_prediction.argmax(dim=2)\n",
    "        \n",
    "    pred = torch.cat(pred, dim=1)\n",
    "    \n",
    "model.train()\n",
    "    \n",
    "tokens = pred.argmax(dim=-1).detach().cpu().numpy()"
   ]
  },
  {
   "cell_type": "code",
   "execution_count": 60,
   "metadata": {},
   "outputs": [
    {
     "data": {
      "text/plain": [
       "array([[1797, 2395, 1774, ...,    3,    3,    3],\n",
       "       [1797, 2395, 1774, ...,    3,    3,    3],\n",
       "       [1797, 2395, 1774, ...,    3,    3,    3],\n",
       "       ...,\n",
       "       [1797, 2395, 1774, ...,    3,    3,    3],\n",
       "       [1797, 2395, 1774, ...,    3,    3,    3],\n",
       "       [1797, 2395, 1774, ...,    3,    3,    3]])"
      ]
     },
     "execution_count": 60,
     "metadata": {},
     "output_type": "execute_result"
    }
   ],
   "source": [
    "# вот что мы предсказали\n",
    "tokens"
   ]
  },
  {
   "cell_type": "code",
   "execution_count": 61,
   "metadata": {},
   "outputs": [],
   "source": [
    "predicted_texts = tokenizer.decode(tokens.tolist())"
   ]
  },
  {
   "cell_type": "code",
   "execution_count": 62,
   "metadata": {},
   "outputs": [
    {
     "name": "stdout",
     "output_type": "stream",
     "text": [
      "как называется в москве\n",
      "как называется в москве\n",
      "как называется в москве\n",
      "как называется в москве\n",
      "как называется в москве\n"
     ]
    }
   ],
   "source": [
    "for n in range(5):\n",
    "    print(predicted_texts[n][:predicted_texts[n].index('<EOS>')])\n",
    "    \n",
    "# они все одинаковые, потому что на вход подается один и тот же токен <BOS>, а веса модели зафиксированы"
   ]
  },
  {
   "cell_type": "markdown",
   "metadata": {},
   "source": [
    "### Результаты генерации\n",
    "\n",
    "Достаточно неплохо для 30 секунд обучения."
   ]
  },
  {
   "cell_type": "markdown",
   "metadata": {},
   "source": [
    "### Sequence bucketing\n",
    "\n",
    "Наша модель никак не привязана к длине последовательности, привязана только лишь читалка данных и мы искуственно ограничиваем длину наших примеров.\n",
    "\n",
    "Мы можем обрубать длины примеров в нашем батче до максимальной длины в батче, но батче могут быть 63 примера с длиной, допустим, 10 и 1 пример с длиной в 31 слова. В этом случае мы обрубим длину только лишь на один токен и будем тратить лишнее время итерируясь по нулям, которые нам не нужны.\n",
    "\n",
    "Может стоит отсортировать датасет и идти от самого маленького к самому большому примеру или наоброт. Еще большая проблема, потому что, как минимум, предложения разной длины несут разный смысл. И наша сеть по мере обучения будет от эпохи к эпохе стараться адаптироваться то к маленьким, то к большим последовательностям. Это очень плохо.\n",
    "\n",
    "А давайте мы тогда составим наши батчи с примерно одинаковой длиной, зашафлим данные на уровне батче и будем итерироваться по батчам с одинаковой длиной. То есть у нас будет то длиный батч, то короткий, то средний, то есть мы не будем привязываться к длине.\n",
    "\n",
    "Ниже достаточно простой (но не единственный и далеко не оптимальный) способ это сделать."
   ]
  },
  {
   "cell_type": "code",
   "execution_count": 63,
   "metadata": {},
   "outputs": [],
   "source": [
    "tokenized = sorted(tokenized, key=lambda x: len(x))\n",
    "\n",
    "# сделаем батч побольше\n",
    "batch_size = 256\n",
    "\n",
    "batches = []\n",
    "\n",
    "for i_batch in range(math.ceil(len(tokenized) / batch_size)):\n",
    "    \n",
    "    batches.append(tokenized[i_batch*batch_size:(i_batch+1)*batch_size])"
   ]
  },
  {
   "cell_type": "code",
   "execution_count": 64,
   "metadata": {},
   "outputs": [
    {
     "data": {
      "text/plain": [
       "9905"
      ]
     },
     "execution_count": 64,
     "metadata": {},
     "output_type": "execute_result"
    }
   ],
   "source": [
    "len(batches)"
   ]
  },
  {
   "cell_type": "code",
   "execution_count": 65,
   "metadata": {},
   "outputs": [],
   "source": [
    "random.shuffle(batches)"
   ]
  },
  {
   "cell_type": "code",
   "execution_count": 66,
   "metadata": {},
   "outputs": [
    {
     "data": {
      "text/plain": [
       "[22, 22, 22, 22, 22]"
      ]
     },
     "execution_count": 66,
     "metadata": {},
     "output_type": "execute_result"
    }
   ],
   "source": [
    "[len(sample) for sample in random.choice(batches)][:5]"
   ]
  },
  {
   "cell_type": "code",
   "execution_count": 67,
   "metadata": {},
   "outputs": [],
   "source": [
    "class SequenceBucketingData(torch.utils.data.Dataset):\n",
    "    \n",
    "    def __init__(self, data, max_len, pad_index, eos_index):\n",
    "        \n",
    "        self.data = data\n",
    "        \n",
    "        self.max_len = max_len\n",
    "        \n",
    "        self.pad_index = pad_index\n",
    "        self.eos_index = eos_index\n",
    "        \n",
    "    def __len__(self):\n",
    "        return len(self.data)\n",
    "    \n",
    "    def prepare_sample(self, sequence, max_len):\n",
    "        \n",
    "        sequence = sequence[:max_len]\n",
    "        \n",
    "        x = sequence[:]\n",
    "        y = sequence[1:] + [self.eos_index]\n",
    "        \n",
    "        assert len(x) == len(y)\n",
    "        \n",
    "        pads = [self.pad_index] * (max_len - len(x))\n",
    "        \n",
    "        x += pads\n",
    "        y += pads\n",
    "        \n",
    "        return x, y\n",
    "    \n",
    "    def __getitem__(self, index):\n",
    "        \n",
    "        batch = self.data[index]\n",
    "        \n",
    "        max_len = min([self.max_len, max([len(sample) for sample in batch])])\n",
    "        \n",
    "        batch_x = []\n",
    "        batch_y = []\n",
    "        \n",
    "        for sample in batch:\n",
    "            x, y = self.prepare_sample(sample, max_len)\n",
    "            batch_x.append(x)\n",
    "            batch_y.append(y)\n",
    "        \n",
    "        batch_x = torch.tensor(batch_x).long()\n",
    "        batch_y = torch.tensor(batch_y).long()\n",
    "        \n",
    "        return batch_x, batch_y"
   ]
  },
  {
   "cell_type": "code",
   "execution_count": 68,
   "metadata": {},
   "outputs": [],
   "source": [
    "validation_start_index = int(len(batches) * 0.05)"
   ]
  },
  {
   "cell_type": "code",
   "execution_count": 69,
   "metadata": {},
   "outputs": [],
   "source": [
    "train_dataset = SequenceBucketingData(batches[:-validation_start_index], max_len, pad_index, eos_index)\n",
    "validation_dataset = SequenceBucketingData(batches[-validation_start_index:], max_len, pad_index, eos_index)"
   ]
  },
  {
   "cell_type": "code",
   "execution_count": 70,
   "metadata": {},
   "outputs": [],
   "source": [
    "# чтобы убрать лишнюю размерность\n",
    "\n",
    "def collate_fn(x):\n",
    "    \n",
    "    x, y = x[0]\n",
    "\n",
    "    return x, y"
   ]
  },
  {
   "cell_type": "code",
   "execution_count": 71,
   "metadata": {},
   "outputs": [],
   "source": [
    "# ставим batch_size=1 потому что датасет уже отдает батч\n",
    "# добавим shuffle=True\n",
    "# за счет этого флага каждую эпоху датасет перемешивается\n",
    "\n",
    "# collate_fn это функция, с помощью которой можно задать свою логику сборки батча\n",
    "\n",
    "train_loader = torch.utils.data.DataLoader(train_dataset, \n",
    "                                           batch_size=1,\n",
    "                                           collate_fn=collate_fn,\n",
    "                                           shuffle=True)\n",
    "\n",
    "validation_loader = torch.utils.data.DataLoader(validation_dataset,\n",
    "                                                batch_size=1,\n",
    "                                                collate_fn=collate_fn, \n",
    "                                                shuffle=True)"
   ]
  },
  {
   "cell_type": "code",
   "execution_count": 72,
   "metadata": {},
   "outputs": [
    {
     "name": "stderr",
     "output_type": "stream",
     "text": [
      "Testing: 100%|██████████| 495/495 [00:00<00:00, 800.93it/s]\n"
     ]
    }
   ],
   "source": [
    "# пробежимся по итератору, чтобы убедиться что ничего не падает и он работает достаточно быстро\n",
    "\n",
    "progress_bar = tqdm(total=len(validation_loader.dataset), desc='Testing')\n",
    "\n",
    "for x, y in validation_loader:\n",
    "    progress_bar.update()\n",
    "    \n",
    "progress_bar.close()"
   ]
  },
  {
   "cell_type": "code",
   "execution_count": 73,
   "metadata": {},
   "outputs": [
    {
     "data": {
      "text/plain": [
       "tensor([[    2,  2580,  1827,  ..., 12980,  2561,     3],\n",
       "        [    2,  2170, 13856,  ...,  4200,  3496,     3],\n",
       "        [    2,  1808,  9944,  ...,  2607,  2090,     3],\n",
       "        ...,\n",
       "        [    2,  3031,    45,  ...,  2202,  2423,     3],\n",
       "        [    2,  5051,  2168,  ..., 28310,  1905,     3],\n",
       "        [    2,  1816,  2327,  ..., 15791,  2423,     3]])"
      ]
     },
     "execution_count": 73,
     "metadata": {},
     "output_type": "execute_result"
    }
   ],
   "source": [
    "x"
   ]
  },
  {
   "cell_type": "code",
   "execution_count": 74,
   "metadata": {},
   "outputs": [
    {
     "data": {
      "text/plain": [
       "tensor([[ 2580,  1827,  1908,  ...,  2561,     3,     3],\n",
       "        [ 2170, 13856,  6368,  ...,  3496,     3,     3],\n",
       "        [ 1808,  9944, 15543,  ...,  2090,     3,     3],\n",
       "        ...,\n",
       "        [ 3031,    45,  1822,  ...,  2423,     3,     3],\n",
       "        [ 5051,  2168,  1774,  ...,  1905,     3,     3],\n",
       "        [ 1816,  2327,  1828,  ...,  2423,     3,     3]])"
      ]
     },
     "execution_count": 74,
     "metadata": {},
     "output_type": "execute_result"
    }
   ],
   "source": [
    "y"
   ]
  },
  {
   "cell_type": "markdown",
   "metadata": {},
   "source": [
    "### Добавим в обучение gradient clipping\n",
    "\n",
    "Эта техника помогает меньше влиять взрыву градиента за счет того, что мы нормируем наши градиенты, если норма прошла какой-то порог. Обычные значения от 0 до 10. Чем меньше, тем сильнее влияние этой нормировки."
   ]
  },
  {
   "cell_type": "code",
   "execution_count": 75,
   "metadata": {},
   "outputs": [],
   "source": [
    "def train(model, loader, criterion, optimizer, clip=3., last_n_losses=500, verbose=True):\n",
    "    \n",
    "    losses = []\n",
    "\n",
    "    progress_bar = tqdm(total=len(loader.dataset), disable=not verbose, desc='Train')\n",
    "\n",
    "    model.train()\n",
    "\n",
    "    for x, y in loader:\n",
    "        \n",
    "        x = x.to(device)\n",
    "        y = y.to(device)\n",
    "        \n",
    "        pred = model(x)\n",
    "\n",
    "        loss = criterion(pred.view(-1, pred.size(-1)), y.view(-1))\n",
    "\n",
    "        optimizer.zero_grad()\n",
    "        loss.backward()\n",
    "        # рассчитали градиенты и клипаем их\n",
    "        torch.nn.utils.clip_grad_norm_(model.parameters(), clip)\n",
    "        optimizer.step()\n",
    "\n",
    "        losses.append(loss.item())\n",
    "\n",
    "        progress_bar.set_postfix(loss=np.mean(losses[-last_n_losses:]),\n",
    "                                 perplexity=np.exp(np.mean(losses[-last_n_losses:])))\n",
    "\n",
    "        progress_bar.update()\n",
    "\n",
    "    progress_bar.close()\n",
    "    \n",
    "    return losses"
   ]
  },
  {
   "cell_type": "code",
   "execution_count": 76,
   "metadata": {},
   "outputs": [],
   "source": [
    "model = LanguageModel(vocab_size=vocab_size, embedding_dim=embedding_dim, model_dim=model_dim, \n",
    "                      num_layers=num_layers, padding_idx=pad_index, weight_tying=True)\n",
    "\n",
    "model.to(device)\n",
    "optimizer = torch.optim.Adam(params=model.parameters())"
   ]
  },
  {
   "cell_type": "code",
   "execution_count": 77,
   "metadata": {},
   "outputs": [
    {
     "name": "stderr",
     "output_type": "stream",
     "text": [
      "Train: 100%|██████████| 495/495 [00:11<00:00, 44.36it/s, loss=7.71, perplexity=2.24e+3]\n"
     ]
    }
   ],
   "source": [
    "epoch_losses = train(model, validation_loader, criterion, optimizer)"
   ]
  },
  {
   "cell_type": "markdown",
   "metadata": {},
   "source": [
    "### Сильно ускорились \n",
    "\n",
    "### Все готово для того, чтобы начать обучение "
   ]
  },
  {
   "cell_type": "code",
   "execution_count": 78,
   "metadata": {},
   "outputs": [],
   "source": [
    "embedding_dim = 512\n",
    "model_dim = 512\n",
    "num_layers = 3"
   ]
  },
  {
   "cell_type": "code",
   "execution_count": 79,
   "metadata": {},
   "outputs": [],
   "source": [
    "vocab_size = 30_000\n",
    "pad_index = 0"
   ]
  },
  {
   "cell_type": "code",
   "execution_count": 80,
   "metadata": {},
   "outputs": [],
   "source": [
    "model = LanguageModel(vocab_size=vocab_size, embedding_dim=embedding_dim, model_dim=model_dim, \n",
    "                      num_layers=num_layers, padding_idx=pad_index, weight_tying=True)\n",
    "\n",
    "model.to(device)\n",
    "optimizer = torch.optim.Adam(params=model.parameters())"
   ]
  },
  {
   "cell_type": "code",
   "execution_count": 81,
   "metadata": {},
   "outputs": [
    {
     "name": "stdout",
     "output_type": "stream",
     "text": [
      "Количество обучаемых параметров в сети: 21,663,744\n"
     ]
    }
   ],
   "source": [
    "print(f'Количество обучаемых параметров в сети: {count_parameters(model):,}')"
   ]
  },
  {
   "cell_type": "code",
   "execution_count": 82,
   "metadata": {},
   "outputs": [],
   "source": [
    "# # если вы перезапускаете обучение и хотите продолжить его\n",
    "# # то есть у вас должны уже быть эти стейт дикты\n",
    "\n",
    "# # подгружаем свою обученную модель\n",
    "# model.load_state_dict(torch.load('best_language_model_state_dict.pth'))\n",
    "\n",
    "# # загружаем (и соответственно во время тренировки сохраняем) оптимизатор (с той же эпохи)\n",
    "# # это нужно потому что в нем хранятся нужные статистики\n",
    "# # которые мы считали во время обучения, например, для моментума\n",
    "# optimizer.load_state_dict(torch.load('best_optimizer_state_dict.pth'))"
   ]
  },
  {
   "cell_type": "code",
   "execution_count": 83,
   "metadata": {},
   "outputs": [
    {
     "name": "stderr",
     "output_type": "stream",
     "text": [
      "Train: 100%|██████████| 9410/9410 [09:41<00:00, 16.17it/s, loss=5.58, perplexity=264]   \n",
      "Evaluate: 100%|██████████| 495/495 [00:09<00:00, 50.10it/s, loss=5.38, perplexity=217]\n"
     ]
    },
    {
     "name": "stdout",
     "output_type": "stream",
     "text": [
      "Epoch: 1\n",
      "Train: loss - 6.0316 | perplexity - 416.393\n",
      "Validation: loss - 5.3793 | perplexity - 216.865\n"
     ]
    }
   ],
   "source": [
    "# задайте сколько вам комфортно обучать модель по времени\n",
    "# в идеале пару часов\n",
    "epochs = 1\n",
    "\n",
    "train_losses = []\n",
    "validation_losses = []\n",
    "\n",
    "train_perplexities = []\n",
    "validation_perplexities = []\n",
    "\n",
    "best_validation_loss = 1e+6\n",
    "\n",
    "for n_epoch in range(1, epochs + 1):\n",
    "    \n",
    "    epoch_train_losses = train(model, train_loader, criterion, optimizer)\n",
    "    epoch_validation_losses = evaluate(model, validation_loader, criterion)\n",
    "    \n",
    "    mean_train_loss = np.mean(epoch_train_losses)\n",
    "    mean_validation_loss = np.mean(epoch_validation_losses)\n",
    "    \n",
    "    train_losses.append(epoch_train_losses)\n",
    "    train_perplexities.append(np.exp(mean_train_loss))\n",
    "    \n",
    "    validation_losses.append(epoch_validation_losses)\n",
    "    validation_perplexities.append(np.exp(mean_validation_loss))\n",
    "    \n",
    "    message = f'Epoch: {n_epoch}\\n'\n",
    "    message += f'Train: loss - {mean_train_loss:.4f} | perplexity - {train_perplexities[-1]:.3f}\\n'\n",
    "    message += f'Validation: loss - {mean_validation_loss:.4f} | perplexity - {validation_perplexities[-1]:.3f}'\n",
    "    \n",
    "    print(message)\n",
    "    \n",
    "    if mean_validation_loss < best_validation_loss:\n",
    "        \n",
    "        best_validation_loss = mean_validation_loss\n",
    "        \n",
    "        torch.save(model.state_dict(), f'best_language_model_state_dict.pth')\n",
    "        torch.save(optimizer.state_dict(), 'best_optimizer_state_dict.pth')\n",
    "        \n",
    "    else:\n",
    "        break\n",
    "        \n",
    "    torch.save(model.state_dict(), f'last_language_model_state_dict.pth')\n",
    "    torch.save(optimizer.state_dict(), 'last_optimizer_state_dict.pth')\n",
    "\n",
    "    with open(f'info_{n_epoch}.json', 'w') as file_object:\n",
    "\n",
    "        info = {\n",
    "            'message': message,\n",
    "            'train_losses': train_losses,\n",
    "            'validation_losses': validation_losses,\n",
    "            'train_perplexities': train_perplexities,\n",
    "            'validation_perplexities': validation_perplexities\n",
    "        }\n",
    "\n",
    "        file_object.write(json.dumps(info, indent=2))"
   ]
  },
  {
   "cell_type": "code",
   "execution_count": 84,
   "metadata": {},
   "outputs": [
    {
     "data": {
      "text/plain": [
       "<All keys matched successfully>"
      ]
     },
     "execution_count": 84,
     "metadata": {},
     "output_type": "execute_result"
    }
   ],
   "source": [
    "# подгружаем свою лучшую обученную модель\n",
    "model.load_state_dict(torch.load('best_language_model_state_dict.pth'))"
   ]
  },
  {
   "cell_type": "markdown",
   "metadata": {},
   "source": [
    "## Генерируем продолжение текста aka \"Накидайте фото красивых песен\""
   ]
  },
  {
   "cell_type": "code",
   "execution_count": 85,
   "metadata": {},
   "outputs": [],
   "source": [
    "def generate(seed_text, bos_index=2, eos_index=3, max_sequence=512):\n",
    "    \n",
    "    # мы используем какой-нибудь seed text для того, по нему предсказать продолжение\n",
    "    tokenized = tokenizer.encode([seed_text])\n",
    "    \n",
    "    # добавляем тег начала предложения\n",
    "    tokenized[0].insert(0, bos_index)\n",
    "    x = torch.tensor(tokenized).long().to(device)\n",
    "    \n",
    "    model.eval()\n",
    "\n",
    "    with torch.no_grad():\n",
    "\n",
    "        # получим представления модели от нашего сид текста\n",
    "        emb = model.embedding_layer(x)\n",
    "\n",
    "        emb = model.embedding_dropout(emb)\n",
    "\n",
    "        lstm_out, mem = model.lstm(emb)\n",
    "\n",
    "        token_pred = model.language_model_head(lstm_out)\n",
    "\n",
    "        # семлируем последнее слово, что подать его на вход генератору\n",
    "        current_token = x[:, -1].unsqueeze(0)\n",
    "        \n",
    "        pred = []\n",
    "\n",
    "        # начинаем генерацию\n",
    "        # у нас есть текущий токен и mem от того, что мы уже предсказали\n",
    "        for timestamp in range(max_sequence):\n",
    "\n",
    "            emb = model.embedding_layer(current_token)\n",
    "\n",
    "            lstm_out, mem = model.lstm(emb, mem)\n",
    "\n",
    "            next_token_prediction = model.language_model_head(lstm_out)\n",
    "\n",
    "            pred.append(next_token_prediction)\n",
    "\n",
    "            current_token = next_token_prediction.argmax(dim=2)\n",
    "\n",
    "            # останавливаем генерировать текст, когда встретили токен конца предложения\n",
    "            if current_token == eos_index:\n",
    "                break\n",
    "\n",
    "        pred = torch.cat(pred, dim=1)\n",
    "\n",
    "    tokens = pred.argmax(dim=-1).detach().cpu().numpy()\n",
    "    predicted_text = tokenizer.decode(tokens.tolist())[0]\n",
    "    \n",
    "    return seed_text + ' ' + predicted_text[:predicted_text.index('<EOS>')]"
   ]
  },
  {
   "cell_type": "code",
   "execution_count": 86,
   "metadata": {
    "scrolled": false
   },
   "outputs": [
    {
     "name": "stdout",
     "output_type": "stream",
     "text": [
      "Оригинальный текст: я\n",
      "Сгенерированное продолжение: я хочу стать в интернете\n",
      "\n",
      "Оригинальный текст: почему\n",
      "Сгенерированное продолжение: почему в россии не было много и не было\n",
      "\n",
      "Оригинальный текст: зачем\n",
      "Сгенерированное продолжение: зачем нужны эти кроссовки в москве?\n",
      "\n",
      "Оригинальный текст: мне\n",
      "Сгенерированное продолжение: мне кажется что я хочу стать\n",
      "\n",
      "Оригинальный текст: у меня болит\n",
      "Сгенерированное продолжение: у меня болит \n",
      "\n",
      "Оригинальный текст: у меня\n",
      "Сгенерированное продолжение: у меня не могу найти работу в москве\n",
      "\n",
      "Оригинальный текст: откуда\n",
      "Сгенерированное продолжение: откуда эта девушка?\n",
      "\n",
      "Оригинальный текст: решите\n",
      "Сгенерированное продолжение: решите пожалуйста\n",
      "\n",
      "Оригинальный текст: я понимаю что вопрос странный но\n",
      "Сгенерированное продолжение: я понимаю что вопрос странный но не знаю как быть?\n",
      "\n",
      "Оригинальный текст: какие бывают\n",
      "Сгенерированное продолжение: какие бывают виды в россии\n",
      "\n",
      "Оригинальный текст: стоит ли\n",
      "Сгенерированное продолжение: стоит ли покупать в москве с помощью какой страны можно сделать такой эффект\n",
      "\n",
      "Оригинальный текст: нормально ли\n",
      "Сгенерированное продолжение: нормально ли что если я не могу найти работу в интернете\n",
      "\n",
      "Оригинальный текст: что это\n",
      "Сгенерированное продолжение: что это за растение?\n",
      "\n",
      "Оригинальный текст: почему меня\n",
      "Сгенерированное продолжение: почему меня не хотят\n",
      "\n",
      "Оригинальный текст: кто\n",
      "Сгенерированное продолжение: кто знает как называется этот стиль\n",
      "\n",
      "Оригинальный текст: кто такой\n",
      "Сгенерированное продолжение: кто такой \n",
      "\n",
      "Оригинальный текст: что лучше\n",
      "Сгенерированное продолжение: что лучше купить в пределах 200 000 рублей\n",
      "\n",
      "Оригинальный текст: что могут сделать за\n",
      "Сгенерированное продолжение: что могут сделать за что я не могу найти работу в москве\n",
      "\n",
      "Оригинальный текст: перечислите чем лучше\n",
      "Сгенерированное продолжение: перечислите чем лучше всего заниматься в интернете?\n",
      "\n",
      "Оригинальный текст: кто автор\n",
      "Сгенерированное продолжение: кто автор ных и как его сделать?\n",
      "\n",
      "Оригинальный текст: как сделать\n",
      "Сгенерированное продолжение: как сделать чтобы в фотошопе не было не могу найти\n",
      "\n",
      "Оригинальный текст: кто убил\n",
      "Сгенерированное продолжение: кто убил в россии\n",
      "\n",
      "Оригинальный текст: накидайте\n",
      "Сгенерированное продолжение: накидайте пожалуйста\n",
      "\n",
      "Оригинальный текст: порекомендуйте\n",
      "Сгенерированное продолжение: порекомендуйте книгу по описанию\n",
      "\n",
      "Оригинальный текст: как правильно\n",
      "Сгенерированное продолжение: как правильно написать заявление на службу в колледж\n",
      "\n",
      "Оригинальный текст: что вы\n",
      "Сгенерированное продолжение: что вы думаете о его творчестве?\n",
      "\n",
      "Оригинальный текст: что ты\n",
      "Сгенерированное продолжение: что ты не можешь\n",
      "\n",
      "Оригинальный текст: зачем ты\n",
      "Сгенерированное продолжение: зачем ты не можешь\n",
      "\n",
      "Оригинальный текст: почему ты\n",
      "Сгенерированное продолжение: почему ты не можешь\n",
      "\n",
      "Оригинальный текст: за что\n",
      "Сгенерированное продолжение: за что делать если я хочу стать таким же\n",
      "\n",
      "Оригинальный текст: с чем\n",
      "Сгенерированное продолжение: с чем можно заменить такой эффект\n",
      "\n",
      "Оригинальный текст: с кем\n",
      "Сгенерированное продолжение: с кем вы хотели бы жить в этом году?\n",
      "\n",
      "Оригинальный текст: почему она\n",
      "Сгенерированное продолжение: почему она не хочет меня в этом году?\n",
      "\n",
      "Оригинальный текст: почему он\n",
      "Сгенерированное продолжение: почему он не хочет меня\n",
      "\n",
      "Оригинальный текст: я хочу\n",
      "Сгенерированное продолжение: я хочу узнать как называется этот стиль\n",
      "\n",
      "Оригинальный текст: я хочу чтобы девушка\n",
      "Сгенерированное продолжение: я хочу чтобы девушка не хочет\n",
      "\n",
      "Оригинальный текст: я хочу чтобы моя\n",
      "Сгенерированное продолжение: я хочу чтобы моя подруга постоянно хочет меня\n",
      "\n",
      "Оригинальный текст: я хочу чтобы моя девушка\n",
      "Сгенерированное продолжение: я хочу чтобы моя девушка хочет меня\n",
      "\n",
      "Оригинальный текст: мне нравится\n",
      "Сгенерированное продолжение: мне нравится девушка\n",
      "\n",
      "Оригинальный текст: почему она\n",
      "Сгенерированное продолжение: почему она не хочет меня в этом году?\n",
      "\n",
      "Оригинальный текст: зачем мне\n",
      "Сгенерированное продолжение: зачем мне нужен ответ на вопрос\n",
      "\n",
      "Оригинальный текст: что она\n",
      "Сгенерированное продолжение: что она думает о ней?\n",
      "\n",
      "Оригинальный текст: что он\n",
      "Сгенерированное продолжение: что он думает о ней?\n",
      "\n",
      "Оригинальный текст: зачем она\n",
      "Сгенерированное продолжение: зачем она хочет меня в этом году?\n",
      "\n",
      "Оригинальный текст: зачем он\n",
      "Сгенерированное продолжение: зачем он хочет меня в этом году?\n",
      "\n",
      "Оригинальный текст: как сделать так чтобы она\n",
      "Сгенерированное продолжение: как сделать так чтобы она не хочет\n",
      "\n",
      "Оригинальный текст: как сделать так чтобы он\n",
      "Сгенерированное продолжение: как сделать так чтобы он не хочет\n",
      "\n",
      "Оригинальный текст: как сделать так чтобы\n",
      "Сгенерированное продолжение: как сделать так чтобы было было бы\n",
      "\n",
      "Оригинальный текст: моя девушка\n",
      "Сгенерированное продолжение: моя девушка хочет меня\n",
      "\n",
      "Оригинальный текст: мой парень\n",
      "Сгенерированное продолжение: мой парень хочет меня\n",
      "\n",
      "Оригинальный текст: чем\n",
      "Сгенерированное продолжение: чем отличается от чего от них от них?)\n",
      "\n",
      "Оригинальный текст: кем\n",
      "Сгенерированное продолжение: кем работать в этом году\n",
      "\n",
      "Оригинальный текст: как\n",
      "Сгенерированное продолжение: как называется этот стиль\n",
      "\n"
     ]
    }
   ],
   "source": [
    "# здесь мы задаем для нашей модели некоторое состояние, то есть некоторые первые слова\n",
    "# и модель должна продолжить сказанное\n",
    "\n",
    "# изначально здесь продолжения текстов, нагенерированные моделью, которая училась несколько часов\n",
    "# лосс в районе 4, перплексия примерно 55 и на чуть других данных\n",
    "# вы можете учить меньше\n",
    "seed_texts = [\n",
    "    'я',\n",
    "    'почему',\n",
    "    'зачем',\n",
    "    'мне',\n",
    "    'у меня болит',\n",
    "    'у меня',\n",
    "    'откуда',\n",
    "    'решите',\n",
    "    'я понимаю что вопрос странный но',\n",
    "    'какие бывают',\n",
    "    'стоит ли',\n",
    "    'нормально ли',\n",
    "    'что это',\n",
    "    'почему меня',\n",
    "    'кто',\n",
    "    'кто такой',\n",
    "    'что лучше',\n",
    "    'что могут сделать за',\n",
    "    'перечислите чем лучше',\n",
    "    'кто автор',\n",
    "    'как сделать',\n",
    "    'кто убил',\n",
    "    'накидайте',\n",
    "    'порекомендуйте',\n",
    "    'как правильно',\n",
    "    'что вы',\n",
    "    'что ты',\n",
    "    'зачем ты',\n",
    "    'почему ты',\n",
    "    'за что',\n",
    "    'с чем',\n",
    "    'с кем',\n",
    "    'почему она',\n",
    "    'почему он',\n",
    "    'я хочу',\n",
    "    'я хочу чтобы девушка',\n",
    "    'я хочу чтобы моя',\n",
    "    'я хочу чтобы моя девушка',\n",
    "    'мне нравится',\n",
    "    'почему она',\n",
    "    'зачем мне',\n",
    "    'что она',\n",
    "    'что он',\n",
    "    'зачем она',\n",
    "    'зачем он',\n",
    "    'как сделать так чтобы она',\n",
    "    'как сделать так чтобы он',\n",
    "    'как сделать так чтобы',\n",
    "    'моя девушка',\n",
    "    'мой парень',\n",
    "    'чем',\n",
    "    'кем',\n",
    "    'как'\n",
    "]\n",
    "\n",
    "for text in seed_texts:\n",
    "    print(f'Оригинальный текст: {text}')\n",
    "    print(f'Сгенерированное продолжение: {generate(text)}')\n",
    "    print()"
   ]
  },
  {
   "cell_type": "code",
   "execution_count": 87,
   "metadata": {
    "scrolled": false
   },
   "outputs": [],
   "source": [
    "# # раскомментируйте, если хотите сами интерактивно пообщаться с моделью\n",
    "# while True:\n",
    "#     seed_text = input('Ваш текст: ')\n",
    "#     if seed_text in ['стоп', 'хватит']:\n",
    "#         break\n",
    "#     print('Сгенерированный с продолжением: ', generate(seed_text))"
   ]
  },
  {
   "cell_type": "markdown",
   "metadata": {},
   "source": [
    "# Научились генерироваться вопросы"
   ]
  },
  {
   "cell_type": "markdown",
   "metadata": {},
   "source": [
    "# Домашка №3\n",
    "## Seq2Seq\n",
    "### Научиться генерировать ответы по вопросу\n",
    "\n",
    "### Вам понадобится:\n",
    "1. Написать *Dataset* для задачи seq2seq\n",
    "1. Реализовать модель\n",
    "1. Сделать цикл обучения\n",
    "1. Реализовать метод генерации ответа по вопросу с помощью вашей модели\n",
    "\n",
    "### Примерный список того, что можно сделать:\n",
    "Необязательно реализовывать все\n",
    "1. Сделать модель, основанную на lstm/gru **5 баллов**\n",
    "1. Сделать модель, основанную на cnn **7 баллов**\n",
    "1. Сделать модель, основанную на трансформере (реализовать все слои самому) **10 баллов**\n",
    "1. Добавить в rnn/cnn модель attention **5 баллов**\n",
    "1. Реализовать жадное семплирование (генерацию по самому вероятному токену, как выше в языковой модели) **3 балла**\n",
    "1. Реализовать beam search **5 баллов**\n",
    "1. Реализовать nucleus sampling **5 баллов**\n",
    "1. Добавить condition в модель **3 балла**\n",
    "1. Добавить layer norm/residual в cnn или rnn модель **1 балл**\n",
    "1. Реализовать аккамуляцию градиентов **1 балл**\n",
    "1. Сделать телеграм бота **2 балла**\n",
    "\n",
    "#### Дополнительные детали:  \n",
    "**Сделать модель** подразумевает весь код с обучением и генерацией ответа по аналогии с языковой моделью.  \n",
    "**6-й пункт:** у нас есть категория вопроса и мы можем явным образом добавить эту информацию в модель. Затем мы сможем задавать вопрос из любой категории, а отвечать таким ответом, которой больше будет соответствовать категории (которую мы сможем сами задать в модель). То есть на этапе предсказания мы задаем сети вопрос и категорию ответа, то есть в каком стиле наша сеть должна ответить. То есть должно получиться что-то такое:\n",
    "```\n",
    "Вопрос пользователя:\n",
    "    Что мне делать с моей девушкой? она плохо себя ведет\n",
    "\n",
    "Задаем категорию:\n",
    "    Авто\n",
    "Ответ модели:\n",
    "    Сдайте ее в техосмотр\n",
    "\n",
    "Задаем категорию:\n",
    "    Сад и огород\n",
    "Ответ модели:\n",
    "    Вам нужно лучше ее поливать\n",
    "```\n",
    "**7-й пункт:**  \n",
    "Статья: https://arxiv.org/pdf/1904.09751.pdf  \n",
    "В помощь: https://huggingface.co/blog/how-to-generate"
   ]
  },
  {
   "cell_type": "markdown",
   "metadata": {},
   "source": [
    "### Данные для seq2seq\n",
    "***Данные*** - это файл, где каждая строка - json объект формата:\n",
    "```json\n",
    "{\n",
    "    \"question\": \"вопрос\",\n",
    "    \"category\": \"некоторая категория вопроса\",\n",
    "    \"responses\": [\n",
    "        \"первый ответ на вопрос\",\n",
    "        \"второй ответ на вопрос\",\n",
    "        \"третий ответ на вопрос\",\n",
    "    ]\n",
    "}\n",
    "```\n",
    "Количество ответов: от 1 до 5\n",
    "\n",
    "Эти данные лучше очищены, так что советую переобучить BPE.  \n",
    "Необязательно учиться на всех данных. Вы можете взять половину/четверть, если не хотите долго ждать. Так результаты будут похуже, но быстрее."
   ]
  },
  {
   "cell_type": "code",
   "execution_count": 88,
   "metadata": {},
   "outputs": [
    {
     "ename": "FileNotFoundError",
     "evalue": "[Errno 2] No such file or directory: 'qa_data.jsonl'",
     "output_type": "error",
     "traceback": [
      "\u001b[0;31m---------------------------------------------------------------------------\u001b[0m",
      "\u001b[0;31mFileNotFoundError\u001b[0m                         Traceback (most recent call last)",
      "\u001b[0;32m<ipython-input-88-2e8c47491ac5>\u001b[0m in \u001b[0;36m<module>\u001b[0;34m\u001b[0m\n\u001b[1;32m      1\u001b[0m \u001b[0mqa_data\u001b[0m \u001b[0;34m=\u001b[0m \u001b[0mlist\u001b[0m\u001b[0;34m(\u001b[0m\u001b[0;34m)\u001b[0m\u001b[0;34m\u001b[0m\u001b[0;34m\u001b[0m\u001b[0m\n\u001b[1;32m      2\u001b[0m \u001b[0;34m\u001b[0m\u001b[0m\n\u001b[0;32m----> 3\u001b[0;31m \u001b[0;32mwith\u001b[0m \u001b[0mopen\u001b[0m\u001b[0;34m(\u001b[0m\u001b[0;34m'qa_data.jsonl'\u001b[0m\u001b[0;34m)\u001b[0m \u001b[0;32mas\u001b[0m \u001b[0mfile_object\u001b[0m\u001b[0;34m:\u001b[0m\u001b[0;34m\u001b[0m\u001b[0;34m\u001b[0m\u001b[0m\n\u001b[0m\u001b[1;32m      4\u001b[0m     \u001b[0;32mfor\u001b[0m \u001b[0m_\u001b[0m \u001b[0;32min\u001b[0m \u001b[0mrange\u001b[0m\u001b[0;34m(\u001b[0m\u001b[0;36m5\u001b[0m\u001b[0;34m)\u001b[0m\u001b[0;34m:\u001b[0m\u001b[0;34m\u001b[0m\u001b[0;34m\u001b[0m\u001b[0m\n\u001b[1;32m      5\u001b[0m         \u001b[0mline\u001b[0m \u001b[0;34m=\u001b[0m \u001b[0mfile_object\u001b[0m\u001b[0;34m.\u001b[0m\u001b[0mreadline\u001b[0m\u001b[0;34m(\u001b[0m\u001b[0;34m)\u001b[0m\u001b[0;34m.\u001b[0m\u001b[0mstrip\u001b[0m\u001b[0;34m(\u001b[0m\u001b[0;34m)\u001b[0m\u001b[0;34m\u001b[0m\u001b[0;34m\u001b[0m\u001b[0m\n",
      "\u001b[0;31mFileNotFoundError\u001b[0m: [Errno 2] No such file or directory: 'qa_data.jsonl'"
     ]
    }
   ],
   "source": [
    "qa_data = list()\n",
    "\n",
    "with open('qa_data.jsonl') as file_object:\n",
    "    for _ in range(5):\n",
    "        line = file_object.readline().strip()\n",
    "        \n",
    "        qa_data.append(json.loads(line))"
   ]
  },
  {
   "cell_type": "code",
   "execution_count": null,
   "metadata": {},
   "outputs": [],
   "source": [
    "qa_data"
   ]
  },
  {
   "cell_type": "code",
   "execution_count": null,
   "metadata": {},
   "outputs": [],
   "source": [
    "# чтобы прочитать весь файл\n",
    "\n",
    "qa_data = list()\n",
    "\n",
    "with open('qa_data.jsonl') as file_object:\n",
    "    for line in file_object:\n",
    "        qa_data.append(json.loads(line.strip()))"
   ]
  },
  {
   "cell_type": "code",
   "execution_count": null,
   "metadata": {},
   "outputs": [],
   "source": []
  }
 ],
 "metadata": {
  "kernelspec": {
   "display_name": "Python 3",
   "language": "python",
   "name": "python3"
  },
  "language_info": {
   "codemirror_mode": {
    "name": "ipython",
    "version": 3
   },
   "file_extension": ".py",
   "mimetype": "text/x-python",
   "name": "python",
   "nbconvert_exporter": "python",
   "pygments_lexer": "ipython3",
   "version": "3.7.6"
  }
 },
 "nbformat": 4,
 "nbformat_minor": 1
}
